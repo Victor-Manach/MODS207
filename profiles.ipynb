{
 "cells": [
  {
   "cell_type": "code",
   "execution_count": 1,
   "id": "6eda754d",
   "metadata": {},
   "outputs": [],
   "source": [
    "import requests\n",
    "from lxml import html\n",
    "import pandas as pd"
   ]
  },
  {
   "cell_type": "code",
   "execution_count": 2,
   "id": "fd69d8fd",
   "metadata": {},
   "outputs": [],
   "source": [
    "def get_page_nb(url: str) -> int:\n",
    "    '''The url is the start page, and we want to get the total number of pages we need to look at.'''\n",
    "    resp = requests.get(url)\n",
    "    page = html.fromstring(resp.text)\n",
    "    page_nb = page.xpath('//a[contains(@class, \"pagination__link\")]')[-2].text_content() # to get the max of the number of pages, we have to look at the penultimate element of the list of pages because the arrows (that allow user to move on to the next or previous pages) are considered as the same element as page number in the html code of the webpage\n",
    "    return int(page_nb) # return an int to be sure to have an int that can be used after"
   ]
  },
  {
   "cell_type": "code",
   "execution_count": 3,
   "id": "0d9ecd12",
   "metadata": {},
   "outputs": [],
   "source": [
    "# the function below gets the url of all the profiles of one page (with 24 profiles)\n",
    "def get_profiles(url: str, df: pd.DataFrame) -> pd.DataFrame:\n",
    "    '''Get the list of the profiles available on the url and add each profile to a pandas DataFrame'''\n",
    "    resp = requests.get(url)\n",
    "    profiles = html.fromstring(resp.text)\n",
    "    profile_nodes = profiles.xpath('//div[contains(@class, \"card⤍FreelancerCard\")]')\n",
    "    for profile in profile_nodes:\n",
    "#         price = profile.xpath('.//span[contains(@class,\"title-nano card__price\")]')[0].text_content()\n",
    "        profile_url = profile.xpath('.//a')[0].get('href') # the first element is always the link towards the full profile of the person\n",
    "        entry = {\n",
    "            'url' :profile_url\n",
    "        }\n",
    "        df = df.append(entry, ignore_index=True)\n",
    "    return df"
   ]
  },
  {
   "cell_type": "code",
   "execution_count": 4,
   "id": "c4b7cd5b",
   "metadata": {},
   "outputs": [],
   "source": [
    "def get_all_profiles(start_page: str, nb_page: int, verbose:int =1) -> pd.DataFrame:\n",
    "    \"\"\"\n",
    "    Get all the profiles of the freelancers working in the Writing & Translation category.\n",
    "    \"\"\"\n",
    "    df = pd.DataFrame(columns=['url'])\n",
    "    txt = '***********'\n",
    "    for i in range(1,nb_page+1):\n",
    "        page_url = start_page + '?page={}'.format(i)\n",
    "        df = get_profiles(page_url, df)\n",
    "        if verbose==1:\n",
    "            if i%50==0:\n",
    "                if i<=50:\n",
    "                    print('page {}/{}'.format(i, max_page))\n",
    "                    print(txt)\n",
    "                else:\n",
    "                    print('page {}/{}'.format(i, max_page))\n",
    "                    print(txt+'*')\n",
    "    print('End of scraping...')\n",
    "    return df"
   ]
  },
  {
   "cell_type": "code",
   "execution_count": 5,
   "id": "ab5af012",
   "metadata": {
    "scrolled": false
   },
   "outputs": [
    {
     "name": "stdout",
     "output_type": "stream",
     "text": [
      "**************\n",
      "page 50/417\n",
      "**************\n",
      "**************\n",
      "page 100/417\n",
      "**************\n",
      "**************\n",
      "page 150/417\n",
      "**************\n",
      "**************\n",
      "page 200/417\n",
      "**************\n",
      "**************\n",
      "page 250/417\n",
      "**************\n",
      "**************\n",
      "page 300/417\n",
      "**************\n",
      "**************\n",
      "page 350/417\n",
      "**************\n",
      "**************\n",
      "page 400/417\n",
      "**************\n",
      "End of the profile urls scraping...\n"
     ]
    }
   ],
   "source": [
    "start_page = 'https://www.peopleperhour.com/hire-freelancers/writing-translation'\n",
    "max_page = get_page_nb(start_page)\n",
    "df = get_all_profiles(start_page, max_page)"
   ]
  },
  {
   "cell_type": "code",
   "execution_count": 6,
   "id": "62274ae7",
   "metadata": {},
   "outputs": [
    {
     "data": {
      "text/html": [
       "<div>\n",
       "<style scoped>\n",
       "    .dataframe tbody tr th:only-of-type {\n",
       "        vertical-align: middle;\n",
       "    }\n",
       "\n",
       "    .dataframe tbody tr th {\n",
       "        vertical-align: top;\n",
       "    }\n",
       "\n",
       "    .dataframe thead th {\n",
       "        text-align: right;\n",
       "    }\n",
       "</style>\n",
       "<table border=\"1\" class=\"dataframe\">\n",
       "  <thead>\n",
       "    <tr style=\"text-align: right;\">\n",
       "      <th></th>\n",
       "      <th>url</th>\n",
       "    </tr>\n",
       "  </thead>\n",
       "  <tbody>\n",
       "    <tr>\n",
       "      <th>0</th>\n",
       "      <td>https://www.peopleperhour.com/freelancer/writi...</td>\n",
       "    </tr>\n",
       "    <tr>\n",
       "      <th>1</th>\n",
       "      <td>https://www.peopleperhour.com/freelancer/writi...</td>\n",
       "    </tr>\n",
       "    <tr>\n",
       "      <th>2</th>\n",
       "      <td>https://www.peopleperhour.com/freelancer/writi...</td>\n",
       "    </tr>\n",
       "    <tr>\n",
       "      <th>3</th>\n",
       "      <td>https://www.peopleperhour.com/freelancer/writi...</td>\n",
       "    </tr>\n",
       "    <tr>\n",
       "      <th>4</th>\n",
       "      <td>https://www.peopleperhour.com/freelancer/writi...</td>\n",
       "    </tr>\n",
       "    <tr>\n",
       "      <th>...</th>\n",
       "      <td>...</td>\n",
       "    </tr>\n",
       "    <tr>\n",
       "      <th>10003</th>\n",
       "      <td>https://www.peopleperhour.com/freelancer/al_sa...</td>\n",
       "    </tr>\n",
       "    <tr>\n",
       "      <th>10004</th>\n",
       "      <td>https://www.peopleperhour.com/freelancer/writi...</td>\n",
       "    </tr>\n",
       "    <tr>\n",
       "      <th>10005</th>\n",
       "      <td>https://www.peopleperhour.com/freelancer/socia...</td>\n",
       "    </tr>\n",
       "    <tr>\n",
       "      <th>10006</th>\n",
       "      <td>https://www.peopleperhour.com/freelancer/marke...</td>\n",
       "    </tr>\n",
       "    <tr>\n",
       "      <th>10007</th>\n",
       "      <td>https://www.peopleperhour.com/freelancer/writi...</td>\n",
       "    </tr>\n",
       "  </tbody>\n",
       "</table>\n",
       "<p>10008 rows × 1 columns</p>\n",
       "</div>"
      ],
      "text/plain": [
       "                                                     url\n",
       "0      https://www.peopleperhour.com/freelancer/writi...\n",
       "1      https://www.peopleperhour.com/freelancer/writi...\n",
       "2      https://www.peopleperhour.com/freelancer/writi...\n",
       "3      https://www.peopleperhour.com/freelancer/writi...\n",
       "4      https://www.peopleperhour.com/freelancer/writi...\n",
       "...                                                  ...\n",
       "10003  https://www.peopleperhour.com/freelancer/al_sa...\n",
       "10004  https://www.peopleperhour.com/freelancer/writi...\n",
       "10005  https://www.peopleperhour.com/freelancer/socia...\n",
       "10006  https://www.peopleperhour.com/freelancer/marke...\n",
       "10007  https://www.peopleperhour.com/freelancer/writi...\n",
       "\n",
       "[10008 rows x 1 columns]"
      ]
     },
     "execution_count": 6,
     "metadata": {},
     "output_type": "execute_result"
    }
   ],
   "source": [
    "df"
   ]
  },
  {
   "cell_type": "code",
   "execution_count": 7,
   "id": "65576857",
   "metadata": {},
   "outputs": [],
   "source": [
    "df.to_csv('./profiles_url.csv', index=False)"
   ]
  }
 ],
 "metadata": {
  "kernelspec": {
   "display_name": "Python 3.7.6 64-bit ('base': conda)",
   "language": "python",
   "name": "python37664bitbasecondae5433ad43d13444bb011d4b7eb072777"
  },
  "language_info": {
   "codemirror_mode": {
    "name": "ipython",
    "version": 3
   },
   "file_extension": ".py",
   "mimetype": "text/x-python",
   "name": "python",
   "nbconvert_exporter": "python",
   "pygments_lexer": "ipython3",
   "version": "3.7.6"
  },
  "toc": {
   "base_numbering": 1,
   "nav_menu": {},
   "number_sections": true,
   "sideBar": true,
   "skip_h1_title": false,
   "title_cell": "Table of Contents",
   "title_sidebar": "Contents",
   "toc_cell": false,
   "toc_position": {},
   "toc_section_display": true,
   "toc_window_display": false
  },
  "varInspector": {
   "cols": {
    "lenName": 16,
    "lenType": 16,
    "lenVar": 40
   },
   "kernels_config": {
    "python": {
     "delete_cmd_postfix": "",
     "delete_cmd_prefix": "del ",
     "library": "var_list.py",
     "varRefreshCmd": "print(var_dic_list())"
    },
    "r": {
     "delete_cmd_postfix": ") ",
     "delete_cmd_prefix": "rm(",
     "library": "var_list.r",
     "varRefreshCmd": "cat(var_dic_list()) "
    }
   },
   "types_to_exclude": [
    "module",
    "function",
    "builtin_function_or_method",
    "instance",
    "_Feature"
   ],
   "window_display": false
  }
 },
 "nbformat": 4,
 "nbformat_minor": 5
}
