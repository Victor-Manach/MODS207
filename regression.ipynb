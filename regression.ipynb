{
 "cells": [
  {
   "cell_type": "code",
   "execution_count": 178,
   "id": "af2715e4",
   "metadata": {},
   "outputs": [],
   "source": [
    "import numpy as np\n",
    "import pandas as pd\n",
    "import ast\n",
    "import matplotlib.pyplot as plt\n",
    "import statsmodels.api as sm\n",
    "import datetime\n",
    "\n",
    "from sklearn.model_selection import train_test_split\n",
    "import statsmodels.api as sm"
   ]
  },
  {
   "cell_type": "code",
   "execution_count": 179,
   "id": "a53d4111",
   "metadata": {},
   "outputs": [],
   "source": [
    "scraping_date = '_26_04_2021'\n",
    "data = pd.read_csv('./data/full_profiles'+scraping_date+'.csv')"
   ]
  },
  {
   "cell_type": "code",
   "execution_count": 180,
   "id": "ca5177a2",
   "metadata": {},
   "outputs": [
    {
     "data": {
      "text/html": [
       "<div>\n",
       "<style scoped>\n",
       "    .dataframe tbody tr th:only-of-type {\n",
       "        vertical-align: middle;\n",
       "    }\n",
       "\n",
       "    .dataframe tbody tr th {\n",
       "        vertical-align: top;\n",
       "    }\n",
       "\n",
       "    .dataframe thead th {\n",
       "        text-align: right;\n",
       "    }\n",
       "</style>\n",
       "<table border=\"1\" class=\"dataframe\">\n",
       "  <thead>\n",
       "    <tr style=\"text-align: right;\">\n",
       "      <th></th>\n",
       "      <th>name</th>\n",
       "      <th>languages</th>\n",
       "      <th>description</th>\n",
       "      <th>rating</th>\n",
       "      <th>nb_reviews</th>\n",
       "      <th>Price/hour in USD</th>\n",
       "      <th>skills</th>\n",
       "      <th>industry_expertise</th>\n",
       "      <th>nb_projects</th>\n",
       "      <th>nb_buyers</th>\n",
       "      <th>last_active</th>\n",
       "      <th>gender</th>\n",
       "      <th>city</th>\n",
       "      <th>country</th>\n",
       "    </tr>\n",
       "  </thead>\n",
       "  <tbody>\n",
       "    <tr>\n",
       "      <th>0</th>\n",
       "      <td>Maria H.</td>\n",
       "      <td>['English']</td>\n",
       "      <td>We are a small UK based company speciaIising i...</td>\n",
       "      <td>4.9</td>\n",
       "      <td>4694</td>\n",
       "      <td>34.74</td>\n",
       "      <td>['animation', 'graphics design', 'brand design...</td>\n",
       "      <td>['IT', 'Internet', 'Marketing', 'Media', 'Tech...</td>\n",
       "      <td>7672</td>\n",
       "      <td>4168</td>\n",
       "      <td>26-04-2021</td>\n",
       "      <td>female</td>\n",
       "      <td>Sheffield</td>\n",
       "      <td>United Kingdom</td>\n",
       "    </tr>\n",
       "    <tr>\n",
       "      <th>1</th>\n",
       "      <td>Cormac Reynolds</td>\n",
       "      <td>['English']</td>\n",
       "      <td>Looking for a link building solution or some g...</td>\n",
       "      <td>5.0</td>\n",
       "      <td>1190</td>\n",
       "      <td>138.95</td>\n",
       "      <td>['online marketing', 'link building', 'marketi...</td>\n",
       "      <td>[]</td>\n",
       "      <td>1085</td>\n",
       "      <td>533</td>\n",
       "      <td>25-04-2021</td>\n",
       "      <td>unknown</td>\n",
       "      <td>City of London</td>\n",
       "      <td>United Kingdom</td>\n",
       "    </tr>\n",
       "    <tr>\n",
       "      <th>2</th>\n",
       "      <td>Denise Toepel</td>\n",
       "      <td>['English', 'Spanish', 'French']</td>\n",
       "      <td>I am a Translation Specialist.  I work in publ...</td>\n",
       "      <td>0.0</td>\n",
       "      <td>0</td>\n",
       "      <td>27.79</td>\n",
       "      <td>['English translation', 'French &lt;=&gt; English', ...</td>\n",
       "      <td>['Education', 'Telecommunications']</td>\n",
       "      <td>0</td>\n",
       "      <td>0</td>\n",
       "      <td>25-04-2021</td>\n",
       "      <td>female</td>\n",
       "      <td>Cuenca</td>\n",
       "      <td>Ecuador</td>\n",
       "    </tr>\n",
       "    <tr>\n",
       "      <th>3</th>\n",
       "      <td>Translate Guru .</td>\n",
       "      <td>[]</td>\n",
       "      <td>Hello! Hola! Ciao! Bonjour! 你好!\\r\\n\\r\\nI do hi...</td>\n",
       "      <td>4.9</td>\n",
       "      <td>598</td>\n",
       "      <td>20.00</td>\n",
       "      <td>['German &lt;=&gt; English translation', 'Arabic &lt;=&gt;...</td>\n",
       "      <td>[]</td>\n",
       "      <td>721</td>\n",
       "      <td>376</td>\n",
       "      <td>26-04-2021</td>\n",
       "      <td>unknown</td>\n",
       "      <td>Cannanore</td>\n",
       "      <td>India</td>\n",
       "    </tr>\n",
       "    <tr>\n",
       "      <th>4</th>\n",
       "      <td>Logical Translation &amp; Localisation</td>\n",
       "      <td>['English', 'Spanish', 'French', 'Italian']</td>\n",
       "      <td>OFFERING A WIDE RANGE OF TRANSLATION SERVICES\\...</td>\n",
       "      <td>4.9</td>\n",
       "      <td>135</td>\n",
       "      <td>27.79</td>\n",
       "      <td>['editing', 'proofreading', 'German translatio...</td>\n",
       "      <td>['Advertising', 'Aerospace', 'Automotive', 'Co...</td>\n",
       "      <td>140</td>\n",
       "      <td>100</td>\n",
       "      <td>24-04-2021</td>\n",
       "      <td>unknown</td>\n",
       "      <td>City of London</td>\n",
       "      <td>United Kingdom</td>\n",
       "    </tr>\n",
       "  </tbody>\n",
       "</table>\n",
       "</div>"
      ],
      "text/plain": [
       "                                 name  \\\n",
       "0                            Maria H.   \n",
       "1                     Cormac Reynolds   \n",
       "2                       Denise Toepel   \n",
       "3                    Translate Guru .   \n",
       "4  Logical Translation & Localisation   \n",
       "\n",
       "                                     languages  \\\n",
       "0                                  ['English']   \n",
       "1                                  ['English']   \n",
       "2             ['English', 'Spanish', 'French']   \n",
       "3                                           []   \n",
       "4  ['English', 'Spanish', 'French', 'Italian']   \n",
       "\n",
       "                                         description  rating  nb_reviews  \\\n",
       "0  We are a small UK based company speciaIising i...     4.9        4694   \n",
       "1  Looking for a link building solution or some g...     5.0        1190   \n",
       "2  I am a Translation Specialist.  I work in publ...     0.0           0   \n",
       "3  Hello! Hola! Ciao! Bonjour! 你好!\\r\\n\\r\\nI do hi...     4.9         598   \n",
       "4  OFFERING A WIDE RANGE OF TRANSLATION SERVICES\\...     4.9         135   \n",
       "\n",
       "   Price/hour in USD                                             skills  \\\n",
       "0              34.74  ['animation', 'graphics design', 'brand design...   \n",
       "1             138.95  ['online marketing', 'link building', 'marketi...   \n",
       "2              27.79  ['English translation', 'French <=> English', ...   \n",
       "3              20.00  ['German <=> English translation', 'Arabic <=>...   \n",
       "4              27.79  ['editing', 'proofreading', 'German translatio...   \n",
       "\n",
       "                                  industry_expertise  nb_projects  nb_buyers  \\\n",
       "0  ['IT', 'Internet', 'Marketing', 'Media', 'Tech...         7672       4168   \n",
       "1                                                 []         1085        533   \n",
       "2                ['Education', 'Telecommunications']            0          0   \n",
       "3                                                 []          721        376   \n",
       "4  ['Advertising', 'Aerospace', 'Automotive', 'Co...          140        100   \n",
       "\n",
       "  last_active   gender            city          country  \n",
       "0  26-04-2021   female       Sheffield   United Kingdom  \n",
       "1  25-04-2021  unknown  City of London   United Kingdom  \n",
       "2  25-04-2021   female          Cuenca          Ecuador  \n",
       "3  26-04-2021  unknown       Cannanore            India  \n",
       "4  24-04-2021  unknown  City of London   United Kingdom  "
      ]
     },
     "execution_count": 180,
     "metadata": {},
     "output_type": "execute_result"
    }
   ],
   "source": [
    "data.head(5)"
   ]
  },
  {
   "cell_type": "markdown",
   "id": "b6ff7185",
   "metadata": {},
   "source": [
    "# Remove inactive profiles (no projects)"
   ]
  },
  {
   "cell_type": "code",
   "execution_count": 181,
   "id": "editorial-machinery",
   "metadata": {},
   "outputs": [
    {
     "name": "stdout",
     "output_type": "stream",
     "text": [
      "Number of workers with inactive profiles: 2930\n"
     ]
    }
   ],
   "source": [
    "print('Number of workers with inactive profiles:',  len(data.loc[(data['nb_projects'] == 0)]))"
   ]
  },
  {
   "cell_type": "code",
   "execution_count": 182,
   "id": "welcome-symposium",
   "metadata": {},
   "outputs": [],
   "source": [
    "data.drop(data.loc[data['nb_projects']==0].index, inplace=True)"
   ]
  },
  {
   "cell_type": "markdown",
   "id": "qualified-genealogy",
   "metadata": {},
   "source": [
    "Almost 30% of all the profiles are thus deleted of our regression analysis. This represents a big proportion of the profiles that we collected but there is still a significant amount of data that makes our study relevant."
   ]
  },
  {
   "cell_type": "markdown",
   "id": "interracial-jersey",
   "metadata": {},
   "source": [
    "# Drop unnecessary features"
   ]
  },
  {
   "cell_type": "code",
   "execution_count": 183,
   "id": "sound-organizer",
   "metadata": {},
   "outputs": [],
   "source": [
    "del data['name'] \n",
    "del data['description'] \n",
    "del data['city'] "
   ]
  },
  {
   "cell_type": "markdown",
   "id": "early-cartoon",
   "metadata": {},
   "source": [
    "# Number of occurrences of all spoken languages"
   ]
  },
  {
   "cell_type": "code",
   "execution_count": 184,
   "id": "318ca295",
   "metadata": {},
   "outputs": [],
   "source": [
    "available_languages = {}\n",
    "languages = np.array(data.languages)\n",
    "for profile_languages in languages:\n",
    "    profile_languages = ast.literal_eval(profile_languages)\n",
    "    if len(profile_languages)>0:\n",
    "        for language in profile_languages:\n",
    "            if language not in available_languages:\n",
    "                available_languages[language] = 1\n",
    "            else:\n",
    "                available_languages[language] += 1"
   ]
  },
  {
   "cell_type": "code",
   "execution_count": 185,
   "id": "852fc728",
   "metadata": {},
   "outputs": [
    {
     "data": {
      "text/plain": [
       "102"
      ]
     },
     "execution_count": 185,
     "metadata": {},
     "output_type": "execute_result"
    }
   ],
   "source": [
    "len(available_languages)"
   ]
  },
  {
   "cell_type": "code",
   "execution_count": 186,
   "id": "71611b6c",
   "metadata": {
    "scrolled": true
   },
   "outputs": [],
   "source": [
    "lang = np.array(list(available_languages.keys()))\n",
    "count_lang = list(available_languages.values())\n",
    "sorted_count_lang = np.argsort(count_lang)[-10:]\n",
    "most_spoken_languages = lang[sorted_count_lang]"
   ]
  },
  {
   "cell_type": "code",
   "execution_count": 187,
   "id": "10c867d1",
   "metadata": {},
   "outputs": [
    {
     "data": {
      "text/plain": [
       "array(['Portuguese', 'Russian', 'Arabic', 'Urdu', 'Italian', 'Hindi',\n",
       "       'German', 'Spanish', 'French', 'English'], dtype='<U13')"
      ]
     },
     "execution_count": 187,
     "metadata": {},
     "output_type": "execute_result"
    }
   ],
   "source": [
    "most_spoken_languages"
   ]
  },
  {
   "cell_type": "markdown",
   "id": "02af41b5",
   "metadata": {},
   "source": [
    "## Create dummy variables for the 10 most spoken languages"
   ]
  },
  {
   "cell_type": "code",
   "execution_count": 188,
   "id": "bb7fa449",
   "metadata": {},
   "outputs": [],
   "source": [
    "n = len(data)\n",
    "english, french, spanish, arabic, german, italian, hindi, urdu, russian, portuguese = np.zeros(n), np.zeros(n), np.zeros(n), np.zeros(n), np.zeros(n), np.zeros(n), np.zeros(n), np.zeros(n), np.zeros(n), np.zeros(n)\n",
    "\n",
    "for i, lang in enumerate(languages):\n",
    "    lang=ast.literal_eval(lang)\n",
    "    if 'English' in lang:\n",
    "        english[i]=1\n",
    "    if 'French' in lang:\n",
    "        french[i]=1\n",
    "    if 'Spanish' in lang:\n",
    "        spanish[i]=1\n",
    "    \"\"\"\n",
    "    if 'Arabic' in lang:\n",
    "        arabic[i]=1\n",
    "    if 'German' in lang:\n",
    "        german[i]=1\n",
    "    if 'Italian' in lang:\n",
    "        italian[i]=1\n",
    "    if 'Hindi' in lang:\n",
    "        hindi[i]=1\n",
    "    if 'Urdu' in lang:\n",
    "        urdu[i]=1\n",
    "    if 'Russian' in lang:\n",
    "        russian[i]=1\n",
    "    if 'Portuguese' in lang:\n",
    "        portuguese[i]=1\n",
    "    \"\"\""
   ]
  },
  {
   "cell_type": "code",
   "execution_count": 189,
   "id": "creative-differential",
   "metadata": {},
   "outputs": [
    {
     "data": {
      "text/plain": [
       "\"\\ndata['arabic'] = arabic\\ndata['german'] = german\\ndata['italian'] = italian\\ndata['hindi'] = hindi\\ndata['urdu'] = urdu\\ndata['russian'] = russian\\ndata['portuguese'] = portuguese\\n\""
      ]
     },
     "execution_count": 189,
     "metadata": {},
     "output_type": "execute_result"
    }
   ],
   "source": [
    "del data['languages']\n",
    "\n",
    "data['lang_english'] = english\n",
    "data['lang_french'] = french\n",
    "data['lang_spanish'] = spanish\n",
    "\n",
    "\"\"\"\n",
    "data['arabic'] = arabic\n",
    "data['german'] = german\n",
    "data['italian'] = italian\n",
    "data['hindi'] = hindi\n",
    "data['urdu'] = urdu\n",
    "data['russian'] = russian\n",
    "data['portuguese'] = portuguese\n",
    "\"\"\""
   ]
  },
  {
   "cell_type": "markdown",
   "id": "3d674b0b",
   "metadata": {},
   "source": [
    "# Number of occurences of all industry expertises"
   ]
  },
  {
   "cell_type": "code",
   "execution_count": 190,
   "id": "42dc6f4b",
   "metadata": {},
   "outputs": [],
   "source": [
    "available_expertise = {}\n",
    "industry_expertise = np.array(data.industry_expertise)\n",
    "for profile_expertise in industry_expertise:\n",
    "    profile_expertise = ast.literal_eval(profile_expertise)\n",
    "    if len(profile_expertise)>0:\n",
    "        for expertise in profile_expertise:\n",
    "            if expertise not in available_expertise:\n",
    "                available_expertise[expertise] = 1\n",
    "            else:\n",
    "                available_expertise[expertise] += 1"
   ]
  },
  {
   "cell_type": "code",
   "execution_count": 191,
   "id": "dc5ff00a",
   "metadata": {},
   "outputs": [
    {
     "data": {
      "text/plain": [
       "65"
      ]
     },
     "execution_count": 191,
     "metadata": {},
     "output_type": "execute_result"
    }
   ],
   "source": [
    "len(available_expertise)"
   ]
  },
  {
   "cell_type": "code",
   "execution_count": 192,
   "id": "0ac3114a",
   "metadata": {},
   "outputs": [],
   "source": [
    "exper = np.array(list(available_expertise.keys()))\n",
    "count_exper = list(available_expertise.values())\n",
    "sorted_count_exper = np.argsort(count_exper)[-10:]\n",
    "most_imp_exper = exper[sorted_count_exper]"
   ]
  },
  {
   "cell_type": "code",
   "execution_count": 193,
   "id": "d987f14e",
   "metadata": {},
   "outputs": [
    {
     "data": {
      "text/plain": [
       "array(['Publishing', 'Healthcare', 'Travel', 'Internet', 'Technology',\n",
       "       'IT', 'Media', 'Advertising', 'Education', 'Marketing'],\n",
       "      dtype='<U18')"
      ]
     },
     "execution_count": 193,
     "metadata": {},
     "output_type": "execute_result"
    }
   ],
   "source": [
    "most_imp_exper"
   ]
  },
  {
   "cell_type": "markdown",
   "id": "e77e446c",
   "metadata": {},
   "source": [
    "## Create dummy variables for the 10 most important industry expertise"
   ]
  },
  {
   "cell_type": "code",
   "execution_count": 194,
   "id": "5440b3eb",
   "metadata": {},
   "outputs": [],
   "source": [
    "n = len(data)\n",
    "marketing, education, advertising, media, it, internet, technology, entertainment, travel, art = np.zeros(n), np.zeros(n), np.zeros(n), np.zeros(n), np.zeros(n), np.zeros(n), np.zeros(n), np.zeros(n), np.zeros(n), np.zeros(n)\n",
    "\n",
    "for i, exper in enumerate(industry_expertise):\n",
    "    exper=ast.literal_eval(exper)\n",
    "    if 'Marketing' in exper:\n",
    "        marketing[i]=1\n",
    "    if 'Education' in exper:\n",
    "        education[i]=1\n",
    "    if 'Advertising' in exper:\n",
    "        advertising[i]=1\n",
    "    if 'Media' in exper:\n",
    "        media[i]=1\n",
    "    if 'IT' in exper:\n",
    "        it[i]=1\n",
    "    if 'Internet' in exper:\n",
    "        internet[i]=1\n",
    "    if 'Technology' in exper:\n",
    "        technology[i]=1\n",
    "    if 'Entertainment' in exper:\n",
    "        entertainment[i]=1\n",
    "    if 'Travel' in exper:\n",
    "        travel[i]=1\n",
    "    if 'Art' in exper:\n",
    "        art[i]=1"
   ]
  },
  {
   "cell_type": "code",
   "execution_count": 195,
   "id": "champion-person",
   "metadata": {},
   "outputs": [],
   "source": [
    "del data['industry_expertise']\n",
    "\n",
    "data['exper_education'] = education\n",
    "data['exper_advertising'] = advertising\n",
    "data['exper_marketing'] = marketing"
   ]
  },
  {
   "cell_type": "code",
   "execution_count": 196,
   "id": "51369426",
   "metadata": {},
   "outputs": [],
   "source": [
    "rating = data.rating\n",
    "nb_reviews = data.nb_reviews\n",
    "price = data['Price/hour in USD']"
   ]
  },
  {
   "cell_type": "markdown",
   "id": "architectural-present",
   "metadata": {},
   "source": [
    "## Create dummy variables for recently active workers"
   ]
  },
  {
   "cell_type": "code",
   "execution_count": 197,
   "id": "absolute-klein",
   "metadata": {},
   "outputs": [],
   "source": [
    "data.last_active = pd.to_datetime(data.last_active)\n",
    "threshold = datetime.datetime.strptime('20-03-2021', '%d-%m-%Y') \n",
    "# Choose date to qualify if worker was recently active\n",
    "\n",
    "data.last_active = threshold < data.last_active\n",
    "data.last_active = data.last_active*1"
   ]
  },
  {
   "cell_type": "markdown",
   "id": "assumed-equilibrium",
   "metadata": {},
   "source": [
    "## Create dummy variables for most important countries"
   ]
  },
  {
   "cell_type": "code",
   "execution_count": 198,
   "id": "perceived-genius",
   "metadata": {},
   "outputs": [],
   "source": [
    "data['from_UK'] = (data['country'] == 'United Kingdom')\n",
    "data['from_UK'] = data['from_UK']*1 # all zeroes ????\n",
    "del data['country']"
   ]
  },
  {
   "cell_type": "markdown",
   "id": "equal-rugby",
   "metadata": {},
   "source": [
    "# Number of occurences of all industry expertises"
   ]
  },
  {
   "cell_type": "code",
   "execution_count": 199,
   "id": "driven-legislation",
   "metadata": {},
   "outputs": [],
   "source": [
    "available_skill = {}\n",
    "skills = np.array(data.skills)\n",
    "for profile_skill in skills:\n",
    "    profile_skill = ast.literal_eval(profile_skill)\n",
    "    if len(profile_skill)>0:\n",
    "        for skill in profile_skill:\n",
    "            if skill not in available_skill:\n",
    "                available_skill[skill] = 1\n",
    "            else:\n",
    "                available_skill[skill] += 1"
   ]
  },
  {
   "cell_type": "code",
   "execution_count": 200,
   "id": "quantitative-production",
   "metadata": {},
   "outputs": [
    {
     "data": {
      "text/plain": [
       "2148"
      ]
     },
     "execution_count": 200,
     "metadata": {},
     "output_type": "execute_result"
    }
   ],
   "source": [
    "len(available_skill)"
   ]
  },
  {
   "cell_type": "code",
   "execution_count": 201,
   "id": "chemical-honolulu",
   "metadata": {},
   "outputs": [],
   "source": [
    "sk = np.array(list(available_skill.keys()))\n",
    "count_sk = list(available_skill.values())\n",
    "sorted_count_sk = np.argsort(count_sk)[-10:]\n",
    "most_imp_sk = sk[sorted_count_sk]"
   ]
  },
  {
   "cell_type": "code",
   "execution_count": 202,
   "id": "periodic-willow",
   "metadata": {},
   "outputs": [
    {
     "data": {
      "text/plain": [
       "array(['web writing', 'social media marketing', 'article',\n",
       "       'search engine optimization (seo)', 'editing', 'creative writing',\n",
       "       'Copywriting', 'proofreading', 'blog writing', 'content writing'],\n",
       "      dtype='<U73')"
      ]
     },
     "execution_count": 202,
     "metadata": {},
     "output_type": "execute_result"
    }
   ],
   "source": [
    "most_imp_sk"
   ]
  },
  {
   "cell_type": "markdown",
   "id": "heated-answer",
   "metadata": {},
   "source": [
    "## Create dummy variables for most important skills"
   ]
  },
  {
   "cell_type": "code",
   "execution_count": 203,
   "id": "absent-static",
   "metadata": {},
   "outputs": [],
   "source": [
    "n = len(data)\n",
    "creative_writing, Copywriting, proofreading, blog_writing, content_writing = np.zeros(n), np.zeros(n), np.zeros(n), np.zeros(n), np.zeros(n)\n",
    "\n",
    "for i, sk in enumerate(skills):\n",
    "    sk=ast.literal_eval(sk)\n",
    "    if 'creative writing' in sk:\n",
    "        creative_writing[i]=1\n",
    "    if 'Copywriting' in sk:\n",
    "        Copywriting[i]=1\n",
    "    if 'proofreading' in sk:\n",
    "        proofreading[i]=1\n",
    "    if 'blog writing' in sk:\n",
    "        blog_writing[i]=1\n",
    "    if 'content writing' in sk:\n",
    "        content_writing[i]=1"
   ]
  },
  {
   "cell_type": "markdown",
   "id": "heated-answer",
   "metadata": {},
   "source": [
    "## Create dummy variables gender"
   ]
  },
  {
   "cell_type": "code",
   "execution_count": 207,
   "id": "green-fantasy",
   "metadata": {},
   "outputs": [],
   "source": [
    "del data['skills']\n",
    "\n",
    "data['skill_creative_writing'] = creative_writing\n",
    "data['skill_Copywriting'] = Copywriting\n",
    "data['skill_proofreading'] = proofreading\n",
    "data['skill_blog_writing'] = blog_writing\n",
    "data['skill_content_writing'] = content_writing"
   ]
  },
  {
   "cell_type": "markdown",
   "id": "architectural-present",
   "metadata": {},
   "source": [
    "## Final data"
   ]
  },
  {
   "cell_type": "code",
   "execution_count": 208,
   "id": "married-anaheim",
   "metadata": {},
   "outputs": [
    {
     "data": {
      "text/html": [
       "<div>\n",
       "<style scoped>\n",
       "    .dataframe tbody tr th:only-of-type {\n",
       "        vertical-align: middle;\n",
       "    }\n",
       "\n",
       "    .dataframe tbody tr th {\n",
       "        vertical-align: top;\n",
       "    }\n",
       "\n",
       "    .dataframe thead th {\n",
       "        text-align: right;\n",
       "    }\n",
       "</style>\n",
       "<table border=\"1\" class=\"dataframe\">\n",
       "  <thead>\n",
       "    <tr style=\"text-align: right;\">\n",
       "      <th></th>\n",
       "      <th>rating</th>\n",
       "      <th>nb_reviews</th>\n",
       "      <th>Price/hour in USD</th>\n",
       "      <th>nb_projects</th>\n",
       "      <th>nb_buyers</th>\n",
       "      <th>last_active</th>\n",
       "      <th>gender</th>\n",
       "      <th>lang_english</th>\n",
       "      <th>lang_french</th>\n",
       "      <th>lang_spanish</th>\n",
       "      <th>exper_education</th>\n",
       "      <th>exper_advertising</th>\n",
       "      <th>exper_marketing</th>\n",
       "      <th>from_UK</th>\n",
       "      <th>skill_creative_writing</th>\n",
       "      <th>skill_Copywriting</th>\n",
       "      <th>skill_proofreading</th>\n",
       "      <th>skill_blog_writing</th>\n",
       "      <th>skill_content_writing</th>\n",
       "    </tr>\n",
       "  </thead>\n",
       "  <tbody>\n",
       "    <tr>\n",
       "      <th>0</th>\n",
       "      <td>4.9</td>\n",
       "      <td>4694</td>\n",
       "      <td>34.74</td>\n",
       "      <td>7672</td>\n",
       "      <td>4168</td>\n",
       "      <td>1</td>\n",
       "      <td>female</td>\n",
       "      <td>1.0</td>\n",
       "      <td>0.0</td>\n",
       "      <td>0.0</td>\n",
       "      <td>0.0</td>\n",
       "      <td>0.0</td>\n",
       "      <td>1.0</td>\n",
       "      <td>0</td>\n",
       "      <td>0.0</td>\n",
       "      <td>0.0</td>\n",
       "      <td>0.0</td>\n",
       "      <td>0.0</td>\n",
       "      <td>1.0</td>\n",
       "    </tr>\n",
       "    <tr>\n",
       "      <th>1</th>\n",
       "      <td>5.0</td>\n",
       "      <td>1190</td>\n",
       "      <td>138.95</td>\n",
       "      <td>1085</td>\n",
       "      <td>533</td>\n",
       "      <td>1</td>\n",
       "      <td>unknown</td>\n",
       "      <td>1.0</td>\n",
       "      <td>0.0</td>\n",
       "      <td>0.0</td>\n",
       "      <td>0.0</td>\n",
       "      <td>0.0</td>\n",
       "      <td>0.0</td>\n",
       "      <td>0</td>\n",
       "      <td>0.0</td>\n",
       "      <td>0.0</td>\n",
       "      <td>0.0</td>\n",
       "      <td>1.0</td>\n",
       "      <td>0.0</td>\n",
       "    </tr>\n",
       "    <tr>\n",
       "      <th>3</th>\n",
       "      <td>4.9</td>\n",
       "      <td>598</td>\n",
       "      <td>20.00</td>\n",
       "      <td>721</td>\n",
       "      <td>376</td>\n",
       "      <td>1</td>\n",
       "      <td>unknown</td>\n",
       "      <td>0.0</td>\n",
       "      <td>0.0</td>\n",
       "      <td>0.0</td>\n",
       "      <td>0.0</td>\n",
       "      <td>0.0</td>\n",
       "      <td>0.0</td>\n",
       "      <td>0</td>\n",
       "      <td>0.0</td>\n",
       "      <td>0.0</td>\n",
       "      <td>0.0</td>\n",
       "      <td>0.0</td>\n",
       "      <td>0.0</td>\n",
       "    </tr>\n",
       "    <tr>\n",
       "      <th>4</th>\n",
       "      <td>4.9</td>\n",
       "      <td>135</td>\n",
       "      <td>27.79</td>\n",
       "      <td>140</td>\n",
       "      <td>100</td>\n",
       "      <td>1</td>\n",
       "      <td>unknown</td>\n",
       "      <td>1.0</td>\n",
       "      <td>1.0</td>\n",
       "      <td>1.0</td>\n",
       "      <td>1.0</td>\n",
       "      <td>1.0</td>\n",
       "      <td>0.0</td>\n",
       "      <td>0</td>\n",
       "      <td>0.0</td>\n",
       "      <td>0.0</td>\n",
       "      <td>1.0</td>\n",
       "      <td>0.0</td>\n",
       "      <td>0.0</td>\n",
       "    </tr>\n",
       "    <tr>\n",
       "      <th>5</th>\n",
       "      <td>4.9</td>\n",
       "      <td>554</td>\n",
       "      <td>22.23</td>\n",
       "      <td>404</td>\n",
       "      <td>293</td>\n",
       "      <td>1</td>\n",
       "      <td>male</td>\n",
       "      <td>1.0</td>\n",
       "      <td>1.0</td>\n",
       "      <td>1.0</td>\n",
       "      <td>1.0</td>\n",
       "      <td>1.0</td>\n",
       "      <td>0.0</td>\n",
       "      <td>0</td>\n",
       "      <td>0.0</td>\n",
       "      <td>0.0</td>\n",
       "      <td>0.0</td>\n",
       "      <td>0.0</td>\n",
       "      <td>0.0</td>\n",
       "    </tr>\n",
       "  </tbody>\n",
       "</table>\n",
       "</div>"
      ],
      "text/plain": [
       "   rating  nb_reviews  Price/hour in USD  nb_projects  nb_buyers  last_active  \\\n",
       "0     4.9        4694              34.74         7672       4168            1   \n",
       "1     5.0        1190             138.95         1085        533            1   \n",
       "3     4.9         598              20.00          721        376            1   \n",
       "4     4.9         135              27.79          140        100            1   \n",
       "5     4.9         554              22.23          404        293            1   \n",
       "\n",
       "    gender  lang_english  lang_french  lang_spanish  exper_education  \\\n",
       "0   female           1.0          0.0           0.0              0.0   \n",
       "1  unknown           1.0          0.0           0.0              0.0   \n",
       "3  unknown           0.0          0.0           0.0              0.0   \n",
       "4  unknown           1.0          1.0           1.0              1.0   \n",
       "5     male           1.0          1.0           1.0              1.0   \n",
       "\n",
       "   exper_advertising  exper_marketing  from_UK  skill_creative_writing  \\\n",
       "0                0.0              1.0        0                     0.0   \n",
       "1                0.0              0.0        0                     0.0   \n",
       "3                0.0              0.0        0                     0.0   \n",
       "4                1.0              0.0        0                     0.0   \n",
       "5                1.0              0.0        0                     0.0   \n",
       "\n",
       "   skill_Copywriting  skill_proofreading  skill_blog_writing  \\\n",
       "0                0.0                 0.0                 0.0   \n",
       "1                0.0                 0.0                 1.0   \n",
       "3                0.0                 0.0                 0.0   \n",
       "4                0.0                 1.0                 0.0   \n",
       "5                0.0                 0.0                 0.0   \n",
       "\n",
       "   skill_content_writing  \n",
       "0                    1.0  \n",
       "1                    0.0  \n",
       "3                    0.0  \n",
       "4                    0.0  \n",
       "5                    0.0  "
      ]
     },
     "execution_count": 208,
     "metadata": {},
     "output_type": "execute_result"
    }
   ],
   "source": [
    "data.head(5)"
   ]
  },
  {
   "cell_type": "code",
   "execution_count": 209,
   "id": "sunrise-effort",
   "metadata": {},
   "outputs": [
    {
     "data": {
      "text/html": [
       "<div>\n",
       "<style scoped>\n",
       "    .dataframe tbody tr th:only-of-type {\n",
       "        vertical-align: middle;\n",
       "    }\n",
       "\n",
       "    .dataframe tbody tr th {\n",
       "        vertical-align: top;\n",
       "    }\n",
       "\n",
       "    .dataframe thead th {\n",
       "        text-align: right;\n",
       "    }\n",
       "</style>\n",
       "<table border=\"1\" class=\"dataframe\">\n",
       "  <thead>\n",
       "    <tr style=\"text-align: right;\">\n",
       "      <th></th>\n",
       "      <th>rating</th>\n",
       "      <th>nb_reviews</th>\n",
       "      <th>Price/hour in USD</th>\n",
       "      <th>nb_projects</th>\n",
       "      <th>nb_buyers</th>\n",
       "      <th>last_active</th>\n",
       "      <th>lang_english</th>\n",
       "      <th>lang_french</th>\n",
       "      <th>lang_spanish</th>\n",
       "      <th>exper_education</th>\n",
       "      <th>exper_advertising</th>\n",
       "      <th>exper_marketing</th>\n",
       "      <th>from_UK</th>\n",
       "      <th>skill_creative_writing</th>\n",
       "      <th>skill_Copywriting</th>\n",
       "      <th>skill_proofreading</th>\n",
       "      <th>skill_blog_writing</th>\n",
       "      <th>skill_content_writing</th>\n",
       "    </tr>\n",
       "  </thead>\n",
       "  <tbody>\n",
       "    <tr>\n",
       "      <th>count</th>\n",
       "      <td>7073.000000</td>\n",
       "      <td>7073.000000</td>\n",
       "      <td>7073.000000</td>\n",
       "      <td>7073.000000</td>\n",
       "      <td>7073.000000</td>\n",
       "      <td>7073.000000</td>\n",
       "      <td>7073.000000</td>\n",
       "      <td>7073.000000</td>\n",
       "      <td>7073.000000</td>\n",
       "      <td>7073.000000</td>\n",
       "      <td>7073.000000</td>\n",
       "      <td>7073.000000</td>\n",
       "      <td>7073.0</td>\n",
       "      <td>7073.000000</td>\n",
       "      <td>7073.000000</td>\n",
       "      <td>7073.000000</td>\n",
       "      <td>7073.000000</td>\n",
       "      <td>7073.000000</td>\n",
       "    </tr>\n",
       "    <tr>\n",
       "      <th>mean</th>\n",
       "      <td>4.834398</td>\n",
       "      <td>43.217447</td>\n",
       "      <td>30.884676</td>\n",
       "      <td>46.545879</td>\n",
       "      <td>30.039446</td>\n",
       "      <td>0.640888</td>\n",
       "      <td>0.792309</td>\n",
       "      <td>0.103634</td>\n",
       "      <td>0.092464</td>\n",
       "      <td>0.149442</td>\n",
       "      <td>0.129365</td>\n",
       "      <td>0.240209</td>\n",
       "      <td>0.0</td>\n",
       "      <td>0.216740</td>\n",
       "      <td>0.287431</td>\n",
       "      <td>0.334653</td>\n",
       "      <td>0.336067</td>\n",
       "      <td>0.438993</td>\n",
       "    </tr>\n",
       "    <tr>\n",
       "      <th>std</th>\n",
       "      <td>0.667073</td>\n",
       "      <td>185.349740</td>\n",
       "      <td>34.608079</td>\n",
       "      <td>274.213685</td>\n",
       "      <td>166.041998</td>\n",
       "      <td>0.479774</td>\n",
       "      <td>0.405683</td>\n",
       "      <td>0.304806</td>\n",
       "      <td>0.289701</td>\n",
       "      <td>0.356548</td>\n",
       "      <td>0.335627</td>\n",
       "      <td>0.427241</td>\n",
       "      <td>0.0</td>\n",
       "      <td>0.412053</td>\n",
       "      <td>0.452596</td>\n",
       "      <td>0.471902</td>\n",
       "      <td>0.472395</td>\n",
       "      <td>0.496299</td>\n",
       "    </tr>\n",
       "    <tr>\n",
       "      <th>min</th>\n",
       "      <td>0.000000</td>\n",
       "      <td>0.000000</td>\n",
       "      <td>8.340000</td>\n",
       "      <td>1.000000</td>\n",
       "      <td>0.000000</td>\n",
       "      <td>0.000000</td>\n",
       "      <td>0.000000</td>\n",
       "      <td>0.000000</td>\n",
       "      <td>0.000000</td>\n",
       "      <td>0.000000</td>\n",
       "      <td>0.000000</td>\n",
       "      <td>0.000000</td>\n",
       "      <td>0.0</td>\n",
       "      <td>0.000000</td>\n",
       "      <td>0.000000</td>\n",
       "      <td>0.000000</td>\n",
       "      <td>0.000000</td>\n",
       "      <td>0.000000</td>\n",
       "    </tr>\n",
       "    <tr>\n",
       "      <th>25%</th>\n",
       "      <td>4.900000</td>\n",
       "      <td>3.000000</td>\n",
       "      <td>14.500000</td>\n",
       "      <td>3.000000</td>\n",
       "      <td>2.000000</td>\n",
       "      <td>0.000000</td>\n",
       "      <td>1.000000</td>\n",
       "      <td>0.000000</td>\n",
       "      <td>0.000000</td>\n",
       "      <td>0.000000</td>\n",
       "      <td>0.000000</td>\n",
       "      <td>0.000000</td>\n",
       "      <td>0.0</td>\n",
       "      <td>0.000000</td>\n",
       "      <td>0.000000</td>\n",
       "      <td>0.000000</td>\n",
       "      <td>0.000000</td>\n",
       "      <td>0.000000</td>\n",
       "    </tr>\n",
       "    <tr>\n",
       "      <th>50%</th>\n",
       "      <td>5.000000</td>\n",
       "      <td>8.000000</td>\n",
       "      <td>24.170000</td>\n",
       "      <td>8.000000</td>\n",
       "      <td>6.000000</td>\n",
       "      <td>1.000000</td>\n",
       "      <td>1.000000</td>\n",
       "      <td>0.000000</td>\n",
       "      <td>0.000000</td>\n",
       "      <td>0.000000</td>\n",
       "      <td>0.000000</td>\n",
       "      <td>0.000000</td>\n",
       "      <td>0.0</td>\n",
       "      <td>0.000000</td>\n",
       "      <td>0.000000</td>\n",
       "      <td>0.000000</td>\n",
       "      <td>0.000000</td>\n",
       "      <td>0.000000</td>\n",
       "    </tr>\n",
       "    <tr>\n",
       "      <th>75%</th>\n",
       "      <td>5.000000</td>\n",
       "      <td>27.000000</td>\n",
       "      <td>35.000000</td>\n",
       "      <td>26.000000</td>\n",
       "      <td>19.000000</td>\n",
       "      <td>1.000000</td>\n",
       "      <td>1.000000</td>\n",
       "      <td>0.000000</td>\n",
       "      <td>0.000000</td>\n",
       "      <td>0.000000</td>\n",
       "      <td>0.000000</td>\n",
       "      <td>0.000000</td>\n",
       "      <td>0.0</td>\n",
       "      <td>0.000000</td>\n",
       "      <td>1.000000</td>\n",
       "      <td>1.000000</td>\n",
       "      <td>1.000000</td>\n",
       "      <td>1.000000</td>\n",
       "    </tr>\n",
       "    <tr>\n",
       "      <th>max</th>\n",
       "      <td>5.000000</td>\n",
       "      <td>8647.000000</td>\n",
       "      <td>1354.740000</td>\n",
       "      <td>16306.000000</td>\n",
       "      <td>10343.000000</td>\n",
       "      <td>1.000000</td>\n",
       "      <td>1.000000</td>\n",
       "      <td>1.000000</td>\n",
       "      <td>1.000000</td>\n",
       "      <td>1.000000</td>\n",
       "      <td>1.000000</td>\n",
       "      <td>1.000000</td>\n",
       "      <td>0.0</td>\n",
       "      <td>1.000000</td>\n",
       "      <td>1.000000</td>\n",
       "      <td>1.000000</td>\n",
       "      <td>1.000000</td>\n",
       "      <td>1.000000</td>\n",
       "    </tr>\n",
       "  </tbody>\n",
       "</table>\n",
       "</div>"
      ],
      "text/plain": [
       "            rating   nb_reviews  Price/hour in USD   nb_projects  \\\n",
       "count  7073.000000  7073.000000        7073.000000   7073.000000   \n",
       "mean      4.834398    43.217447          30.884676     46.545879   \n",
       "std       0.667073   185.349740          34.608079    274.213685   \n",
       "min       0.000000     0.000000           8.340000      1.000000   \n",
       "25%       4.900000     3.000000          14.500000      3.000000   \n",
       "50%       5.000000     8.000000          24.170000      8.000000   \n",
       "75%       5.000000    27.000000          35.000000     26.000000   \n",
       "max       5.000000  8647.000000        1354.740000  16306.000000   \n",
       "\n",
       "          nb_buyers  last_active  lang_english  lang_french  lang_spanish  \\\n",
       "count   7073.000000  7073.000000   7073.000000  7073.000000   7073.000000   \n",
       "mean      30.039446     0.640888      0.792309     0.103634      0.092464   \n",
       "std      166.041998     0.479774      0.405683     0.304806      0.289701   \n",
       "min        0.000000     0.000000      0.000000     0.000000      0.000000   \n",
       "25%        2.000000     0.000000      1.000000     0.000000      0.000000   \n",
       "50%        6.000000     1.000000      1.000000     0.000000      0.000000   \n",
       "75%       19.000000     1.000000      1.000000     0.000000      0.000000   \n",
       "max    10343.000000     1.000000      1.000000     1.000000      1.000000   \n",
       "\n",
       "       exper_education  exper_advertising  exper_marketing  from_UK  \\\n",
       "count      7073.000000        7073.000000      7073.000000   7073.0   \n",
       "mean          0.149442           0.129365         0.240209      0.0   \n",
       "std           0.356548           0.335627         0.427241      0.0   \n",
       "min           0.000000           0.000000         0.000000      0.0   \n",
       "25%           0.000000           0.000000         0.000000      0.0   \n",
       "50%           0.000000           0.000000         0.000000      0.0   \n",
       "75%           0.000000           0.000000         0.000000      0.0   \n",
       "max           1.000000           1.000000         1.000000      0.0   \n",
       "\n",
       "       skill_creative_writing  skill_Copywriting  skill_proofreading  \\\n",
       "count             7073.000000        7073.000000         7073.000000   \n",
       "mean                 0.216740           0.287431            0.334653   \n",
       "std                  0.412053           0.452596            0.471902   \n",
       "min                  0.000000           0.000000            0.000000   \n",
       "25%                  0.000000           0.000000            0.000000   \n",
       "50%                  0.000000           0.000000            0.000000   \n",
       "75%                  0.000000           1.000000            1.000000   \n",
       "max                  1.000000           1.000000            1.000000   \n",
       "\n",
       "       skill_blog_writing  skill_content_writing  \n",
       "count         7073.000000            7073.000000  \n",
       "mean             0.336067               0.438993  \n",
       "std              0.472395               0.496299  \n",
       "min              0.000000               0.000000  \n",
       "25%              0.000000               0.000000  \n",
       "50%              0.000000               0.000000  \n",
       "75%              1.000000               1.000000  \n",
       "max              1.000000               1.000000  "
      ]
     },
     "execution_count": 209,
     "metadata": {},
     "output_type": "execute_result"
    }
   ],
   "source": [
    "data.describe()"
   ]
  },
  {
   "cell_type": "code",
   "execution_count": 210,
   "id": "accessory-integration",
   "metadata": {},
   "outputs": [
    {
     "name": "stdout",
     "output_type": "stream",
     "text": [
      "                                 OLS Regression Results                                \n",
      "=======================================================================================\n",
      "Dep. Variable:      Price/hour in USD   R-squared (uncentered):                   0.432\n",
      "Model:                            OLS   Adj. R-squared (uncentered):              0.431\n",
      "Method:                 Least Squares   F-statistic:                              251.7\n",
      "Date:                Tue, 11 May 2021   Prob (F-statistic):                        0.00\n",
      "Time:                        13:25:24   Log-Likelihood:                         -26510.\n",
      "No. Observations:                5304   AIC:                                  5.305e+04\n",
      "Df Residuals:                    5288   BIC:                                  5.316e+04\n",
      "Df Model:                          16                                                  \n",
      "Covariance Type:            nonrobust                                                  \n",
      "==========================================================================================\n",
      "                             coef    std err          t      P>|t|      [0.025      0.975]\n",
      "------------------------------------------------------------------------------------------\n",
      "rating                     5.5021      0.252     21.793      0.000       5.007       5.997\n",
      "nb_reviews                 0.0198      0.008      2.398      0.017       0.004       0.036\n",
      "nb_projects               -0.0594      0.014     -4.238      0.000      -0.087      -0.032\n",
      "nb_buyers                  0.0824      0.020      4.026      0.000       0.042       0.123\n",
      "last_active                1.0016      1.048      0.955      0.339      -1.054       3.057\n",
      "lang_english               4.7939      1.294      3.704      0.000       2.257       7.331\n",
      "lang_french                0.1985      1.722      0.115      0.908      -3.177       3.574\n",
      "lang_spanish              -2.0345      1.788     -1.138      0.255      -5.540       1.471\n",
      "exper_education           -0.9502      1.428     -0.665      0.506      -3.750       1.849\n",
      "exper_advertising         -1.9658      1.587     -1.238      0.216      -5.078       1.146\n",
      "exper_marketing           -0.2520      1.293     -0.195      0.845      -2.788       2.283\n",
      "skill_creative_writing    -5.4864      1.284     -4.274      0.000      -8.003      -2.970\n",
      "skill_Copywriting          6.9060      1.179      5.856      0.000       4.594       9.218\n",
      "skill_proofreading        -2.7370      1.077     -2.542      0.011      -4.848      -0.626\n",
      "skill_blog_writing         0.5450      1.229      0.444      0.657      -1.864       2.954\n",
      "skill_content_writing     -0.8733      1.158     -0.754      0.451      -3.143       1.396\n",
      "==============================================================================\n",
      "Omnibus:                    10231.420   Durbin-Watson:                   1.962\n",
      "Prob(Omnibus):                  0.000   Jarque-Bera (JB):         38794939.944\n",
      "Skew:                          14.714   Prob(JB):                         0.00\n",
      "Kurtosis:                     420.943   Cond. No.                     1.63e+03\n",
      "==============================================================================\n",
      "\n",
      "Notes:\n",
      "[1] R² is computed without centering (uncentered) since the model does not contain a constant.\n",
      "[2] Standard Errors assume that the covariance matrix of the errors is correctly specified.\n",
      "[3] The condition number is large, 1.63e+03. This might indicate that there are\n",
      "strong multicollinearity or other numerical problems.\n"
     ]
    }
   ],
   "source": [
    "X = data.drop(['Price/hour in USD', 'gender', 'from_UK'], axis=1)\n",
    "y = data['Price/hour in USD']\n",
    "\n",
    "X_train, X_test, y_train, y_test = train_test_split(X, y, test_size=0.25, random_state=0)\n",
    "\n",
    "model = sm.OLS(y_train.astype(float), X_train.astype(float))\n",
    "result = model.fit()\n",
    "print(result.summary())"
   ]
  },
  {
   "cell_type": "code",
   "execution_count": null,
   "id": "european-trigger",
   "metadata": {},
   "outputs": [],
   "source": []
  }
 ],
 "metadata": {
  "kernelspec": {
   "display_name": "Python 3",
   "language": "python",
   "name": "python3"
  },
  "language_info": {
   "codemirror_mode": {
    "name": "ipython",
    "version": 3
   },
   "file_extension": ".py",
   "mimetype": "text/x-python",
   "name": "python",
   "nbconvert_exporter": "python",
   "pygments_lexer": "ipython3",
   "version": "3.7.3"
  },
  "toc": {
   "base_numbering": 1,
   "nav_menu": {},
   "number_sections": true,
   "sideBar": true,
   "skip_h1_title": false,
   "title_cell": "Table of Contents",
   "title_sidebar": "Contents",
   "toc_cell": false,
   "toc_position": {},
   "toc_section_display": true,
   "toc_window_display": false
  },
  "varInspector": {
   "cols": {
    "lenName": 16,
    "lenType": 16,
    "lenVar": 40
   },
   "kernels_config": {
    "python": {
     "delete_cmd_postfix": "",
     "delete_cmd_prefix": "del ",
     "library": "var_list.py",
     "varRefreshCmd": "print(var_dic_list())"
    },
    "r": {
     "delete_cmd_postfix": ") ",
     "delete_cmd_prefix": "rm(",
     "library": "var_list.r",
     "varRefreshCmd": "cat(var_dic_list()) "
    }
   },
   "types_to_exclude": [
    "module",
    "function",
    "builtin_function_or_method",
    "instance",
    "_Feature"
   ],
   "window_display": false
  }
 },
 "nbformat": 4,
 "nbformat_minor": 5
}
