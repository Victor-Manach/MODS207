{
 "cells": [
  {
   "cell_type": "code",
   "execution_count": 1,
   "metadata": {},
   "outputs": [],
   "source": [
    "import numpy as np\n",
    "import pandas as pd\n",
    "import ast\n",
    "import matplotlib.pyplot as plt\n",
    "import statsmodels.api as sm\n",
    "import datetime\n",
    "from collections import Counter\n",
    "import seaborn as sns\n",
    "from sklearn.linear_model import LinearRegression\n",
    "from sklearn.model_selection import train_test_split\n",
    "import statsmodels.api as sm\n",
    "from linearmodels import PanelOLS"
   ]
  },
  {
   "cell_type": "code",
   "execution_count": 2,
   "metadata": {},
   "outputs": [],
   "source": [
    "scraping_date = '_26_04_2021'\n",
    "data = pd.read_csv('./data/full_profiles'+scraping_date+'.csv')"
   ]
  },
  {
   "cell_type": "code",
   "execution_count": 3,
   "metadata": {},
   "outputs": [
    {
     "data": {
      "text/html": [
       "<div>\n",
       "<style scoped>\n",
       "    .dataframe tbody tr th:only-of-type {\n",
       "        vertical-align: middle;\n",
       "    }\n",
       "\n",
       "    .dataframe tbody tr th {\n",
       "        vertical-align: top;\n",
       "    }\n",
       "\n",
       "    .dataframe thead th {\n",
       "        text-align: right;\n",
       "    }\n",
       "</style>\n",
       "<table border=\"1\" class=\"dataframe\">\n",
       "  <thead>\n",
       "    <tr style=\"text-align: right;\">\n",
       "      <th></th>\n",
       "      <th>name</th>\n",
       "      <th>languages</th>\n",
       "      <th>description</th>\n",
       "      <th>rating</th>\n",
       "      <th>nb_reviews</th>\n",
       "      <th>Price/hour in USD</th>\n",
       "      <th>skills</th>\n",
       "      <th>industry_expertise</th>\n",
       "      <th>nb_projects</th>\n",
       "      <th>nb_buyers</th>\n",
       "      <th>last_active</th>\n",
       "      <th>gender</th>\n",
       "      <th>city</th>\n",
       "      <th>country</th>\n",
       "      <th>score</th>\n",
       "    </tr>\n",
       "  </thead>\n",
       "  <tbody>\n",
       "    <tr>\n",
       "      <th>0</th>\n",
       "      <td>Maria H.</td>\n",
       "      <td>['English']</td>\n",
       "      <td>We are a small UK based company speciaIising i...</td>\n",
       "      <td>4.9</td>\n",
       "      <td>4694</td>\n",
       "      <td>34.74</td>\n",
       "      <td>['animation', 'graphics design', 'brand design...</td>\n",
       "      <td>['IT', 'Internet', 'Marketing', 'Media', 'Tech...</td>\n",
       "      <td>7672</td>\n",
       "      <td>4168</td>\n",
       "      <td>26-04-2021</td>\n",
       "      <td>female</td>\n",
       "      <td>Sheffield</td>\n",
       "      <td>United Kingdom</td>\n",
       "      <td>10.043</td>\n",
       "    </tr>\n",
       "    <tr>\n",
       "      <th>1</th>\n",
       "      <td>Cormac Reynolds</td>\n",
       "      <td>['English']</td>\n",
       "      <td>Looking for a link building solution or some g...</td>\n",
       "      <td>5.0</td>\n",
       "      <td>1190</td>\n",
       "      <td>138.95</td>\n",
       "      <td>['online marketing', 'link building', 'marketi...</td>\n",
       "      <td>[]</td>\n",
       "      <td>1085</td>\n",
       "      <td>533</td>\n",
       "      <td>25-04-2021</td>\n",
       "      <td>unknown</td>\n",
       "      <td>City of London</td>\n",
       "      <td>United Kingdom</td>\n",
       "      <td>8.691</td>\n",
       "    </tr>\n",
       "    <tr>\n",
       "      <th>2</th>\n",
       "      <td>Denise Toepel</td>\n",
       "      <td>['English', 'Spanish', 'French']</td>\n",
       "      <td>I am a Translation Specialist.  I work in publ...</td>\n",
       "      <td>0.0</td>\n",
       "      <td>0</td>\n",
       "      <td>27.79</td>\n",
       "      <td>['english translation', 'french  english', 'on...</td>\n",
       "      <td>['Education', 'Telecommunications']</td>\n",
       "      <td>0</td>\n",
       "      <td>0</td>\n",
       "      <td>25-04-2021</td>\n",
       "      <td>female</td>\n",
       "      <td>Cuenca</td>\n",
       "      <td>Ecuador</td>\n",
       "      <td>0.000</td>\n",
       "    </tr>\n",
       "  </tbody>\n",
       "</table>\n",
       "</div>"
      ],
      "text/plain": [
       "              name                         languages  \\\n",
       "0         Maria H.                       ['English']   \n",
       "1  Cormac Reynolds                       ['English']   \n",
       "2    Denise Toepel  ['English', 'Spanish', 'French']   \n",
       "\n",
       "                                         description  rating  nb_reviews  \\\n",
       "0  We are a small UK based company speciaIising i...     4.9        4694   \n",
       "1  Looking for a link building solution or some g...     5.0        1190   \n",
       "2  I am a Translation Specialist.  I work in publ...     0.0           0   \n",
       "\n",
       "   Price/hour in USD                                             skills  \\\n",
       "0              34.74  ['animation', 'graphics design', 'brand design...   \n",
       "1             138.95  ['online marketing', 'link building', 'marketi...   \n",
       "2              27.79  ['english translation', 'french  english', 'on...   \n",
       "\n",
       "                                  industry_expertise  nb_projects  nb_buyers  \\\n",
       "0  ['IT', 'Internet', 'Marketing', 'Media', 'Tech...         7672       4168   \n",
       "1                                                 []         1085        533   \n",
       "2                ['Education', 'Telecommunications']            0          0   \n",
       "\n",
       "  last_active   gender            city          country   score  \n",
       "0  26-04-2021   female       Sheffield   United Kingdom  10.043  \n",
       "1  25-04-2021  unknown  City of London   United Kingdom   8.691  \n",
       "2  25-04-2021   female          Cuenca          Ecuador   0.000  "
      ]
     },
     "execution_count": 3,
     "metadata": {},
     "output_type": "execute_result"
    }
   ],
   "source": [
    "data.head(3)"
   ]
  },
  {
   "cell_type": "markdown",
   "metadata": {},
   "source": [
    "# Regression on scraped data"
   ]
  },
  {
   "cell_type": "markdown",
   "metadata": {},
   "source": [
    "## Remove inactive profiles (no projects) and drop unnucessary features"
   ]
  },
  {
   "cell_type": "code",
   "execution_count": 4,
   "metadata": {},
   "outputs": [
    {
     "name": "stdout",
     "output_type": "stream",
     "text": [
      "Number of workers with inactive profiles: 2930\n"
     ]
    }
   ],
   "source": [
    "print('Number of workers with inactive profiles:',  len(data.loc[(data['nb_projects'] == 0)]))"
   ]
  },
  {
   "cell_type": "code",
   "execution_count": 5,
   "metadata": {},
   "outputs": [],
   "source": [
    "data = data.drop(data.loc[data['nb_projects']==0].index)"
   ]
  },
  {
   "cell_type": "markdown",
   "metadata": {},
   "source": [
    "Almost 30% of all the profiles are thus deleted of our regression analysis. This represents a big proportion of the profiles that we collected but there is still a significant amount of data that makes our study relevant."
   ]
  },
  {
   "cell_type": "code",
   "execution_count": 6,
   "metadata": {},
   "outputs": [],
   "source": [
    "# remove string attributes that we do not use in our regression for the moment\n",
    "data = data.drop(['name', 'description', 'city'], axis=1)"
   ]
  },
  {
   "cell_type": "markdown",
   "metadata": {},
   "source": [
    "## Spoken languages"
   ]
  },
  {
   "cell_type": "code",
   "execution_count": 7,
   "metadata": {},
   "outputs": [],
   "source": [
    "available_languages = {}\n",
    "languages = np.array(data.languages)\n",
    "for profile_languages in languages:\n",
    "    profile_languages = ast.literal_eval(profile_languages)\n",
    "    if len(profile_languages)>0:\n",
    "        for language in profile_languages:\n",
    "            if language not in available_languages:\n",
    "                available_languages[language] = 1\n",
    "            else:\n",
    "                available_languages[language] += 1"
   ]
  },
  {
   "cell_type": "code",
   "execution_count": 8,
   "metadata": {},
   "outputs": [
    {
     "data": {
      "text/plain": [
       "102"
      ]
     },
     "execution_count": 8,
     "metadata": {},
     "output_type": "execute_result"
    }
   ],
   "source": [
    "len(available_languages)"
   ]
  },
  {
   "cell_type": "code",
   "execution_count": 9,
   "metadata": {
    "scrolled": true
   },
   "outputs": [],
   "source": [
    "lang = np.array(list(available_languages.keys()))\n",
    "count_lang = list(available_languages.values())\n",
    "sorted_count_lang = np.argsort(count_lang)[-15:]\n",
    "most_spoken_languages = lang[sorted_count_lang]"
   ]
  },
  {
   "cell_type": "code",
   "execution_count": 10,
   "metadata": {},
   "outputs": [
    {
     "data": {
      "text/plain": [
       "array(['Swahili', 'Bengali', 'Greek', 'Dutch', 'Chinese', 'Portuguese',\n",
       "       'Russian', 'Arabic', 'Urdu', 'Italian', 'Hindi', 'German',\n",
       "       'Spanish', 'French', 'English'], dtype='<U13')"
      ]
     },
     "execution_count": 10,
     "metadata": {},
     "output_type": "execute_result"
    }
   ],
   "source": [
    "most_spoken_languages"
   ]
  },
  {
   "cell_type": "code",
   "execution_count": 11,
   "metadata": {},
   "outputs": [],
   "source": [
    "n = len(data)\n",
    "english, french, spanish, arabic, german, italian, hindi, urdu, russian, portuguese, swahili, bengali, greek, dutch, chinese = np.zeros(n), np.zeros(n), np.zeros(n), np.zeros(n), np.zeros(n), np.zeros(n), np.zeros(n), np.zeros(n), np.zeros(n), np.zeros(n), np.zeros(n), np.zeros(n), np.zeros(n), np.zeros(n), np.zeros(n),\n",
    "\n",
    "for i, lang in enumerate(languages):\n",
    "    lang=ast.literal_eval(lang)\n",
    "    if 'English' in lang:\n",
    "        english[i]=1\n",
    "    if 'French' in lang:\n",
    "        french[i]=1\n",
    "    if 'Spanish' in lang:\n",
    "        spanish[i]=1\n",
    "    if 'Arabic' in lang:\n",
    "        arabic[i]=1\n",
    "    if 'German' in lang:\n",
    "        german[i]=1\n",
    "    if 'Italian' in lang:\n",
    "        italian[i]=1\n",
    "    if 'Hindi' in lang:\n",
    "        hindi[i]=1\n",
    "    if 'Urdu' in lang:\n",
    "        urdu[i]=1\n",
    "    if 'Russian' in lang:\n",
    "        russian[i]=1\n",
    "    if 'Portuguese' in lang:\n",
    "        portuguese[i]=1\n",
    "    if 'Swahili' in lang:\n",
    "        swahili[i]=1\n",
    "    if 'Bengali' in lang:\n",
    "        bengali[i]=1\n",
    "    if 'Greek' in lang:\n",
    "        greek[i]=1\n",
    "    if 'Dutch' in lang:\n",
    "        dutch[i]=1\n",
    "    if 'Chinese' in lang:\n",
    "        chinese[i]=1 "
   ]
  },
  {
   "cell_type": "code",
   "execution_count": 12,
   "metadata": {},
   "outputs": [],
   "source": [
    "del data['languages']\n",
    "\n",
    "data['lang_english'] = english\n",
    "data['lang_french'] = french\n",
    "data['lang_spanish'] = spanish\n",
    "data['lang_arabic'] = arabic\n",
    "data['lang_german'] = german\n",
    "data['lang_italian'] = italian\n",
    "data['lang_hindi'] = hindi\n",
    "data['lang_urdu'] = urdu\n",
    "data['lang_russian'] = russian\n",
    "data['lang_portuguese'] = portuguese\n",
    "data['lang_swahili'] = swahili\n",
    "data['lang_bengali'] = bengali\n",
    "data['lang_greek'] = greek\n",
    "data['lang_dutch'] = dutch\n",
    "data['lang_chinese'] = chinese"
   ]
  },
  {
   "cell_type": "markdown",
   "metadata": {},
   "source": [
    "## Industry expertises"
   ]
  },
  {
   "cell_type": "code",
   "execution_count": 13,
   "metadata": {},
   "outputs": [],
   "source": [
    "available_expertise = {}\n",
    "industry_expertise = np.array(data.industry_expertise)\n",
    "for profile_expertise in industry_expertise:\n",
    "    profile_expertise = ast.literal_eval(profile_expertise)\n",
    "    if len(profile_expertise)>0:\n",
    "        for expertise in profile_expertise:\n",
    "            if expertise not in available_expertise:\n",
    "                available_expertise[expertise] = 1\n",
    "            else:\n",
    "                available_expertise[expertise] += 1"
   ]
  },
  {
   "cell_type": "code",
   "execution_count": 14,
   "metadata": {},
   "outputs": [
    {
     "data": {
      "text/plain": [
       "65"
      ]
     },
     "execution_count": 14,
     "metadata": {},
     "output_type": "execute_result"
    }
   ],
   "source": [
    "len(available_expertise)"
   ]
  },
  {
   "cell_type": "code",
   "execution_count": 15,
   "metadata": {},
   "outputs": [],
   "source": [
    "exper = np.array(list(available_expertise.keys()))\n",
    "count_exper = list(available_expertise.values())\n",
    "sorted_count_exper = np.argsort(count_exper)[-10:]\n",
    "most_imp_exper = exper[sorted_count_exper]"
   ]
  },
  {
   "cell_type": "code",
   "execution_count": 16,
   "metadata": {},
   "outputs": [
    {
     "data": {
      "text/plain": [
       "array(['Publishing', 'Healthcare', 'Travel', 'Internet', 'Technology',\n",
       "       'IT', 'Media', 'Advertising', 'Education', 'Marketing'],\n",
       "      dtype='<U18')"
      ]
     },
     "execution_count": 16,
     "metadata": {},
     "output_type": "execute_result"
    }
   ],
   "source": [
    "most_imp_exper"
   ]
  },
  {
   "cell_type": "code",
   "execution_count": 17,
   "metadata": {},
   "outputs": [],
   "source": [
    "n = len(data)\n",
    "marketing, education, advertising, media, it, internet, technology, entertainment, travel, art = np.zeros(n), np.zeros(n), np.zeros(n), np.zeros(n), np.zeros(n), np.zeros(n), np.zeros(n), np.zeros(n), np.zeros(n), np.zeros(n)\n",
    "\n",
    "for i, exper in enumerate(industry_expertise):\n",
    "    exper=ast.literal_eval(exper)\n",
    "    if 'Marketing' in exper:\n",
    "        marketing[i]=1\n",
    "    if 'Education' in exper:\n",
    "        education[i]=1\n",
    "    if 'Advertising' in exper:\n",
    "        advertising[i]=1\n",
    "    if 'Media' in exper:\n",
    "        media[i]=1\n",
    "    if 'IT' in exper:\n",
    "        it[i]=1\n",
    "    if 'Internet' in exper:\n",
    "        internet[i]=1\n",
    "    if 'Technology' in exper:\n",
    "        technology[i]=1\n",
    "    if 'Entertainment' in exper:\n",
    "        entertainment[i]=1\n",
    "    if 'Travel' in exper:\n",
    "        travel[i]=1\n",
    "    if 'Art' in exper:\n",
    "        art[i]=1"
   ]
  },
  {
   "cell_type": "code",
   "execution_count": 18,
   "metadata": {},
   "outputs": [],
   "source": [
    "del data['industry_expertise']\n",
    "\n",
    "data['exper_education'] = education\n",
    "data['exper_advertising'] = advertising\n",
    "data['exper_marketing'] = marketing\n",
    "data['exper_media'] = media\n",
    "data['exper_it'] = it\n",
    "data['exper_internet'] = internet\n",
    "data['exper_technology'] = technology\n",
    "data['exper_entertainment'] = entertainment\n",
    "data['exper_travel'] = travel\n",
    "data['exper_art'] = art"
   ]
  },
  {
   "cell_type": "markdown",
   "metadata": {},
   "source": [
    "## Recently active workers"
   ]
  },
  {
   "cell_type": "code",
   "execution_count": 19,
   "metadata": {},
   "outputs": [],
   "source": [
    "data.last_active = pd.to_datetime(data.last_active)\n",
    "threshold = datetime.datetime.strptime('20-03-2021', '%d-%m-%Y') \n",
    "# Choose date to qualify if worker was recently active\n",
    "\n",
    "data.last_active = threshold < data.last_active\n",
    "data.last_active = data.last_active*1"
   ]
  },
  {
   "cell_type": "markdown",
   "metadata": {},
   "source": [
    "## Countries of work\n",
    "We select only the 10 most represented countries and we remove the profiles that are not working in those countries, otherwise they will be issues with the conversion of prices in USD."
   ]
  },
  {
   "cell_type": "code",
   "execution_count": 20,
   "metadata": {},
   "outputs": [
    {
     "name": "stdout",
     "output_type": "stream",
     "text": [
      "[('UnitedKingdom', 3178), ('India', 511), ('Pakistan', 397), ('Kenya', 185), ('France', 150), ('Germany', 136), ('Spain', 136), ('Bangladesh', 132), ('Italy', 126), ('Nigeria', 118)]\n"
     ]
    }
   ],
   "source": [
    "location = data['country']\n",
    "\n",
    "country = [ l.split(',')[-1].replace(\" \", \"\") for l in location ]\n",
    "count = Counter(country).most_common(10)\n",
    "most_represented_countries = [x[0] for x in count]\n",
    "print(count)"
   ]
  },
  {
   "cell_type": "code",
   "execution_count": 21,
   "metadata": {},
   "outputs": [],
   "source": [
    "values = data['country']\n",
    "counts = pd.value_counts(values)\n",
    "mask = values.isin(counts.index)\n",
    "coun = pd.get_dummies(values[mask])\n",
    "\n",
    "data = data.drop('country', axis=1)\n",
    "data['country_UK'] = coun[' United Kingdom']\n",
    "data['country_India'] = coun[' India']\n",
    "data['country_Pakistan'] = coun[' Pakistan']\n",
    "data['country_Kenya'] = coun[' Kenya']\n",
    "data['country_France'] = coun[' France']\n",
    "data['country_Germany'] = coun[' Germany']\n",
    "data['country_Spain'] = coun[' Spain']\n",
    "data['country_Bangladesh'] = coun[' Bangladesh']\n",
    "data['country_Italy'] = coun[' Italy']\n",
    "data['country_Nigeria'] = coun[' Nigeria']"
   ]
  },
  {
   "cell_type": "markdown",
   "metadata": {},
   "source": [
    "## Skills"
   ]
  },
  {
   "cell_type": "code",
   "execution_count": 22,
   "metadata": {},
   "outputs": [],
   "source": [
    "available_skill = {}\n",
    "skills = np.array(data.skills)\n",
    "for profile_skill in skills:\n",
    "    profile_skill = ast.literal_eval(profile_skill)\n",
    "    if len(profile_skill)>0:\n",
    "        for skill in profile_skill:\n",
    "            if skill not in available_skill:\n",
    "                available_skill[skill] = 1\n",
    "            else:\n",
    "                available_skill[skill] += 1"
   ]
  },
  {
   "cell_type": "code",
   "execution_count": 23,
   "metadata": {},
   "outputs": [
    {
     "data": {
      "text/plain": [
       "2148"
      ]
     },
     "execution_count": 23,
     "metadata": {},
     "output_type": "execute_result"
    }
   ],
   "source": [
    "len(available_skill)"
   ]
  },
  {
   "cell_type": "code",
   "execution_count": 24,
   "metadata": {},
   "outputs": [],
   "source": [
    "sk = np.array(list(available_skill.keys()))\n",
    "count_sk = list(available_skill.values())\n",
    "sorted_count_sk = np.argsort(count_sk)[-10:]\n",
    "most_imp_sk = sk[sorted_count_sk]"
   ]
  },
  {
   "cell_type": "code",
   "execution_count": 25,
   "metadata": {},
   "outputs": [
    {
     "data": {
      "text/plain": [
       "array(['web writing', 'social media marketing', 'article',\n",
       "       'search engine optimization', 'editing', 'creative writing',\n",
       "       'copywriting', 'proofreading', 'blog writing', 'content writing'],\n",
       "      dtype='<U51')"
      ]
     },
     "execution_count": 25,
     "metadata": {},
     "output_type": "execute_result"
    }
   ],
   "source": [
    "most_imp_sk"
   ]
  },
  {
   "cell_type": "code",
   "execution_count": 26,
   "metadata": {},
   "outputs": [],
   "source": [
    "n = len(data)\n",
    "creative_writing, copywriting, proofreading, blog_writing, content_writing, web_writing, social_media_marketing, article, search_engine_optimization, editing = np.zeros(n), np.zeros(n), np.zeros(n), np.zeros(n), np.zeros(n), np.zeros(n), np.zeros(n), np.zeros(n), np.zeros(n), np.zeros(n)\n",
    "\n",
    "for i, sk in enumerate(skills):\n",
    "    sk=ast.literal_eval(sk)\n",
    "    if 'creative writing' in sk:\n",
    "        creative_writing[i]=1\n",
    "    if 'copywriting' in sk:\n",
    "        copywriting[i]=1\n",
    "    if 'proofreading' in sk:\n",
    "        proofreading[i]=1\n",
    "    if 'blog writing' in sk:\n",
    "        blog_writing[i]=1\n",
    "    if 'content writing' in sk:\n",
    "        content_writing[i]=1\n",
    "    if 'web writing' in sk:\n",
    "        web_writing[i]=1\n",
    "    if 'social media marketing' in sk:\n",
    "        social_media_marketing[i]=1\n",
    "    if 'article' in sk:\n",
    "        article[i]=1\n",
    "    if 'search engine optimization' in sk:\n",
    "        search_engine_optimization[i]=1\n",
    "    if 'editing' in sk:\n",
    "        editing[i]=1"
   ]
  },
  {
   "cell_type": "code",
   "execution_count": 27,
   "metadata": {},
   "outputs": [],
   "source": [
    "del data['skills']\n",
    "\n",
    "data['skill_creative_writing'] = creative_writing\n",
    "data['skill_copywriting'] = copywriting\n",
    "data['skill_proofreading'] = proofreading\n",
    "data['skill_blog_writing'] = blog_writing\n",
    "data['skill_content_writing'] = content_writing\n",
    "data['skill_web_writing'] = web_writing\n",
    "data['skill_social_media_marketing'] = social_media_marketing\n",
    "data['skill_article'] = article\n",
    "data['skill_search_engine_optimization'] = search_engine_optimization\n",
    "data['skill_editing'] = editing"
   ]
  },
  {
   "cell_type": "markdown",
   "metadata": {},
   "source": [
    "## Gender"
   ]
  },
  {
   "cell_type": "markdown",
   "metadata": {},
   "source": [
    "male $\\rightarrow 0$, female $\\rightarrow 1$"
   ]
  },
  {
   "cell_type": "code",
   "execution_count": 28,
   "metadata": {},
   "outputs": [],
   "source": [
    "data = data.replace({'gender':{'male':0, 'female':1, 'unknown':2}})\n",
    "data = data[data.gender<2] # remove the unknown 'gender'"
   ]
  },
  {
   "cell_type": "markdown",
   "metadata": {},
   "source": [
    "## Interaction term between score and gender"
   ]
  },
  {
   "cell_type": "code",
   "execution_count": null,
   "metadata": {},
   "outputs": [],
   "source": [
    "score = data.score\n",
    "gender = data.gender\n",
    "interact_score_gender = score * gender\n",
    "data['interaction'] = interact_score_gender"
   ]
  },
  {
   "cell_type": "markdown",
   "metadata": {},
   "source": [
    "## Final data"
   ]
  },
  {
   "cell_type": "code",
   "execution_count": 29,
   "metadata": {},
   "outputs": [
    {
     "data": {
      "text/html": [
       "<div>\n",
       "<style scoped>\n",
       "    .dataframe tbody tr th:only-of-type {\n",
       "        vertical-align: middle;\n",
       "    }\n",
       "\n",
       "    .dataframe tbody tr th {\n",
       "        vertical-align: top;\n",
       "    }\n",
       "\n",
       "    .dataframe thead th {\n",
       "        text-align: right;\n",
       "    }\n",
       "</style>\n",
       "<table border=\"1\" class=\"dataframe\">\n",
       "  <thead>\n",
       "    <tr style=\"text-align: right;\">\n",
       "      <th></th>\n",
       "      <th>rating</th>\n",
       "      <th>nb_reviews</th>\n",
       "      <th>Price/hour in USD</th>\n",
       "      <th>nb_projects</th>\n",
       "      <th>nb_buyers</th>\n",
       "      <th>last_active</th>\n",
       "      <th>score</th>\n",
       "      <th>lang_english</th>\n",
       "      <th>lang_french</th>\n",
       "      <th>lang_spanish</th>\n",
       "      <th>...</th>\n",
       "      <th>skill_blog_writing</th>\n",
       "      <th>skill_content_writing</th>\n",
       "      <th>skill_web_writing</th>\n",
       "      <th>skill_social_media_marketing</th>\n",
       "      <th>skill_article</th>\n",
       "      <th>skill_search_engine_optimization</th>\n",
       "      <th>skill_editing</th>\n",
       "      <th>gender_male</th>\n",
       "      <th>gender_female</th>\n",
       "      <th>gender_undefined</th>\n",
       "    </tr>\n",
       "  </thead>\n",
       "  <tbody>\n",
       "    <tr>\n",
       "      <th>0</th>\n",
       "      <td>4.9</td>\n",
       "      <td>4694</td>\n",
       "      <td>34.74</td>\n",
       "      <td>7672</td>\n",
       "      <td>4168</td>\n",
       "      <td>1</td>\n",
       "      <td>10.043</td>\n",
       "      <td>1.0</td>\n",
       "      <td>0.0</td>\n",
       "      <td>0.0</td>\n",
       "      <td>...</td>\n",
       "      <td>0.0</td>\n",
       "      <td>1.0</td>\n",
       "      <td>0.0</td>\n",
       "      <td>0.0</td>\n",
       "      <td>0.0</td>\n",
       "      <td>0.0</td>\n",
       "      <td>0.0</td>\n",
       "      <td>0</td>\n",
       "      <td>1</td>\n",
       "      <td>0</td>\n",
       "    </tr>\n",
       "    <tr>\n",
       "      <th>1</th>\n",
       "      <td>5.0</td>\n",
       "      <td>1190</td>\n",
       "      <td>138.95</td>\n",
       "      <td>1085</td>\n",
       "      <td>533</td>\n",
       "      <td>1</td>\n",
       "      <td>8.691</td>\n",
       "      <td>1.0</td>\n",
       "      <td>0.0</td>\n",
       "      <td>0.0</td>\n",
       "      <td>...</td>\n",
       "      <td>1.0</td>\n",
       "      <td>0.0</td>\n",
       "      <td>0.0</td>\n",
       "      <td>0.0</td>\n",
       "      <td>0.0</td>\n",
       "      <td>1.0</td>\n",
       "      <td>0.0</td>\n",
       "      <td>0</td>\n",
       "      <td>0</td>\n",
       "      <td>1</td>\n",
       "    </tr>\n",
       "    <tr>\n",
       "      <th>3</th>\n",
       "      <td>4.9</td>\n",
       "      <td>598</td>\n",
       "      <td>20.00</td>\n",
       "      <td>721</td>\n",
       "      <td>376</td>\n",
       "      <td>1</td>\n",
       "      <td>7.983</td>\n",
       "      <td>0.0</td>\n",
       "      <td>0.0</td>\n",
       "      <td>0.0</td>\n",
       "      <td>...</td>\n",
       "      <td>0.0</td>\n",
       "      <td>0.0</td>\n",
       "      <td>0.0</td>\n",
       "      <td>0.0</td>\n",
       "      <td>0.0</td>\n",
       "      <td>0.0</td>\n",
       "      <td>0.0</td>\n",
       "      <td>0</td>\n",
       "      <td>0</td>\n",
       "      <td>1</td>\n",
       "    </tr>\n",
       "    <tr>\n",
       "      <th>4</th>\n",
       "      <td>4.9</td>\n",
       "      <td>135</td>\n",
       "      <td>27.79</td>\n",
       "      <td>140</td>\n",
       "      <td>100</td>\n",
       "      <td>1</td>\n",
       "      <td>6.496</td>\n",
       "      <td>1.0</td>\n",
       "      <td>1.0</td>\n",
       "      <td>1.0</td>\n",
       "      <td>...</td>\n",
       "      <td>0.0</td>\n",
       "      <td>0.0</td>\n",
       "      <td>0.0</td>\n",
       "      <td>0.0</td>\n",
       "      <td>0.0</td>\n",
       "      <td>0.0</td>\n",
       "      <td>1.0</td>\n",
       "      <td>0</td>\n",
       "      <td>0</td>\n",
       "      <td>1</td>\n",
       "    </tr>\n",
       "    <tr>\n",
       "      <th>5</th>\n",
       "      <td>4.9</td>\n",
       "      <td>554</td>\n",
       "      <td>22.23</td>\n",
       "      <td>404</td>\n",
       "      <td>293</td>\n",
       "      <td>1</td>\n",
       "      <td>7.907</td>\n",
       "      <td>1.0</td>\n",
       "      <td>1.0</td>\n",
       "      <td>1.0</td>\n",
       "      <td>...</td>\n",
       "      <td>0.0</td>\n",
       "      <td>0.0</td>\n",
       "      <td>0.0</td>\n",
       "      <td>0.0</td>\n",
       "      <td>0.0</td>\n",
       "      <td>0.0</td>\n",
       "      <td>0.0</td>\n",
       "      <td>1</td>\n",
       "      <td>0</td>\n",
       "      <td>0</td>\n",
       "    </tr>\n",
       "  </tbody>\n",
       "</table>\n",
       "<p>5 rows × 55 columns</p>\n",
       "</div>"
      ],
      "text/plain": [
       "   rating  nb_reviews  Price/hour in USD  nb_projects  nb_buyers  last_active  \\\n",
       "0     4.9        4694              34.74         7672       4168            1   \n",
       "1     5.0        1190             138.95         1085        533            1   \n",
       "3     4.9         598              20.00          721        376            1   \n",
       "4     4.9         135              27.79          140        100            1   \n",
       "5     4.9         554              22.23          404        293            1   \n",
       "\n",
       "    score  lang_english  lang_french  lang_spanish  ...  skill_blog_writing  \\\n",
       "0  10.043           1.0          0.0           0.0  ...                 0.0   \n",
       "1   8.691           1.0          0.0           0.0  ...                 1.0   \n",
       "3   7.983           0.0          0.0           0.0  ...                 0.0   \n",
       "4   6.496           1.0          1.0           1.0  ...                 0.0   \n",
       "5   7.907           1.0          1.0           1.0  ...                 0.0   \n",
       "\n",
       "   skill_content_writing  skill_web_writing  skill_social_media_marketing  \\\n",
       "0                    1.0                0.0                           0.0   \n",
       "1                    0.0                0.0                           0.0   \n",
       "3                    0.0                0.0                           0.0   \n",
       "4                    0.0                0.0                           0.0   \n",
       "5                    0.0                0.0                           0.0   \n",
       "\n",
       "   skill_article  skill_search_engine_optimization  skill_editing  \\\n",
       "0            0.0                               0.0            0.0   \n",
       "1            0.0                               1.0            0.0   \n",
       "3            0.0                               0.0            0.0   \n",
       "4            0.0                               0.0            1.0   \n",
       "5            0.0                               0.0            0.0   \n",
       "\n",
       "   gender_male  gender_female  gender_undefined  \n",
       "0            0              1                 0  \n",
       "1            0              0                 1  \n",
       "3            0              0                 1  \n",
       "4            0              0                 1  \n",
       "5            1              0                 0  \n",
       "\n",
       "[5 rows x 55 columns]"
      ]
     },
     "execution_count": 29,
     "metadata": {},
     "output_type": "execute_result"
    }
   ],
   "source": [
    "data.head(5)"
   ]
  },
  {
   "cell_type": "code",
   "execution_count": 30,
   "metadata": {},
   "outputs": [
    {
     "name": "stdout",
     "output_type": "stream",
     "text": [
      "rating                              0\n",
      "nb_reviews                          0\n",
      "Price/hour in USD                   0\n",
      "nb_projects                         0\n",
      "nb_buyers                           0\n",
      "last_active                         0\n",
      "score                               0\n",
      "lang_english                        0\n",
      "lang_french                         0\n",
      "lang_spanish                        0\n",
      "lang_arabic                         0\n",
      "lang_german                         0\n",
      "lang_italian                        0\n",
      "lang_hindi                          0\n",
      "lang_urdu                           0\n",
      "lang_russian                        0\n",
      "lang_portuguese                     0\n",
      "lang_swahili                        0\n",
      "lang_bengali                        0\n",
      "lang_greek                          0\n",
      "lang_dutch                          0\n",
      "lang_chinese                        0\n",
      "exper_education                     0\n",
      "exper_advertising                   0\n",
      "exper_marketing                     0\n",
      "exper_media                         0\n",
      "exper_it                            0\n",
      "exper_internet                      0\n",
      "exper_technology                    0\n",
      "exper_entertainment                 0\n",
      "exper_travel                        0\n",
      "exper_art                           0\n",
      "country_UnitedKingdom               0\n",
      "country_India                       0\n",
      "country_Pakistan                    0\n",
      "country_Kenya                       0\n",
      "country_France                      0\n",
      "country_Germany                     0\n",
      "country_Spain                       0\n",
      "country_Bangladesh                  0\n",
      "country_Italy                       0\n",
      "country_Nigeria                     0\n",
      "skill_creative_writing              0\n",
      "skill_copywriting                   0\n",
      "skill_proofreading                  0\n",
      "skill_blog_writing                  0\n",
      "skill_content_writing               0\n",
      "skill_web_writing                   0\n",
      "skill_social_media_marketing        0\n",
      "skill_article                       0\n",
      "skill_search_engine_optimization    0\n",
      "skill_editing                       0\n",
      "gender_male                         0\n",
      "gender_female                       0\n",
      "gender_undefined                    0\n",
      "dtype: int64\n"
     ]
    }
   ],
   "source": [
    "print(data.isna().sum())"
   ]
  },
  {
   "cell_type": "code",
   "execution_count": 31,
   "metadata": {
    "scrolled": false
   },
   "outputs": [
    {
     "data": {
      "text/html": [
       "<div>\n",
       "<style scoped>\n",
       "    .dataframe tbody tr th:only-of-type {\n",
       "        vertical-align: middle;\n",
       "    }\n",
       "\n",
       "    .dataframe tbody tr th {\n",
       "        vertical-align: top;\n",
       "    }\n",
       "\n",
       "    .dataframe thead th {\n",
       "        text-align: right;\n",
       "    }\n",
       "</style>\n",
       "<table border=\"1\" class=\"dataframe\">\n",
       "  <thead>\n",
       "    <tr style=\"text-align: right;\">\n",
       "      <th></th>\n",
       "      <th>rating</th>\n",
       "      <th>nb_reviews</th>\n",
       "      <th>Price/hour in USD</th>\n",
       "      <th>nb_projects</th>\n",
       "      <th>nb_buyers</th>\n",
       "      <th>last_active</th>\n",
       "      <th>score</th>\n",
       "      <th>lang_english</th>\n",
       "      <th>lang_french</th>\n",
       "      <th>lang_spanish</th>\n",
       "      <th>...</th>\n",
       "      <th>skill_blog_writing</th>\n",
       "      <th>skill_content_writing</th>\n",
       "      <th>skill_web_writing</th>\n",
       "      <th>skill_social_media_marketing</th>\n",
       "      <th>skill_article</th>\n",
       "      <th>skill_search_engine_optimization</th>\n",
       "      <th>skill_editing</th>\n",
       "      <th>gender_male</th>\n",
       "      <th>gender_female</th>\n",
       "      <th>gender_undefined</th>\n",
       "    </tr>\n",
       "  </thead>\n",
       "  <tbody>\n",
       "    <tr>\n",
       "      <th>count</th>\n",
       "      <td>7073.000000</td>\n",
       "      <td>7073.000000</td>\n",
       "      <td>7073.000000</td>\n",
       "      <td>7073.000000</td>\n",
       "      <td>7073.000000</td>\n",
       "      <td>7073.000000</td>\n",
       "      <td>7073.000000</td>\n",
       "      <td>7073.000000</td>\n",
       "      <td>7073.000000</td>\n",
       "      <td>7073.000000</td>\n",
       "      <td>...</td>\n",
       "      <td>7073.000000</td>\n",
       "      <td>7073.000000</td>\n",
       "      <td>7073.000000</td>\n",
       "      <td>7073.000000</td>\n",
       "      <td>7073.000000</td>\n",
       "      <td>7073.000000</td>\n",
       "      <td>7073.000000</td>\n",
       "      <td>7073.000000</td>\n",
       "      <td>7073.000000</td>\n",
       "      <td>7073.000000</td>\n",
       "    </tr>\n",
       "    <tr>\n",
       "      <th>mean</th>\n",
       "      <td>4.834398</td>\n",
       "      <td>43.217447</td>\n",
       "      <td>30.884676</td>\n",
       "      <td>46.545879</td>\n",
       "      <td>30.039446</td>\n",
       "      <td>0.640888</td>\n",
       "      <td>3.881086</td>\n",
       "      <td>0.792309</td>\n",
       "      <td>0.103634</td>\n",
       "      <td>0.092464</td>\n",
       "      <td>...</td>\n",
       "      <td>0.336067</td>\n",
       "      <td>0.438993</td>\n",
       "      <td>0.138555</td>\n",
       "      <td>0.144352</td>\n",
       "      <td>0.170932</td>\n",
       "      <td>0.171921</td>\n",
       "      <td>0.182525</td>\n",
       "      <td>0.353174</td>\n",
       "      <td>0.481832</td>\n",
       "      <td>0.164994</td>\n",
       "    </tr>\n",
       "    <tr>\n",
       "      <th>std</th>\n",
       "      <td>0.667073</td>\n",
       "      <td>185.349740</td>\n",
       "      <td>34.608079</td>\n",
       "      <td>274.213685</td>\n",
       "      <td>166.041998</td>\n",
       "      <td>0.479774</td>\n",
       "      <td>1.568235</td>\n",
       "      <td>0.405683</td>\n",
       "      <td>0.304806</td>\n",
       "      <td>0.289701</td>\n",
       "      <td>...</td>\n",
       "      <td>0.472395</td>\n",
       "      <td>0.496299</td>\n",
       "      <td>0.345506</td>\n",
       "      <td>0.351471</td>\n",
       "      <td>0.376476</td>\n",
       "      <td>0.377339</td>\n",
       "      <td>0.386304</td>\n",
       "      <td>0.477990</td>\n",
       "      <td>0.499705</td>\n",
       "      <td>0.371201</td>\n",
       "    </tr>\n",
       "    <tr>\n",
       "      <th>min</th>\n",
       "      <td>0.000000</td>\n",
       "      <td>0.000000</td>\n",
       "      <td>8.340000</td>\n",
       "      <td>1.000000</td>\n",
       "      <td>0.000000</td>\n",
       "      <td>0.000000</td>\n",
       "      <td>0.000000</td>\n",
       "      <td>0.000000</td>\n",
       "      <td>0.000000</td>\n",
       "      <td>0.000000</td>\n",
       "      <td>...</td>\n",
       "      <td>0.000000</td>\n",
       "      <td>0.000000</td>\n",
       "      <td>0.000000</td>\n",
       "      <td>0.000000</td>\n",
       "      <td>0.000000</td>\n",
       "      <td>0.000000</td>\n",
       "      <td>0.000000</td>\n",
       "      <td>0.000000</td>\n",
       "      <td>0.000000</td>\n",
       "      <td>0.000000</td>\n",
       "    </tr>\n",
       "    <tr>\n",
       "      <th>25%</th>\n",
       "      <td>4.900000</td>\n",
       "      <td>3.000000</td>\n",
       "      <td>14.500000</td>\n",
       "      <td>3.000000</td>\n",
       "      <td>2.000000</td>\n",
       "      <td>0.000000</td>\n",
       "      <td>2.773000</td>\n",
       "      <td>1.000000</td>\n",
       "      <td>0.000000</td>\n",
       "      <td>0.000000</td>\n",
       "      <td>...</td>\n",
       "      <td>0.000000</td>\n",
       "      <td>0.000000</td>\n",
       "      <td>0.000000</td>\n",
       "      <td>0.000000</td>\n",
       "      <td>0.000000</td>\n",
       "      <td>0.000000</td>\n",
       "      <td>0.000000</td>\n",
       "      <td>0.000000</td>\n",
       "      <td>0.000000</td>\n",
       "      <td>0.000000</td>\n",
       "    </tr>\n",
       "    <tr>\n",
       "      <th>50%</th>\n",
       "      <td>5.000000</td>\n",
       "      <td>8.000000</td>\n",
       "      <td>24.170000</td>\n",
       "      <td>8.000000</td>\n",
       "      <td>6.000000</td>\n",
       "      <td>1.000000</td>\n",
       "      <td>3.714000</td>\n",
       "      <td>1.000000</td>\n",
       "      <td>0.000000</td>\n",
       "      <td>0.000000</td>\n",
       "      <td>...</td>\n",
       "      <td>0.000000</td>\n",
       "      <td>0.000000</td>\n",
       "      <td>0.000000</td>\n",
       "      <td>0.000000</td>\n",
       "      <td>0.000000</td>\n",
       "      <td>0.000000</td>\n",
       "      <td>0.000000</td>\n",
       "      <td>0.000000</td>\n",
       "      <td>0.000000</td>\n",
       "      <td>0.000000</td>\n",
       "    </tr>\n",
       "    <tr>\n",
       "      <th>75%</th>\n",
       "      <td>5.000000</td>\n",
       "      <td>27.000000</td>\n",
       "      <td>35.000000</td>\n",
       "      <td>26.000000</td>\n",
       "      <td>19.000000</td>\n",
       "      <td>1.000000</td>\n",
       "      <td>4.913000</td>\n",
       "      <td>1.000000</td>\n",
       "      <td>0.000000</td>\n",
       "      <td>0.000000</td>\n",
       "      <td>...</td>\n",
       "      <td>1.000000</td>\n",
       "      <td>1.000000</td>\n",
       "      <td>0.000000</td>\n",
       "      <td>0.000000</td>\n",
       "      <td>0.000000</td>\n",
       "      <td>0.000000</td>\n",
       "      <td>0.000000</td>\n",
       "      <td>1.000000</td>\n",
       "      <td>1.000000</td>\n",
       "      <td>0.000000</td>\n",
       "    </tr>\n",
       "    <tr>\n",
       "      <th>max</th>\n",
       "      <td>5.000000</td>\n",
       "      <td>8647.000000</td>\n",
       "      <td>1354.740000</td>\n",
       "      <td>16306.000000</td>\n",
       "      <td>10343.000000</td>\n",
       "      <td>1.000000</td>\n",
       "      <td>10.634000</td>\n",
       "      <td>1.000000</td>\n",
       "      <td>1.000000</td>\n",
       "      <td>1.000000</td>\n",
       "      <td>...</td>\n",
       "      <td>1.000000</td>\n",
       "      <td>1.000000</td>\n",
       "      <td>1.000000</td>\n",
       "      <td>1.000000</td>\n",
       "      <td>1.000000</td>\n",
       "      <td>1.000000</td>\n",
       "      <td>1.000000</td>\n",
       "      <td>1.000000</td>\n",
       "      <td>1.000000</td>\n",
       "      <td>1.000000</td>\n",
       "    </tr>\n",
       "  </tbody>\n",
       "</table>\n",
       "<p>8 rows × 55 columns</p>\n",
       "</div>"
      ],
      "text/plain": [
       "            rating   nb_reviews  Price/hour in USD   nb_projects  \\\n",
       "count  7073.000000  7073.000000        7073.000000   7073.000000   \n",
       "mean      4.834398    43.217447          30.884676     46.545879   \n",
       "std       0.667073   185.349740          34.608079    274.213685   \n",
       "min       0.000000     0.000000           8.340000      1.000000   \n",
       "25%       4.900000     3.000000          14.500000      3.000000   \n",
       "50%       5.000000     8.000000          24.170000      8.000000   \n",
       "75%       5.000000    27.000000          35.000000     26.000000   \n",
       "max       5.000000  8647.000000        1354.740000  16306.000000   \n",
       "\n",
       "          nb_buyers  last_active        score  lang_english  lang_french  \\\n",
       "count   7073.000000  7073.000000  7073.000000   7073.000000  7073.000000   \n",
       "mean      30.039446     0.640888     3.881086      0.792309     0.103634   \n",
       "std      166.041998     0.479774     1.568235      0.405683     0.304806   \n",
       "min        0.000000     0.000000     0.000000      0.000000     0.000000   \n",
       "25%        2.000000     0.000000     2.773000      1.000000     0.000000   \n",
       "50%        6.000000     1.000000     3.714000      1.000000     0.000000   \n",
       "75%       19.000000     1.000000     4.913000      1.000000     0.000000   \n",
       "max    10343.000000     1.000000    10.634000      1.000000     1.000000   \n",
       "\n",
       "       lang_spanish  ...  skill_blog_writing  skill_content_writing  \\\n",
       "count   7073.000000  ...         7073.000000            7073.000000   \n",
       "mean       0.092464  ...            0.336067               0.438993   \n",
       "std        0.289701  ...            0.472395               0.496299   \n",
       "min        0.000000  ...            0.000000               0.000000   \n",
       "25%        0.000000  ...            0.000000               0.000000   \n",
       "50%        0.000000  ...            0.000000               0.000000   \n",
       "75%        0.000000  ...            1.000000               1.000000   \n",
       "max        1.000000  ...            1.000000               1.000000   \n",
       "\n",
       "       skill_web_writing  skill_social_media_marketing  skill_article  \\\n",
       "count        7073.000000                   7073.000000    7073.000000   \n",
       "mean            0.138555                      0.144352       0.170932   \n",
       "std             0.345506                      0.351471       0.376476   \n",
       "min             0.000000                      0.000000       0.000000   \n",
       "25%             0.000000                      0.000000       0.000000   \n",
       "50%             0.000000                      0.000000       0.000000   \n",
       "75%             0.000000                      0.000000       0.000000   \n",
       "max             1.000000                      1.000000       1.000000   \n",
       "\n",
       "       skill_search_engine_optimization  skill_editing  gender_male  \\\n",
       "count                       7073.000000    7073.000000  7073.000000   \n",
       "mean                           0.171921       0.182525     0.353174   \n",
       "std                            0.377339       0.386304     0.477990   \n",
       "min                            0.000000       0.000000     0.000000   \n",
       "25%                            0.000000       0.000000     0.000000   \n",
       "50%                            0.000000       0.000000     0.000000   \n",
       "75%                            0.000000       0.000000     1.000000   \n",
       "max                            1.000000       1.000000     1.000000   \n",
       "\n",
       "       gender_female  gender_undefined  \n",
       "count    7073.000000       7073.000000  \n",
       "mean        0.481832          0.164994  \n",
       "std         0.499705          0.371201  \n",
       "min         0.000000          0.000000  \n",
       "25%         0.000000          0.000000  \n",
       "50%         0.000000          0.000000  \n",
       "75%         1.000000          0.000000  \n",
       "max         1.000000          1.000000  \n",
       "\n",
       "[8 rows x 55 columns]"
      ]
     },
     "execution_count": 31,
     "metadata": {},
     "output_type": "execute_result"
    }
   ],
   "source": [
    "data.describe()"
   ]
  },
  {
   "cell_type": "code",
   "execution_count": 32,
   "metadata": {
    "scrolled": false
   },
   "outputs": [
    {
     "name": "stdout",
     "output_type": "stream",
     "text": [
      "                            OLS Regression Results                            \n",
      "==============================================================================\n",
      "Dep. Variable:      Price/hour in USD   R-squared:                       0.080\n",
      "Model:                            OLS   Adj. R-squared:                  0.070\n",
      "Method:                 Least Squares   F-statistic:                     8.560\n",
      "Date:                Wed, 02 Jun 2021   Prob (F-statistic):           7.57e-62\n",
      "Time:                        15:35:26   Log-Likelihood:                -26328.\n",
      "No. Observations:                5304   AIC:                         5.276e+04\n",
      "Df Residuals:                    5250   BIC:                         5.312e+04\n",
      "Df Model:                          53                                         \n",
      "Covariance Type:            nonrobust                                         \n",
      "====================================================================================================\n",
      "                                       coef    std err          t      P>|t|      [0.025      0.975]\n",
      "----------------------------------------------------------------------------------------------------\n",
      "rating                               0.3629      0.788      0.461      0.645      -1.182       1.908\n",
      "nb_reviews                          -0.0034      0.009     -0.378      0.705      -0.021       0.014\n",
      "nb_projects                         -0.0293      0.014     -2.092      0.036      -0.057      -0.002\n",
      "nb_buyers                            0.0499      0.020      2.481      0.013       0.010       0.089\n",
      "last_active                          0.2000      1.060      0.189      0.850      -1.878       2.278\n",
      "score                                1.8321      0.413      4.438      0.000       1.023       2.642\n",
      "lang_english                         4.9832      1.336      3.731      0.000       2.365       7.602\n",
      "lang_french                          1.0700      1.813      0.590      0.555      -2.485       4.625\n",
      "lang_spanish                        -2.1866      1.885     -1.160      0.246      -5.881       1.508\n",
      "lang_arabic                         -8.3887      2.645     -3.171      0.002     -13.575      -3.203\n",
      "lang_german                          6.9798      2.301      3.033      0.002       2.469      11.491\n",
      "lang_italian                        -3.6382      2.809     -1.295      0.195      -9.145       1.868\n",
      "lang_hindi                           0.6253      2.923      0.214      0.831      -5.106       6.356\n",
      "lang_urdu                           -0.7597      3.095     -0.245      0.806      -6.827       5.308\n",
      "lang_russian                        -5.8324      3.094     -1.885      0.059     -11.898       0.233\n",
      "lang_portuguese                     -2.6019      3.621     -0.719      0.472      -9.700       4.496\n",
      "lang_swahili                        -2.3470      5.171     -0.454      0.650     -12.484       7.790\n",
      "lang_bengali                        -2.9806      5.445     -0.547      0.584     -13.655       7.694\n",
      "lang_greek                          -2.1675      4.301     -0.504      0.614     -10.600       6.265\n",
      "lang_dutch                          14.5736      4.419      3.298      0.001       5.911      23.237\n",
      "lang_chinese                        -2.1206      3.688     -0.575      0.565      -9.350       5.109\n",
      "exper_education                      1.2366      1.419      0.872      0.384      -1.545       4.018\n",
      "exper_advertising                    0.4319      1.579      0.274      0.784      -2.663       3.527\n",
      "exper_marketing                     -0.4478      1.319     -0.340      0.734      -3.033       2.138\n",
      "exper_media                         -1.6737      1.575     -1.063      0.288      -4.761       1.414\n",
      "exper_it                            -2.2722      1.668     -1.362      0.173      -5.542       0.997\n",
      "exper_internet                      -1.1812      1.728     -0.683      0.494      -4.569       2.207\n",
      "exper_technology                     3.6670      1.707      2.148      0.032       0.321       7.013\n",
      "exper_entertainment                 -2.2830      1.903     -1.200      0.230      -6.013       1.447\n",
      "exper_travel                         0.6445      1.769      0.364      0.716      -2.823       4.112\n",
      "exper_art                           -2.4980      2.103     -1.188      0.235      -6.620       1.624\n",
      "country_UnitedKingdom               12.3814      1.238     10.002      0.000       9.954      14.808\n",
      "country_India                       -7.6224      2.344     -3.252      0.001     -12.218      -3.027\n",
      "country_Pakistan                    -9.5020      2.697     -3.523      0.000     -14.790      -4.214\n",
      "country_Kenya                       -5.6012      3.524     -1.589      0.112     -12.510       1.308\n",
      "country_France                       2.8051      3.667      0.765      0.444      -4.384       9.994\n",
      "country_Germany                      5.2717      3.866      1.364      0.173      -2.308      12.851\n",
      "country_Spain                        3.9238      3.619      1.084      0.278      -3.171      11.018\n",
      "country_Bangladesh                 -10.6626      4.233     -2.519      0.012     -18.960      -2.365\n",
      "country_Italy                       -1.5909      3.994     -0.398      0.690      -9.420       6.238\n",
      "country_Nigeria                     -4.4428      3.893     -1.141      0.254     -12.074       3.188\n",
      "skill_creative_writing              -5.3567      1.279     -4.187      0.000      -7.865      -2.849\n",
      "skill_copywriting                    2.7075      1.201      2.255      0.024       0.353       5.062\n",
      "skill_proofreading                  -6.0658      1.180     -5.140      0.000      -8.380      -3.752\n",
      "skill_blog_writing                  -0.8390      1.244     -0.675      0.500      -3.277       1.599\n",
      "skill_content_writing               -0.2102      1.162     -0.181      0.856      -2.489       2.069\n",
      "skill_web_writing                    1.6574      1.563      1.061      0.289      -1.406       4.721\n",
      "skill_social_media_marketing        -0.5729      1.488     -0.385      0.700      -3.489       2.343\n",
      "skill_article                       -0.6008      1.436     -0.418      0.676      -3.417       2.215\n",
      "skill_search_engine_optimization    -0.5803      1.423     -0.408      0.684      -3.371       2.210\n",
      "skill_editing                        2.2164      1.424      1.557      0.120      -0.575       5.007\n",
      "gender_male                         17.8641      3.937      4.538      0.000      10.147      25.581\n",
      "gender_female                       15.8188      3.963      3.991      0.000       8.049      23.588\n",
      "gender_undefined                    17.5996      3.954      4.451      0.000       9.848      25.351\n",
      "==============================================================================\n",
      "Omnibus:                    10467.090   Durbin-Watson:                   1.967\n",
      "Prob(Omnibus):                  0.000   Jarque-Bera (JB):         45329186.557\n",
      "Skew:                          15.464   Prob(JB):                         0.00\n",
      "Kurtosis:                     454.833   Cond. No.                     5.78e+03\n",
      "==============================================================================\n",
      "\n",
      "Notes:\n",
      "[1] Standard Errors assume that the covariance matrix of the errors is correctly specified.\n",
      "[2] The condition number is large, 5.78e+03. This might indicate that there are\n",
      "strong multicollinearity or other numerical problems.\n"
     ]
    }
   ],
   "source": [
    "X = data.drop(['Price/hour in USD'], axis=1)\n",
    "X = sm.add_constant(X) # for the intercept\n",
    "y = data['Price/hour in USD']\n",
    "\n",
    "model = sm.OLS(y, X)\n",
    "result = model.fit()\n",
    "print(result.summary())"
   ]
  },
  {
   "cell_type": "markdown",
   "metadata": {},
   "source": [
    "# Regression on panel data"
   ]
  },
  {
   "cell_type": "code",
   "execution_count": 33,
   "metadata": {},
   "outputs": [],
   "source": [
    "pdata = pd.read_csv('./data/panel_data_04_05.csv')"
   ]
  },
  {
   "cell_type": "markdown",
   "metadata": {},
   "source": [
    "## Format scraping dates"
   ]
  },
  {
   "cell_type": "code",
   "execution_count": 34,
   "metadata": {},
   "outputs": [],
   "source": [
    "fdates = pd.to_datetime(pdata.scraping_date, dayfirst=True)\n",
    "pdata = pdata.assign(scraping_date=fdates)"
   ]
  },
  {
   "cell_type": "markdown",
   "metadata": {},
   "source": [
    "## Remove inactive profiles and drop unnecessary features"
   ]
  },
  {
   "cell_type": "code",
   "execution_count": 35,
   "metadata": {},
   "outputs": [],
   "source": [
    "pdata = pdata.drop(pdata.loc[pdata['nb_projects']==0].index)\n",
    "pdata = pdata.drop(['description', 'city'], axis=1)"
   ]
  },
  {
   "cell_type": "markdown",
   "metadata": {},
   "source": [
    "## Spoken languages"
   ]
  },
  {
   "cell_type": "code",
   "execution_count": 36,
   "metadata": {},
   "outputs": [],
   "source": [
    "languages = pdata.languages"
   ]
  },
  {
   "cell_type": "code",
   "execution_count": 37,
   "metadata": {},
   "outputs": [],
   "source": [
    "n = len(pdata)\n",
    "english, french, spanish, arabic, german, italian, hindi, urdu, russian, portuguese, swahili, bengali, greek, dutch, chinese = np.zeros(n), np.zeros(n), np.zeros(n), np.zeros(n), np.zeros(n), np.zeros(n), np.zeros(n), np.zeros(n), np.zeros(n), np.zeros(n), np.zeros(n), np.zeros(n), np.zeros(n), np.zeros(n), np.zeros(n),\n",
    "\n",
    "for i, lang in enumerate(languages):\n",
    "    lang=ast.literal_eval(lang)\n",
    "    if 'English' in lang:\n",
    "        english[i]=1\n",
    "    if 'French' in lang:\n",
    "        french[i]=1\n",
    "    if 'Spanish' in lang:\n",
    "        spanish[i]=1\n",
    "    if 'Arabic' in lang:\n",
    "        arabic[i]=1\n",
    "    if 'German' in lang:\n",
    "        german[i]=1\n",
    "    if 'Italian' in lang:\n",
    "        italian[i]=1\n",
    "    if 'Hindi' in lang:\n",
    "        hindi[i]=1\n",
    "    if 'Urdu' in lang:\n",
    "        urdu[i]=1\n",
    "    if 'Russian' in lang:\n",
    "        russian[i]=1\n",
    "    if 'Portuguese' in lang:\n",
    "        portuguese[i]=1\n",
    "    if 'Swahili' in lang:\n",
    "        swahili[i]=1\n",
    "    if 'Bengali' in lang:\n",
    "        bengali[i]=1\n",
    "    if 'Greek' in lang:\n",
    "        greek[i]=1\n",
    "    if 'Dutch' in lang:\n",
    "        dutch[i]=1\n",
    "    if 'Chinese' in lang:\n",
    "        chinese[i]=1 "
   ]
  },
  {
   "cell_type": "code",
   "execution_count": 38,
   "metadata": {},
   "outputs": [],
   "source": [
    "pdata = pdata.drop(['languages'], axis=1)\n",
    "\n",
    "pdata['lang_english'] = english\n",
    "pdata['lang_french'] = french\n",
    "pdata['lang_spanish'] = spanish\n",
    "pdata['lang_arabic'] = arabic\n",
    "pdata['lang_german'] = german\n",
    "pdata['lang_italian'] = italian\n",
    "pdata['lang_hindi'] = hindi\n",
    "pdata['lang_urdu'] = urdu\n",
    "pdata['lang_russian'] = russian\n",
    "pdata['lang_portuguese'] = portuguese\n",
    "pdata['lang_swahili'] = swahili\n",
    "pdata['lang_bengali'] = bengali\n",
    "pdata['lang_greek'] = greek\n",
    "pdata['lang_dutch'] = dutch\n",
    "pdata['lang_chinese'] = chinese"
   ]
  },
  {
   "cell_type": "markdown",
   "metadata": {},
   "source": [
    "## Industry expertise"
   ]
  },
  {
   "cell_type": "code",
   "execution_count": 39,
   "metadata": {},
   "outputs": [],
   "source": [
    "industry_expertise = pdata.industry_expertise"
   ]
  },
  {
   "cell_type": "code",
   "execution_count": 40,
   "metadata": {},
   "outputs": [],
   "source": [
    "n = len(pdata)\n",
    "marketing, education, advertising, media, it, internet, technology, entertainment, travel, art = np.zeros(n), np.zeros(n), np.zeros(n), np.zeros(n), np.zeros(n), np.zeros(n), np.zeros(n), np.zeros(n), np.zeros(n), np.zeros(n)\n",
    "\n",
    "for i, exper in enumerate(industry_expertise):\n",
    "    exper=ast.literal_eval(exper)\n",
    "    if 'Marketing' in exper:\n",
    "        marketing[i]=1\n",
    "    if 'Education' in exper:\n",
    "        education[i]=1\n",
    "    if 'Advertising' in exper:\n",
    "        advertising[i]=1\n",
    "    if 'Media' in exper:\n",
    "        media[i]=1\n",
    "    if 'IT' in exper:\n",
    "        it[i]=1\n",
    "    if 'Internet' in exper:\n",
    "        internet[i]=1\n",
    "    if 'Technology' in exper:\n",
    "        technology[i]=1\n",
    "    if 'Entertainment' in exper:\n",
    "        entertainment[i]=1\n",
    "    if 'Travel' in exper:\n",
    "        travel[i]=1\n",
    "    if 'Art' in exper:\n",
    "        art[i]=1"
   ]
  },
  {
   "cell_type": "code",
   "execution_count": 41,
   "metadata": {},
   "outputs": [],
   "source": [
    "pdata = pdata.drop(['industry_expertise'], axis=1)\n",
    "\n",
    "pdata['exper_education'] = education\n",
    "pdata['exper_advertising'] = advertising\n",
    "pdata['exper_marketing'] = marketing\n",
    "pdata['exper_media'] = media\n",
    "pdata['exper_it'] = it\n",
    "pdata['exper_internet'] = internet\n",
    "pdata['exper_technology'] = technology\n",
    "pdata['exper_entertainment'] = entertainment\n",
    "pdata['exper_travel'] = travel\n",
    "pdata['exper_art'] = art"
   ]
  },
  {
   "cell_type": "markdown",
   "metadata": {},
   "source": [
    "## Last active binary variable"
   ]
  },
  {
   "cell_type": "code",
   "execution_count": 42,
   "metadata": {},
   "outputs": [],
   "source": [
    "pdata['last_active'] = pd.to_datetime(pdata.last_active)\n",
    "threshold = datetime.datetime.strptime('20-03-2021', '%d-%m-%Y') \n",
    "# Choose date to qualify if worker was recently active\n",
    "\n",
    "pdata['last_active'] = threshold < pdata.last_active\n",
    "pdata['last_active'] = pdata.last_active*1"
   ]
  },
  {
   "cell_type": "markdown",
   "metadata": {},
   "source": [
    "## Country of work"
   ]
  },
  {
   "cell_type": "code",
   "execution_count": 43,
   "metadata": {},
   "outputs": [],
   "source": [
    "countries = pdata['country']\n",
    "counts = pd.value_counts(countries)\n",
    "mask = countries.isin(counts.index)\n",
    "countries_dummies = pd.get_dummies(countries[mask])\n",
    "\n",
    "pdata = pdata.drop('country', axis=1)\n",
    "pdata['country_UnitedKingdom'] = countries_dummies[' United Kingdom']\n",
    "pdata['country_India'] = countries_dummies[' India']\n",
    "pdata['country_Pakistan'] = countries_dummies[' Pakistan']\n",
    "pdata['country_Kenya'] = countries_dummies[' Kenya']\n",
    "pdata['country_France'] = countries_dummies[' France']\n",
    "pdata['country_Germany'] = countries_dummies[' Germany']\n",
    "pdata['country_Spain'] = countries_dummies[' Spain']\n",
    "pdata['country_Bangladesh'] = countries_dummies[' Bangladesh']\n",
    "pdata['country_Italy'] = countries_dummies[' Italy']\n",
    "pdata['country_Nigeria'] = countries_dummies[' Nigeria']"
   ]
  },
  {
   "cell_type": "markdown",
   "metadata": {},
   "source": [
    "## Skills"
   ]
  },
  {
   "cell_type": "code",
   "execution_count": 44,
   "metadata": {},
   "outputs": [],
   "source": [
    "skills = pdata.skills"
   ]
  },
  {
   "cell_type": "code",
   "execution_count": 45,
   "metadata": {},
   "outputs": [],
   "source": [
    "n = len(pdata)\n",
    "creative_writing, copywriting, proofreading, blog_writing, content_writing, web_writing, social_media_marketing, article, search_engine_optimization, editing = np.zeros(n), np.zeros(n), np.zeros(n), np.zeros(n), np.zeros(n), np.zeros(n), np.zeros(n), np.zeros(n), np.zeros(n), np.zeros(n)\n",
    "\n",
    "for i, sk in enumerate(skills):\n",
    "    sk=ast.literal_eval(sk)\n",
    "    if 'creative writing' in sk:\n",
    "        creative_writing[i]=1\n",
    "    if 'copywriting' in sk:\n",
    "        copywriting[i]=1\n",
    "    if 'proofreading' in sk:\n",
    "        proofreading[i]=1\n",
    "    if 'blog writing' in sk:\n",
    "        blog_writing[i]=1\n",
    "    if 'content writing' in sk:\n",
    "        content_writing[i]=1\n",
    "    if 'web writing' in sk:\n",
    "        web_writing[i]=1\n",
    "    if 'social media marketing' in sk:\n",
    "        social_media_marketing[i]=1\n",
    "    if 'article' in sk:\n",
    "        article[i]=1\n",
    "    if 'search engine optimization' in sk:\n",
    "        search_engine_optimization[i]=1\n",
    "    if 'editing' in sk:\n",
    "        editing[i]=1"
   ]
  },
  {
   "cell_type": "code",
   "execution_count": 46,
   "metadata": {},
   "outputs": [],
   "source": [
    "pdata = pdata.drop(['skills'],axis=1)\n",
    "\n",
    "pdata['skill_creative_writing'] = creative_writing\n",
    "pdata['skill_copywriting'] = copywriting\n",
    "pdata['skill_proofreading'] = proofreading\n",
    "pdata['skill_blog_writing'] = blog_writing\n",
    "pdata['skill_content_writing'] = content_writing\n",
    "pdata['skill_web_writing'] = web_writing\n",
    "pdata['skill_social_media_marketing'] = social_media_marketing\n",
    "pdata['skill_article'] = article\n",
    "pdata['skill_search_engine_optimization'] = search_engine_optimization\n",
    "pdata['skill_editing'] = editing"
   ]
  },
  {
   "cell_type": "markdown",
   "metadata": {},
   "source": [
    "## Gender"
   ]
  },
  {
   "cell_type": "code",
   "execution_count": 47,
   "metadata": {},
   "outputs": [],
   "source": [
    "genders = pdata['gender']\n",
    "gen = pd.get_dummies(genders)\n",
    "\n",
    "pdata = pdata.drop(['gender'], axis=1)\n",
    "pdata['gender_male'] = gen['male']\n",
    "pdata['gender_female'] = gen['female']\n",
    "pdata['gender_undefined'] = gen['unknown']"
   ]
  },
  {
   "cell_type": "markdown",
   "metadata": {},
   "source": [
    "## Create df for ols regression"
   ]
  },
  {
   "cell_type": "code",
   "execution_count": 48,
   "metadata": {},
   "outputs": [],
   "source": [
    "p_ols = pdata.set_index(['name', 'scraping_date'])"
   ]
  },
  {
   "cell_type": "code",
   "execution_count": 49,
   "metadata": {},
   "outputs": [],
   "source": [
    "X, y = p_ols.drop('Price/hour in USD', axis=1), p_ols['Price/hour in USD']"
   ]
  },
  {
   "cell_type": "code",
   "execution_count": 50,
   "metadata": {},
   "outputs": [],
   "source": [
    "ols = PanelOLS(y, X, time_effects=True).fit(cov_type='clustered', cluster_time=True)"
   ]
  },
  {
   "cell_type": "code",
   "execution_count": 51,
   "metadata": {
    "scrolled": false
   },
   "outputs": [
    {
     "name": "stdout",
     "output_type": "stream",
     "text": [
      "                          PanelOLS Estimation Summary                           \n",
      "================================================================================\n",
      "Dep. Variable:      Price/hour in USD   R-squared:                        0.0866\n",
      "Estimator:                   PanelOLS   R-squared (Between):              0.0882\n",
      "No. Observations:               13926   R-squared (Within):              -0.6116\n",
      "Date:                Wed, Jun 02 2021   R-squared (Overall):              0.0866\n",
      "Time:                        15:35:29   Log-likelihood                -6.866e+04\n",
      "Cov. Estimator:             Clustered                                           \n",
      "                                        F-statistic:                      24.809\n",
      "Entities:                        6850   P-value                           0.0000\n",
      "Avg Obs:                       2.0330   Distribution:                F(53,13871)\n",
      "Min Obs:                       1.0000                                           \n",
      "Max Obs:                       30.000   F-statistic (robust):          3.847e+17\n",
      "                                        P-value                           0.0000\n",
      "Time periods:                       2   Distribution:                F(53,13871)\n",
      "Avg Obs:                       6963.0                                           \n",
      "Min Obs:                       6948.0                                           \n",
      "Max Obs:                       6978.0                                           \n",
      "                                                                                \n",
      "                                        Parameter Estimates                                         \n",
      "====================================================================================================\n",
      "                                  Parameter  Std. Err.     T-stat    P-value    Lower CI    Upper CI\n",
      "----------------------------------------------------------------------------------------------------\n",
      "rating                               0.0342     0.0090     3.7986     0.0001      0.0165      0.0518\n",
      "nb_reviews                           0.0005  3.475e-05     13.982     0.0000      0.0004      0.0006\n",
      "nb_projects                         -0.0407  3.249e-05    -1254.1     0.0000     -0.0408     -0.0407\n",
      "nb_buyers                            0.0651   1.05e-05     6196.7     0.0000      0.0651      0.0651\n",
      "last_active                          0.3980     0.2758     1.4427     0.1491     -0.1427      0.9387\n",
      "score                                1.8812     0.0240     78.477     0.0000      1.8342      1.9282\n",
      "lang_english                         4.4199     0.0056     795.26     0.0000      4.4090      4.4308\n",
      "lang_french                          1.2318     0.0190     64.679     0.0000      1.1944      1.2691\n",
      "lang_spanish                        -1.2552     0.0775    -16.187     0.0000     -1.4073     -1.1032\n",
      "lang_arabic                         -7.8397     0.0649    -120.81     0.0000     -7.9669     -7.7125\n",
      "lang_german                          8.1865     0.1278     64.056     0.0000      7.9360      8.4370\n",
      "lang_italian                        -0.4568     0.1608    -2.8410     0.0045     -0.7720     -0.1416\n",
      "lang_hindi                           2.1928     0.1308     16.762     0.0000      1.9364      2.4492\n",
      "lang_urdu                            1.0966     0.0005     2131.4     0.0000      1.0956      1.0976\n",
      "lang_russian                        -5.6459     0.0668    -84.564     0.0000     -5.7768     -5.5150\n",
      "lang_portuguese                     -4.5295     0.2424    -18.689     0.0000     -5.0046     -4.0544\n",
      "lang_swahili                        -3.3112     0.5213    -6.3523     0.0000     -4.3329     -2.2894\n",
      "lang_bengali                        -4.5027     0.3486    -12.917     0.0000     -5.1860     -3.8194\n",
      "lang_greek                          -2.8492     0.0889    -32.058     0.0000     -3.0234     -2.6750\n",
      "lang_dutch                           10.316     0.2514     41.028     0.0000      9.8228      10.808\n",
      "lang_chinese                        -2.7807     0.2701    -10.294     0.0000     -3.3101     -2.2512\n",
      "exper_education                      0.3883     0.0908     4.2746     0.0000      0.2103      0.5664\n",
      "exper_advertising                    0.3627     0.0447     8.1162     0.0000      0.2751      0.4503\n",
      "exper_marketing                     -0.5962     0.0239    -24.981     0.0000     -0.6429     -0.5494\n",
      "exper_media                         -1.6850     0.0204    -82.565     0.0000     -1.7250     -1.6450\n",
      "exper_it                            -2.4958     0.0174    -143.84     0.0000     -2.5298     -2.4618\n",
      "exper_internet                      -2.0093     0.0397    -50.557     0.0000     -2.0872     -1.9314\n",
      "exper_technology                     4.4435     0.0451     98.476     0.0000      4.3551      4.5320\n",
      "exper_entertainment                 -2.8953     0.1564    -18.509     0.0000     -3.2019     -2.5886\n",
      "exper_travel                         0.2175     0.1277     1.7033     0.0885     -0.0328      0.4678\n",
      "exper_art                           -2.9935     0.1631    -18.354     0.0000     -3.3132     -2.6738\n",
      "country_UnitedKingdom                11.932     0.0784     152.28     0.0000      11.778      12.085\n",
      "country_India                       -8.4048     0.0514    -163.61     0.0000     -8.5055     -8.3041\n",
      "country_Pakistan                    -10.302     0.0200    -515.53     0.0000     -10.341     -10.263\n",
      "country_Kenya                       -4.9477     0.3373    -14.670     0.0000     -5.6088     -4.2866\n",
      "country_France                       6.2390     0.1850     33.727     0.0000      5.8764      6.6016\n",
      "country_Germany                      3.1097     0.7381     4.2131     0.0000      1.6629      4.5564\n",
      "country_Spain                        2.0094     0.1803     11.147     0.0000      1.6561      2.3628\n",
      "country_Bangladesh                  -8.5752     0.3556    -24.118     0.0000     -9.2721     -7.8783\n",
      "country_Italy                       -2.7748     0.2984    -9.2983     0.0000     -3.3597     -2.1898\n",
      "country_Nigeria                     -4.7911     0.3371    -14.212     0.0000     -5.4519     -4.1303\n",
      "skill_creative_writing              -4.7626     0.0253    -188.16     0.0000     -4.8122     -4.7130\n",
      "skill_copywriting                    3.6446     0.0415     87.905     0.0000      3.5633      3.7258\n",
      "skill_proofreading                  -5.8108     0.0105    -553.70     0.0000     -5.8314     -5.7902\n",
      "skill_blog_writing                  -0.8230     0.0043    -193.33     0.0000     -0.8314     -0.8147\n",
      "skill_content_writing               -0.0596     0.0346    -1.7219     0.0851     -0.1275      0.0082\n",
      "skill_web_writing                    1.6652     0.1263     13.182     0.0000      1.4175      1.9128\n",
      "skill_social_media_marketing        -0.7811     0.0318    -24.568     0.0000     -0.8434     -0.7188\n",
      "skill_article                       -1.4081     0.0097    -145.67     0.0000     -1.4271     -1.3892\n",
      "skill_search_engine_optimization    -0.5735     0.0966    -5.9379     0.0000     -0.7628     -0.3842\n",
      "skill_editing                        1.8949     0.0199     95.284     0.0000      1.8559      1.9339\n",
      "gender_male                          19.553     0.1065     183.54     0.0000      19.344      19.762\n",
      "gender_female                        17.876     0.0292     612.60     0.0000      17.819      17.934\n",
      "gender_undefined                     18.188     0.1344     135.35     0.0000      17.924      18.451\n",
      "====================================================================================================\n",
      "\n",
      "F-test for Poolability: 0.3042\n",
      "P-value: 0.5813\n",
      "Distribution: F(1,13871)\n",
      "\n",
      "Included effects: Time\n"
     ]
    }
   ],
   "source": [
    "print(ols)"
   ]
  },
  {
   "cell_type": "code",
   "execution_count": null,
   "metadata": {},
   "outputs": [],
   "source": []
  }
 ],
 "metadata": {
  "kernelspec": {
   "display_name": "Python 3",
   "language": "python",
   "name": "python3"
  },
  "language_info": {
   "codemirror_mode": {
    "name": "ipython",
    "version": 3
   },
   "file_extension": ".py",
   "mimetype": "text/x-python",
   "name": "python",
   "nbconvert_exporter": "python",
   "pygments_lexer": "ipython3",
   "version": "3.7.2"
  },
  "toc": {
   "base_numbering": 1,
   "nav_menu": {},
   "number_sections": true,
   "sideBar": true,
   "skip_h1_title": false,
   "title_cell": "Table of Contents",
   "title_sidebar": "Contents",
   "toc_cell": false,
   "toc_position": {
    "height": "calc(100% - 180px)",
    "left": "10px",
    "top": "150px",
    "width": "192px"
   },
   "toc_section_display": true,
   "toc_window_display": true
  },
  "varInspector": {
   "cols": {
    "lenName": 16,
    "lenType": 16,
    "lenVar": 40
   },
   "kernels_config": {
    "python": {
     "delete_cmd_postfix": "",
     "delete_cmd_prefix": "del ",
     "library": "var_list.py",
     "varRefreshCmd": "print(var_dic_list())"
    },
    "r": {
     "delete_cmd_postfix": ") ",
     "delete_cmd_prefix": "rm(",
     "library": "var_list.r",
     "varRefreshCmd": "cat(var_dic_list()) "
    }
   },
   "types_to_exclude": [
    "module",
    "function",
    "builtin_function_or_method",
    "instance",
    "_Feature"
   ],
   "window_display": false
  }
 },
 "nbformat": 4,
 "nbformat_minor": 5
}
