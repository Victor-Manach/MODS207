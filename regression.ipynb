{
 "cells": [
  {
   "cell_type": "code",
   "execution_count": 15,
   "id": "af2715e4",
   "metadata": {},
   "outputs": [],
   "source": [
    "import numpy as np\n",
    "import pandas as pd\n",
    "import ast\n",
    "import matplotlib.pyplot as plt\n",
    "import statsmodels.api as sm"
   ]
  },
  {
   "cell_type": "code",
   "execution_count": 2,
   "id": "a53d4111",
   "metadata": {},
   "outputs": [],
   "source": [
    "scraping_date = '_26_04_2021'\n",
    "data = pd.read_csv('./data/full_profiles'+scraping_date+'.csv')"
   ]
  },
  {
   "cell_type": "code",
   "execution_count": 9,
   "id": "ca5177a2",
   "metadata": {},
   "outputs": [
    {
     "data": {
      "text/html": [
       "<div>\n",
       "<style scoped>\n",
       "    .dataframe tbody tr th:only-of-type {\n",
       "        vertical-align: middle;\n",
       "    }\n",
       "\n",
       "    .dataframe tbody tr th {\n",
       "        vertical-align: top;\n",
       "    }\n",
       "\n",
       "    .dataframe thead th {\n",
       "        text-align: right;\n",
       "    }\n",
       "</style>\n",
       "<table border=\"1\" class=\"dataframe\">\n",
       "  <thead>\n",
       "    <tr style=\"text-align: right;\">\n",
       "      <th></th>\n",
       "      <th>name</th>\n",
       "      <th>languages</th>\n",
       "      <th>description</th>\n",
       "      <th>rating</th>\n",
       "      <th>nb_reviews</th>\n",
       "      <th>Price/hour in USD</th>\n",
       "      <th>skills</th>\n",
       "      <th>industry_expertise</th>\n",
       "      <th>nb_projects</th>\n",
       "      <th>nb_buyers</th>\n",
       "      <th>last_active</th>\n",
       "      <th>gender</th>\n",
       "      <th>city</th>\n",
       "      <th>country</th>\n",
       "    </tr>\n",
       "  </thead>\n",
       "  <tbody>\n",
       "    <tr>\n",
       "      <th>0</th>\n",
       "      <td>Maria H.</td>\n",
       "      <td>['English']</td>\n",
       "      <td>We are a small UK based company speciaIising i...</td>\n",
       "      <td>4.9</td>\n",
       "      <td>4694</td>\n",
       "      <td>34.74</td>\n",
       "      <td>['animation', 'graphics design', 'brand design...</td>\n",
       "      <td>['IT', 'Internet', 'Marketing', 'Media', 'Tech...</td>\n",
       "      <td>7672</td>\n",
       "      <td>4168</td>\n",
       "      <td>26-04-2021</td>\n",
       "      <td>female</td>\n",
       "      <td>Sheffield</td>\n",
       "      <td>United Kingdom</td>\n",
       "    </tr>\n",
       "    <tr>\n",
       "      <th>1</th>\n",
       "      <td>Cormac Reynolds</td>\n",
       "      <td>['English']</td>\n",
       "      <td>Looking for a link building solution or some g...</td>\n",
       "      <td>5.0</td>\n",
       "      <td>1190</td>\n",
       "      <td>138.95</td>\n",
       "      <td>['online marketing', 'link building', 'marketi...</td>\n",
       "      <td>[]</td>\n",
       "      <td>1085</td>\n",
       "      <td>533</td>\n",
       "      <td>25-04-2021</td>\n",
       "      <td>unknown</td>\n",
       "      <td>City of London</td>\n",
       "      <td>United Kingdom</td>\n",
       "    </tr>\n",
       "    <tr>\n",
       "      <th>2</th>\n",
       "      <td>Denise Toepel</td>\n",
       "      <td>['English', 'Spanish', 'French']</td>\n",
       "      <td>I am a Translation Specialist.  I work in publ...</td>\n",
       "      <td>0.0</td>\n",
       "      <td>0</td>\n",
       "      <td>27.79</td>\n",
       "      <td>['English translation', 'French &lt;=&gt; English', ...</td>\n",
       "      <td>['Education', 'Telecommunications']</td>\n",
       "      <td>0</td>\n",
       "      <td>0</td>\n",
       "      <td>25-04-2021</td>\n",
       "      <td>female</td>\n",
       "      <td>Cuenca</td>\n",
       "      <td>Ecuador</td>\n",
       "    </tr>\n",
       "    <tr>\n",
       "      <th>3</th>\n",
       "      <td>Translate Guru .</td>\n",
       "      <td>[]</td>\n",
       "      <td>Hello! Hola! Ciao! Bonjour! 你好!\\r\\n\\r\\nI do hi...</td>\n",
       "      <td>4.9</td>\n",
       "      <td>598</td>\n",
       "      <td>20.00</td>\n",
       "      <td>['German &lt;=&gt; English translation', 'Arabic &lt;=&gt;...</td>\n",
       "      <td>[]</td>\n",
       "      <td>721</td>\n",
       "      <td>376</td>\n",
       "      <td>26-04-2021</td>\n",
       "      <td>unknown</td>\n",
       "      <td>Cannanore</td>\n",
       "      <td>India</td>\n",
       "    </tr>\n",
       "    <tr>\n",
       "      <th>4</th>\n",
       "      <td>Logical Translation &amp; Localisation</td>\n",
       "      <td>['English', 'Spanish', 'French', 'Italian']</td>\n",
       "      <td>OFFERING A WIDE RANGE OF TRANSLATION SERVICES\\...</td>\n",
       "      <td>4.9</td>\n",
       "      <td>135</td>\n",
       "      <td>27.79</td>\n",
       "      <td>['editing', 'proofreading', 'German translatio...</td>\n",
       "      <td>['Advertising', 'Aerospace', 'Automotive', 'Co...</td>\n",
       "      <td>140</td>\n",
       "      <td>100</td>\n",
       "      <td>24-04-2021</td>\n",
       "      <td>unknown</td>\n",
       "      <td>City of London</td>\n",
       "      <td>United Kingdom</td>\n",
       "    </tr>\n",
       "    <tr>\n",
       "      <th>...</th>\n",
       "      <td>...</td>\n",
       "      <td>...</td>\n",
       "      <td>...</td>\n",
       "      <td>...</td>\n",
       "      <td>...</td>\n",
       "      <td>...</td>\n",
       "      <td>...</td>\n",
       "      <td>...</td>\n",
       "      <td>...</td>\n",
       "      <td>...</td>\n",
       "      <td>...</td>\n",
       "      <td>...</td>\n",
       "      <td>...</td>\n",
       "      <td>...</td>\n",
       "    </tr>\n",
       "    <tr>\n",
       "      <th>9998</th>\n",
       "      <td>Goggle Software Ltd</td>\n",
       "      <td>['English']</td>\n",
       "      <td>Goggle Software build CRMs and bespoke portals...</td>\n",
       "      <td>5.0</td>\n",
       "      <td>31</td>\n",
       "      <td>69.47</td>\n",
       "      <td>['ajax', 'database development', 'hosting deve...</td>\n",
       "      <td>['Electronics', 'IT', 'Technology']</td>\n",
       "      <td>26</td>\n",
       "      <td>22</td>\n",
       "      <td>15-04-2021</td>\n",
       "      <td>male</td>\n",
       "      <td>Leeds</td>\n",
       "      <td>United Kingdom</td>\n",
       "    </tr>\n",
       "    <tr>\n",
       "      <th>9999</th>\n",
       "      <td>Roshan Rupasinghe</td>\n",
       "      <td>['English']</td>\n",
       "      <td>I am an IIBA certified business analyst with 3...</td>\n",
       "      <td>0.0</td>\n",
       "      <td>0</td>\n",
       "      <td>12.00</td>\n",
       "      <td>['business analysis', 'business writing', 'bus...</td>\n",
       "      <td>['IT']</td>\n",
       "      <td>0</td>\n",
       "      <td>0</td>\n",
       "      <td>02-12-2020</td>\n",
       "      <td>unknown</td>\n",
       "      <td>Colombo</td>\n",
       "      <td>Sri Lanka</td>\n",
       "    </tr>\n",
       "    <tr>\n",
       "      <th>10000</th>\n",
       "      <td>Sally Lavinia</td>\n",
       "      <td>['English', 'Swahili']</td>\n",
       "      <td>NaN</td>\n",
       "      <td>0.0</td>\n",
       "      <td>0</td>\n",
       "      <td>30.00</td>\n",
       "      <td>['microsoft excel', 'proofreading', 'academic ...</td>\n",
       "      <td>['Financial', 'Services', 'Internet', 'Legal',...</td>\n",
       "      <td>0</td>\n",
       "      <td>0</td>\n",
       "      <td>30-12-2020</td>\n",
       "      <td>female</td>\n",
       "      <td>Nairobi</td>\n",
       "      <td>Kenya</td>\n",
       "    </tr>\n",
       "    <tr>\n",
       "      <th>10001</th>\n",
       "      <td>Mohammed Younes</td>\n",
       "      <td>['Arabic', 'English']</td>\n",
       "      <td>With a couple of years of experience, I was ab...</td>\n",
       "      <td>0.0</td>\n",
       "      <td>0</td>\n",
       "      <td>15.00</td>\n",
       "      <td>['graphics design', 'social media management',...</td>\n",
       "      <td>['Advertising', 'Food', 'Media', 'Sport']</td>\n",
       "      <td>0</td>\n",
       "      <td>0</td>\n",
       "      <td>25-04-2021</td>\n",
       "      <td>male</td>\n",
       "      <td>Zgharta</td>\n",
       "      <td>Lebanon</td>\n",
       "    </tr>\n",
       "    <tr>\n",
       "      <th>10002</th>\n",
       "      <td>Django Keur</td>\n",
       "      <td>['English', 'Dutch']</td>\n",
       "      <td>Dear Sir/Madam, my name is Django. I am 16 yea...</td>\n",
       "      <td>0.0</td>\n",
       "      <td>0</td>\n",
       "      <td>8.46</td>\n",
       "      <td>['Copywriting', 'creative writing', 'copy edit...</td>\n",
       "      <td>['Sales']</td>\n",
       "      <td>0</td>\n",
       "      <td>0</td>\n",
       "      <td>10-01-2021</td>\n",
       "      <td>unknown</td>\n",
       "      <td>Amsterdam</td>\n",
       "      <td>Netherlands</td>\n",
       "    </tr>\n",
       "  </tbody>\n",
       "</table>\n",
       "<p>10003 rows × 14 columns</p>\n",
       "</div>"
      ],
      "text/plain": [
       "                                     name  \\\n",
       "0                                Maria H.   \n",
       "1                         Cormac Reynolds   \n",
       "2                           Denise Toepel   \n",
       "3                        Translate Guru .   \n",
       "4      Logical Translation & Localisation   \n",
       "...                                   ...   \n",
       "9998                  Goggle Software Ltd   \n",
       "9999                    Roshan Rupasinghe   \n",
       "10000                       Sally Lavinia   \n",
       "10001                     Mohammed Younes   \n",
       "10002                         Django Keur   \n",
       "\n",
       "                                         languages  \\\n",
       "0                                      ['English']   \n",
       "1                                      ['English']   \n",
       "2                 ['English', 'Spanish', 'French']   \n",
       "3                                               []   \n",
       "4      ['English', 'Spanish', 'French', 'Italian']   \n",
       "...                                            ...   \n",
       "9998                                   ['English']   \n",
       "9999                                   ['English']   \n",
       "10000                       ['English', 'Swahili']   \n",
       "10001                        ['Arabic', 'English']   \n",
       "10002                         ['English', 'Dutch']   \n",
       "\n",
       "                                             description  rating  nb_reviews  \\\n",
       "0      We are a small UK based company speciaIising i...     4.9        4694   \n",
       "1      Looking for a link building solution or some g...     5.0        1190   \n",
       "2      I am a Translation Specialist.  I work in publ...     0.0           0   \n",
       "3      Hello! Hola! Ciao! Bonjour! 你好!\\r\\n\\r\\nI do hi...     4.9         598   \n",
       "4      OFFERING A WIDE RANGE OF TRANSLATION SERVICES\\...     4.9         135   \n",
       "...                                                  ...     ...         ...   \n",
       "9998   Goggle Software build CRMs and bespoke portals...     5.0          31   \n",
       "9999   I am an IIBA certified business analyst with 3...     0.0           0   \n",
       "10000                                                NaN     0.0           0   \n",
       "10001  With a couple of years of experience, I was ab...     0.0           0   \n",
       "10002  Dear Sir/Madam, my name is Django. I am 16 yea...     0.0           0   \n",
       "\n",
       "       Price/hour in USD                                             skills  \\\n",
       "0                  34.74  ['animation', 'graphics design', 'brand design...   \n",
       "1                 138.95  ['online marketing', 'link building', 'marketi...   \n",
       "2                  27.79  ['English translation', 'French <=> English', ...   \n",
       "3                  20.00  ['German <=> English translation', 'Arabic <=>...   \n",
       "4                  27.79  ['editing', 'proofreading', 'German translatio...   \n",
       "...                  ...                                                ...   \n",
       "9998               69.47  ['ajax', 'database development', 'hosting deve...   \n",
       "9999               12.00  ['business analysis', 'business writing', 'bus...   \n",
       "10000              30.00  ['microsoft excel', 'proofreading', 'academic ...   \n",
       "10001              15.00  ['graphics design', 'social media management',...   \n",
       "10002               8.46  ['Copywriting', 'creative writing', 'copy edit...   \n",
       "\n",
       "                                      industry_expertise  nb_projects  \\\n",
       "0      ['IT', 'Internet', 'Marketing', 'Media', 'Tech...         7672   \n",
       "1                                                     []         1085   \n",
       "2                    ['Education', 'Telecommunications']            0   \n",
       "3                                                     []          721   \n",
       "4      ['Advertising', 'Aerospace', 'Automotive', 'Co...          140   \n",
       "...                                                  ...          ...   \n",
       "9998                 ['Electronics', 'IT', 'Technology']           26   \n",
       "9999                                              ['IT']            0   \n",
       "10000  ['Financial', 'Services', 'Internet', 'Legal',...            0   \n",
       "10001          ['Advertising', 'Food', 'Media', 'Sport']            0   \n",
       "10002                                          ['Sales']            0   \n",
       "\n",
       "       nb_buyers last_active   gender            city          country  \n",
       "0           4168  26-04-2021   female       Sheffield   United Kingdom  \n",
       "1            533  25-04-2021  unknown  City of London   United Kingdom  \n",
       "2              0  25-04-2021   female          Cuenca          Ecuador  \n",
       "3            376  26-04-2021  unknown       Cannanore            India  \n",
       "4            100  24-04-2021  unknown  City of London   United Kingdom  \n",
       "...          ...         ...      ...             ...              ...  \n",
       "9998          22  15-04-2021     male           Leeds   United Kingdom  \n",
       "9999           0  02-12-2020  unknown         Colombo        Sri Lanka  \n",
       "10000          0  30-12-2020   female         Nairobi            Kenya  \n",
       "10001          0  25-04-2021     male         Zgharta          Lebanon  \n",
       "10002          0  10-01-2021  unknown       Amsterdam      Netherlands  \n",
       "\n",
       "[10003 rows x 14 columns]"
      ]
     },
     "execution_count": 9,
     "metadata": {},
     "output_type": "execute_result"
    }
   ],
   "source": [
    "data"
   ]
  },
  {
   "cell_type": "markdown",
   "id": "b6ff7185",
   "metadata": {},
   "source": [
    "# Number of occurrences of all spoken languages"
   ]
  },
  {
   "cell_type": "code",
   "execution_count": 20,
   "id": "318ca295",
   "metadata": {},
   "outputs": [],
   "source": [
    "available_languages = {}\n",
    "languages = np.array(data.languages)\n",
    "for profile_languages in languages:\n",
    "    profile_languages = ast.literal_eval(profile_languages)\n",
    "    if len(profile_languages)>0:\n",
    "        for language in profile_languages:\n",
    "            if language not in available_languages:\n",
    "                available_languages[language] = 1\n",
    "            else:\n",
    "                available_languages[language] += 1"
   ]
  },
  {
   "cell_type": "code",
   "execution_count": 21,
   "id": "852fc728",
   "metadata": {},
   "outputs": [
    {
     "data": {
      "text/plain": [
       "127"
      ]
     },
     "execution_count": 21,
     "metadata": {},
     "output_type": "execute_result"
    }
   ],
   "source": [
    "len(available_languages)"
   ]
  },
  {
   "cell_type": "code",
   "execution_count": 46,
   "id": "71611b6c",
   "metadata": {
    "scrolled": true
   },
   "outputs": [],
   "source": [
    "lang = np.array(list(available_languages.keys()))\n",
    "count_lang = list(available_languages.values())\n",
    "sorted_count_lang = np.argsort(count_lang)[-10:]\n",
    "most_spoken_languages = lang[sorted_count_lang]"
   ]
  },
  {
   "cell_type": "code",
   "execution_count": 49,
   "id": "10c867d1",
   "metadata": {},
   "outputs": [
    {
     "data": {
      "text/plain": [
       "array(['Portuguese', 'Russian', 'Urdu', 'Hindi', 'Italian', 'German',\n",
       "       'Arabic', 'Spanish', 'French', 'English'], dtype='<U13')"
      ]
     },
     "execution_count": 49,
     "metadata": {},
     "output_type": "execute_result"
    }
   ],
   "source": [
    "most_spoken_languages"
   ]
  },
  {
   "cell_type": "markdown",
   "id": "02af41b5",
   "metadata": {},
   "source": [
    "## Create dummy variables for the 10 most spoken languages"
   ]
  },
  {
   "cell_type": "code",
   "execution_count": 56,
   "id": "bb7fa449",
   "metadata": {},
   "outputs": [],
   "source": [
    "n = len(data)\n",
    "english, french, spanish, arabic, german, italian, hindi, urdu, russian, portuguese = np.zeros(n), np.zeros(n), np.zeros(n), np.zeros(n), np.zeros(n), np.zeros(n), np.zeros(n), np.zeros(n), np.zeros(n), np.zeros(n)\n",
    "\n",
    "for i, lang in enumerate(languages):\n",
    "    lang=ast.literal_eval(lang)\n",
    "    if 'English' in lang:\n",
    "        english[i]=1\n",
    "    if 'French' in lang:\n",
    "        french[i]=1\n",
    "    if 'Spanish' in lang:\n",
    "        spanish[i]=1\n",
    "    if 'Arabic' in lang:\n",
    "        arabic[i]=1\n",
    "    if 'German' in lang:\n",
    "        german[i]=1\n",
    "    if 'Italian' in lang:\n",
    "        italian[i]=1\n",
    "    if 'Hindi' in lang:\n",
    "        hindi[i]=1\n",
    "    if 'Urdu' in lang:\n",
    "        urdu[i]=1\n",
    "    if 'Russian' in lang:\n",
    "        russian[i]=1\n",
    "    if 'Portuguese' in lang:\n",
    "        portuguese[i]=1"
   ]
  },
  {
   "cell_type": "markdown",
   "id": "3d674b0b",
   "metadata": {},
   "source": [
    "# Number of occurences of all industry expertises"
   ]
  },
  {
   "cell_type": "code",
   "execution_count": 23,
   "id": "42dc6f4b",
   "metadata": {},
   "outputs": [],
   "source": [
    "available_expertise = {}\n",
    "industry_expertise = np.array(data.industry_expertise)\n",
    "for profile_expertise in industry_expertise:\n",
    "    profile_expertise = ast.literal_eval(profile_expertise)\n",
    "    if len(profile_expertise)>0:\n",
    "        for expertise in profile_expertise:\n",
    "            if expertise not in available_expertise:\n",
    "                available_expertise[expertise] = 1\n",
    "            else:\n",
    "                available_expertise[expertise] += 1"
   ]
  },
  {
   "cell_type": "code",
   "execution_count": 24,
   "id": "dc5ff00a",
   "metadata": {},
   "outputs": [
    {
     "data": {
      "text/plain": [
       "66"
      ]
     },
     "execution_count": 24,
     "metadata": {},
     "output_type": "execute_result"
    }
   ],
   "source": [
    "len(available_expertise)"
   ]
  },
  {
   "cell_type": "code",
   "execution_count": 48,
   "id": "0ac3114a",
   "metadata": {},
   "outputs": [],
   "source": [
    "exper = np.array(list(available_expertise.keys()))\n",
    "count_exper = list(available_expertise.values())\n",
    "sorted_count_exper = np.argsort(count_exper)[-10:]\n",
    "most_imp_exper = exper[sorted_count_exper]"
   ]
  },
  {
   "cell_type": "code",
   "execution_count": 62,
   "id": "d987f14e",
   "metadata": {},
   "outputs": [
    {
     "data": {
      "text/plain": [
       "array(['Art', 'Travel', 'Entertainment', 'Technology', 'Internet', 'IT',\n",
       "       'Media', 'Advertising', 'Education', 'Marketing'], dtype='<U18')"
      ]
     },
     "execution_count": 62,
     "metadata": {},
     "output_type": "execute_result"
    }
   ],
   "source": [
    "most_imp_exper"
   ]
  },
  {
   "cell_type": "markdown",
   "id": "e77e446c",
   "metadata": {},
   "source": [
    "## Create dummy variables for the 10 most important industry expertise"
   ]
  },
  {
   "cell_type": "code",
   "execution_count": 65,
   "id": "5440b3eb",
   "metadata": {},
   "outputs": [],
   "source": [
    "marketing, education, advertising, media, it, internet, technology, entertainment, travel, art = np.zeros(n), np.zeros(n), np.zeros(n), np.zeros(n), np.zeros(n), np.zeros(n), np.zeros(n), np.zeros(n), np.zeros(n), np.zeros(n)\n",
    "\n",
    "for i, exper in enumerate(industry_expertise):\n",
    "    exper=ast.literal_eval(exper)\n",
    "    if 'Marketing' in exper:\n",
    "        marketing[i]=1\n",
    "    if 'Education' in exper:\n",
    "        education[i]=1\n",
    "    if 'Advertising' in exper:\n",
    "        advertising[i]=1\n",
    "    if 'Media' in exper:\n",
    "        media[i]=1\n",
    "    if 'IT' in exper:\n",
    "        it[i]=1\n",
    "    if 'Internet' in exper:\n",
    "        internet[i]=1\n",
    "    if 'Technology' in exper:\n",
    "        technology[i]=1\n",
    "    if 'Entertainment' in exper:\n",
    "        entertainment[i]=1\n",
    "    if 'Travel' in exper:\n",
    "        travel[i]=1\n",
    "    if 'Art' in exper:\n",
    "        art[i]=1"
   ]
  },
  {
   "cell_type": "code",
   "execution_count": null,
   "id": "51369426",
   "metadata": {},
   "outputs": [],
   "source": [
    "rating = data.rating\n",
    "nb_reviews = data.nb_reviews\n",
    "price = data['Price/hour in USD']"
   ]
  }
 ],
 "metadata": {
  "kernelspec": {
   "display_name": "Python 3",
   "language": "python",
   "name": "python3"
  },
  "language_info": {
   "codemirror_mode": {
    "name": "ipython",
    "version": 3
   },
   "file_extension": ".py",
   "mimetype": "text/x-python",
   "name": "python",
   "nbconvert_exporter": "python",
   "pygments_lexer": "ipython3",
   "version": "3.7.6"
  },
  "toc": {
   "base_numbering": 1,
   "nav_menu": {},
   "number_sections": true,
   "sideBar": true,
   "skip_h1_title": false,
   "title_cell": "Table of Contents",
   "title_sidebar": "Contents",
   "toc_cell": false,
   "toc_position": {},
   "toc_section_display": true,
   "toc_window_display": false
  },
  "varInspector": {
   "cols": {
    "lenName": 16,
    "lenType": 16,
    "lenVar": 40
   },
   "kernels_config": {
    "python": {
     "delete_cmd_postfix": "",
     "delete_cmd_prefix": "del ",
     "library": "var_list.py",
     "varRefreshCmd": "print(var_dic_list())"
    },
    "r": {
     "delete_cmd_postfix": ") ",
     "delete_cmd_prefix": "rm(",
     "library": "var_list.r",
     "varRefreshCmd": "cat(var_dic_list()) "
    }
   },
   "types_to_exclude": [
    "module",
    "function",
    "builtin_function_or_method",
    "instance",
    "_Feature"
   ],
   "window_display": false
  }
 },
 "nbformat": 4,
 "nbformat_minor": 5
}
