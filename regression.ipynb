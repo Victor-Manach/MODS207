{
 "cells": [
  {
   "cell_type": "code",
   "execution_count": 319,
   "id": "af2715e4",
   "metadata": {},
   "outputs": [],
   "source": [
    "import numpy as np\n",
    "import pandas as pd\n",
    "import ast\n",
    "import matplotlib.pyplot as plt\n",
    "import statsmodels.api as sm\n",
    "import datetime\n",
    "from collections import Counter\n",
    "\n",
    "from sklearn.model_selection import train_test_split\n",
    "import statsmodels.api as sm"
   ]
  },
  {
   "cell_type": "code",
   "execution_count": 320,
   "id": "a53d4111",
   "metadata": {},
   "outputs": [],
   "source": [
    "scraping_date = '_26_04_2021'\n",
    "data = pd.read_csv('./data/full_profiles'+scraping_date+'.csv')"
   ]
  },
  {
   "cell_type": "code",
   "execution_count": 321,
   "id": "ca5177a2",
   "metadata": {},
   "outputs": [
    {
     "data": {
      "text/html": [
       "<div>\n",
       "<style scoped>\n",
       "    .dataframe tbody tr th:only-of-type {\n",
       "        vertical-align: middle;\n",
       "    }\n",
       "\n",
       "    .dataframe tbody tr th {\n",
       "        vertical-align: top;\n",
       "    }\n",
       "\n",
       "    .dataframe thead th {\n",
       "        text-align: right;\n",
       "    }\n",
       "</style>\n",
       "<table border=\"1\" class=\"dataframe\">\n",
       "  <thead>\n",
       "    <tr style=\"text-align: right;\">\n",
       "      <th></th>\n",
       "      <th>name</th>\n",
       "      <th>languages</th>\n",
       "      <th>description</th>\n",
       "      <th>rating</th>\n",
       "      <th>nb_reviews</th>\n",
       "      <th>Price/hour in USD</th>\n",
       "      <th>skills</th>\n",
       "      <th>industry_expertise</th>\n",
       "      <th>nb_projects</th>\n",
       "      <th>nb_buyers</th>\n",
       "      <th>last_active</th>\n",
       "      <th>gender</th>\n",
       "      <th>city</th>\n",
       "      <th>country</th>\n",
       "      <th>score</th>\n",
       "    </tr>\n",
       "  </thead>\n",
       "  <tbody>\n",
       "    <tr>\n",
       "      <th>0</th>\n",
       "      <td>Maria H.</td>\n",
       "      <td>['English']</td>\n",
       "      <td>We are a small UK based company speciaIising i...</td>\n",
       "      <td>4.9</td>\n",
       "      <td>4694</td>\n",
       "      <td>34.74</td>\n",
       "      <td>['animation', 'graphics design', 'brand design...</td>\n",
       "      <td>['IT', 'Internet', 'Marketing', 'Media', 'Tech...</td>\n",
       "      <td>7672</td>\n",
       "      <td>4168</td>\n",
       "      <td>26-04-2021</td>\n",
       "      <td>female</td>\n",
       "      <td>Sheffield</td>\n",
       "      <td>United Kingdom</td>\n",
       "      <td>10.043</td>\n",
       "    </tr>\n",
       "    <tr>\n",
       "      <th>1</th>\n",
       "      <td>Cormac Reynolds</td>\n",
       "      <td>['English']</td>\n",
       "      <td>Looking for a link building solution or some g...</td>\n",
       "      <td>5.0</td>\n",
       "      <td>1190</td>\n",
       "      <td>138.95</td>\n",
       "      <td>['online marketing', 'link building', 'marketi...</td>\n",
       "      <td>[]</td>\n",
       "      <td>1085</td>\n",
       "      <td>533</td>\n",
       "      <td>25-04-2021</td>\n",
       "      <td>unknown</td>\n",
       "      <td>City of London</td>\n",
       "      <td>United Kingdom</td>\n",
       "      <td>8.691</td>\n",
       "    </tr>\n",
       "    <tr>\n",
       "      <th>2</th>\n",
       "      <td>Denise Toepel</td>\n",
       "      <td>['English', 'Spanish', 'French']</td>\n",
       "      <td>I am a Translation Specialist.  I work in publ...</td>\n",
       "      <td>0.0</td>\n",
       "      <td>0</td>\n",
       "      <td>27.79</td>\n",
       "      <td>['english translation', 'french  english', 'on...</td>\n",
       "      <td>['Education', 'Telecommunications']</td>\n",
       "      <td>0</td>\n",
       "      <td>0</td>\n",
       "      <td>25-04-2021</td>\n",
       "      <td>female</td>\n",
       "      <td>Cuenca</td>\n",
       "      <td>Ecuador</td>\n",
       "      <td>0.000</td>\n",
       "    </tr>\n",
       "  </tbody>\n",
       "</table>\n",
       "</div>"
      ],
      "text/plain": [
       "              name                         languages  \\\n",
       "0         Maria H.                       ['English']   \n",
       "1  Cormac Reynolds                       ['English']   \n",
       "2    Denise Toepel  ['English', 'Spanish', 'French']   \n",
       "\n",
       "                                         description  rating  nb_reviews  \\\n",
       "0  We are a small UK based company speciaIising i...     4.9        4694   \n",
       "1  Looking for a link building solution or some g...     5.0        1190   \n",
       "2  I am a Translation Specialist.  I work in publ...     0.0           0   \n",
       "\n",
       "   Price/hour in USD                                             skills  \\\n",
       "0              34.74  ['animation', 'graphics design', 'brand design...   \n",
       "1             138.95  ['online marketing', 'link building', 'marketi...   \n",
       "2              27.79  ['english translation', 'french  english', 'on...   \n",
       "\n",
       "                                  industry_expertise  nb_projects  nb_buyers  \\\n",
       "0  ['IT', 'Internet', 'Marketing', 'Media', 'Tech...         7672       4168   \n",
       "1                                                 []         1085        533   \n",
       "2                ['Education', 'Telecommunications']            0          0   \n",
       "\n",
       "  last_active   gender            city          country   score  \n",
       "0  26-04-2021   female       Sheffield   United Kingdom  10.043  \n",
       "1  25-04-2021  unknown  City of London   United Kingdom   8.691  \n",
       "2  25-04-2021   female          Cuenca          Ecuador   0.000  "
      ]
     },
     "execution_count": 321,
     "metadata": {},
     "output_type": "execute_result"
    }
   ],
   "source": [
    "data.head(3)"
   ]
  },
  {
   "cell_type": "markdown",
   "id": "b6ff7185",
   "metadata": {},
   "source": [
    "# Remove inactive profiles (no projects) and drop unnucessary features"
   ]
  },
  {
   "cell_type": "code",
   "execution_count": 322,
   "id": "editorial-machinery",
   "metadata": {},
   "outputs": [
    {
     "name": "stdout",
     "output_type": "stream",
     "text": [
      "Number of workers with inactive profiles: 2930\n"
     ]
    }
   ],
   "source": [
    "print('Number of workers with inactive profiles:',  len(data.loc[(data['nb_projects'] == 0)]))"
   ]
  },
  {
   "cell_type": "code",
   "execution_count": 323,
   "id": "welcome-symposium",
   "metadata": {},
   "outputs": [],
   "source": [
    "data.drop(data.loc[data['nb_projects']==0].index, inplace=True)"
   ]
  },
  {
   "cell_type": "markdown",
   "id": "qualified-genealogy",
   "metadata": {},
   "source": [
    "Almost 30% of all the profiles are thus deleted of our regression analysis. This represents a big proportion of the profiles that we collected but there is still a significant amount of data that makes our study relevant."
   ]
  },
  {
   "cell_type": "code",
   "execution_count": 324,
   "id": "sound-organizer",
   "metadata": {},
   "outputs": [],
   "source": [
    "del data['name'] \n",
    "del data['description'] \n",
    "del data['city'] "
   ]
  },
  {
   "cell_type": "markdown",
   "id": "early-cartoon",
   "metadata": {},
   "source": [
    "# Spoken languages"
   ]
  },
  {
   "cell_type": "code",
   "execution_count": 325,
   "id": "318ca295",
   "metadata": {},
   "outputs": [],
   "source": [
    "available_languages = {}\n",
    "languages = np.array(data.languages)\n",
    "for profile_languages in languages:\n",
    "    profile_languages = ast.literal_eval(profile_languages)\n",
    "    if len(profile_languages)>0:\n",
    "        for language in profile_languages:\n",
    "            if language not in available_languages:\n",
    "                available_languages[language] = 1\n",
    "            else:\n",
    "                available_languages[language] += 1"
   ]
  },
  {
   "cell_type": "code",
   "execution_count": 326,
   "id": "852fc728",
   "metadata": {},
   "outputs": [
    {
     "data": {
      "text/plain": [
       "102"
      ]
     },
     "execution_count": 326,
     "metadata": {},
     "output_type": "execute_result"
    }
   ],
   "source": [
    "len(available_languages)"
   ]
  },
  {
   "cell_type": "code",
   "execution_count": 327,
   "id": "71611b6c",
   "metadata": {
    "scrolled": true
   },
   "outputs": [],
   "source": [
    "lang = np.array(list(available_languages.keys()))\n",
    "count_lang = list(available_languages.values())\n",
    "sorted_count_lang = np.argsort(count_lang)[-10:]\n",
    "most_spoken_languages = lang[sorted_count_lang]"
   ]
  },
  {
   "cell_type": "code",
   "execution_count": 328,
   "id": "10c867d1",
   "metadata": {},
   "outputs": [
    {
     "data": {
      "text/plain": [
       "array(['Portuguese', 'Russian', 'Arabic', 'Urdu', 'Italian', 'Hindi',\n",
       "       'German', 'Spanish', 'French', 'English'], dtype='<U13')"
      ]
     },
     "execution_count": 328,
     "metadata": {},
     "output_type": "execute_result"
    }
   ],
   "source": [
    "most_spoken_languages"
   ]
  },
  {
   "cell_type": "code",
   "execution_count": 329,
   "id": "bb7fa449",
   "metadata": {},
   "outputs": [],
   "source": [
    "n = len(data)\n",
    "english, french, spanish, arabic, german, italian, hindi, urdu, russian, portuguese = np.zeros(n), np.zeros(n), np.zeros(n), np.zeros(n), np.zeros(n), np.zeros(n), np.zeros(n), np.zeros(n), np.zeros(n), np.zeros(n)\n",
    "\n",
    "for i, lang in enumerate(languages):\n",
    "    lang=ast.literal_eval(lang)\n",
    "    if 'English' in lang:\n",
    "        english[i]=1\n",
    "    if 'French' in lang:\n",
    "        french[i]=1\n",
    "    if 'Spanish' in lang:\n",
    "        spanish[i]=1\n",
    "    \"\"\"\n",
    "    if 'Arabic' in lang:\n",
    "        arabic[i]=1\n",
    "    if 'German' in lang:\n",
    "        german[i]=1\n",
    "    if 'Italian' in lang:\n",
    "        italian[i]=1\n",
    "    if 'Hindi' in lang:\n",
    "        hindi[i]=1\n",
    "    if 'Urdu' in lang:\n",
    "        urdu[i]=1\n",
    "    if 'Russian' in lang:\n",
    "        russian[i]=1\n",
    "    if 'Portuguese' in lang:\n",
    "        portuguese[i]=1\n",
    "    \"\"\""
   ]
  },
  {
   "cell_type": "code",
   "execution_count": 330,
   "id": "creative-differential",
   "metadata": {},
   "outputs": [
    {
     "data": {
      "text/plain": [
       "\"\\ndata['arabic'] = arabic\\ndata['german'] = german\\ndata['italian'] = italian\\ndata['hindi'] = hindi\\ndata['urdu'] = urdu\\ndata['russian'] = russian\\ndata['portuguese'] = portuguese\\n\""
      ]
     },
     "execution_count": 330,
     "metadata": {},
     "output_type": "execute_result"
    }
   ],
   "source": [
    "del data['languages']\n",
    "\n",
    "data['lang_english'] = english\n",
    "data['lang_french'] = french\n",
    "data['lang_spanish'] = spanish\n",
    "\n",
    "\"\"\"\n",
    "data['arabic'] = arabic\n",
    "data['german'] = german\n",
    "data['italian'] = italian\n",
    "data['hindi'] = hindi\n",
    "data['urdu'] = urdu\n",
    "data['russian'] = russian\n",
    "data['portuguese'] = portuguese\n",
    "\"\"\""
   ]
  },
  {
   "cell_type": "markdown",
   "id": "3d674b0b",
   "metadata": {},
   "source": [
    "# Industry expertises"
   ]
  },
  {
   "cell_type": "code",
   "execution_count": 331,
   "id": "42dc6f4b",
   "metadata": {},
   "outputs": [],
   "source": [
    "available_expertise = {}\n",
    "industry_expertise = np.array(data.industry_expertise)\n",
    "for profile_expertise in industry_expertise:\n",
    "    profile_expertise = ast.literal_eval(profile_expertise)\n",
    "    if len(profile_expertise)>0:\n",
    "        for expertise in profile_expertise:\n",
    "            if expertise not in available_expertise:\n",
    "                available_expertise[expertise] = 1\n",
    "            else:\n",
    "                available_expertise[expertise] += 1"
   ]
  },
  {
   "cell_type": "code",
   "execution_count": 332,
   "id": "dc5ff00a",
   "metadata": {},
   "outputs": [
    {
     "data": {
      "text/plain": [
       "65"
      ]
     },
     "execution_count": 332,
     "metadata": {},
     "output_type": "execute_result"
    }
   ],
   "source": [
    "len(available_expertise)"
   ]
  },
  {
   "cell_type": "code",
   "execution_count": 333,
   "id": "0ac3114a",
   "metadata": {},
   "outputs": [],
   "source": [
    "exper = np.array(list(available_expertise.keys()))\n",
    "count_exper = list(available_expertise.values())\n",
    "sorted_count_exper = np.argsort(count_exper)[-10:]\n",
    "most_imp_exper = exper[sorted_count_exper]"
   ]
  },
  {
   "cell_type": "code",
   "execution_count": 334,
   "id": "d987f14e",
   "metadata": {},
   "outputs": [
    {
     "data": {
      "text/plain": [
       "array(['Publishing', 'Healthcare', 'Travel', 'Internet', 'Technology',\n",
       "       'IT', 'Media', 'Advertising', 'Education', 'Marketing'],\n",
       "      dtype='<U18')"
      ]
     },
     "execution_count": 334,
     "metadata": {},
     "output_type": "execute_result"
    }
   ],
   "source": [
    "most_imp_exper"
   ]
  },
  {
   "cell_type": "code",
   "execution_count": 335,
   "id": "5440b3eb",
   "metadata": {},
   "outputs": [
    {
     "data": {
      "text/plain": [
       "\"\\n    if 'Media' in exper:\\n        media[i]=1\\n    if 'IT' in exper:\\n        it[i]=1\\n    if 'Internet' in exper:\\n        internet[i]=1\\n    if 'Technology' in exper:\\n        technology[i]=1\\n    if 'Entertainment' in exper:\\n        entertainment[i]=1\\n    if 'Travel' in exper:\\n        travel[i]=1\\n    if 'Art' in exper:\\n        art[i]=1\\n\""
      ]
     },
     "execution_count": 335,
     "metadata": {},
     "output_type": "execute_result"
    }
   ],
   "source": [
    "n = len(data)\n",
    "marketing, education, advertising, media, it, internet, technology, entertainment, travel, art = np.zeros(n), np.zeros(n), np.zeros(n), np.zeros(n), np.zeros(n), np.zeros(n), np.zeros(n), np.zeros(n), np.zeros(n), np.zeros(n)\n",
    "\n",
    "for i, exper in enumerate(industry_expertise):\n",
    "    exper=ast.literal_eval(exper)\n",
    "    if 'Marketing' in exper:\n",
    "        marketing[i]=1\n",
    "    if 'Education' in exper:\n",
    "        education[i]=1\n",
    "    if 'Advertising' in exper:\n",
    "        advertising[i]=1\n",
    "\"\"\"\n",
    "    if 'Media' in exper:\n",
    "        media[i]=1\n",
    "    if 'IT' in exper:\n",
    "        it[i]=1\n",
    "    if 'Internet' in exper:\n",
    "        internet[i]=1\n",
    "    if 'Technology' in exper:\n",
    "        technology[i]=1\n",
    "    if 'Entertainment' in exper:\n",
    "        entertainment[i]=1\n",
    "    if 'Travel' in exper:\n",
    "        travel[i]=1\n",
    "    if 'Art' in exper:\n",
    "        art[i]=1\n",
    "\"\"\""
   ]
  },
  {
   "cell_type": "code",
   "execution_count": 336,
   "id": "champion-person",
   "metadata": {},
   "outputs": [
    {
     "data": {
      "text/plain": [
       "\"\\ndata['exper_media'] = media\\ndata['exper_it'] = it\\ndata['exper_internet'] = internet\\ndata['exper_technology'] = technology\\ndata['exper_entertainment'] = entertainment\\ndata['exper_travel'] = travel\\ndata['exper_art'] = art\\n\""
      ]
     },
     "execution_count": 336,
     "metadata": {},
     "output_type": "execute_result"
    }
   ],
   "source": [
    "del data['industry_expertise']\n",
    "\n",
    "data['exper_education'] = education\n",
    "data['exper_advertising'] = advertising\n",
    "data['exper_marketing'] = marketing\n",
    "\n",
    "\"\"\"\n",
    "data['exper_media'] = media\n",
    "data['exper_it'] = it\n",
    "data['exper_internet'] = internet\n",
    "data['exper_technology'] = technology\n",
    "data['exper_entertainment'] = entertainment\n",
    "data['exper_travel'] = travel\n",
    "data['exper_art'] = art\n",
    "\"\"\""
   ]
  },
  {
   "cell_type": "markdown",
   "id": "architectural-present",
   "metadata": {},
   "source": [
    "# Recently active workers"
   ]
  },
  {
   "cell_type": "code",
   "execution_count": 337,
   "id": "absolute-klein",
   "metadata": {},
   "outputs": [],
   "source": [
    "data.last_active = pd.to_datetime(data.last_active)\n",
    "threshold = datetime.datetime.strptime('20-03-2021', '%d-%m-%Y') \n",
    "# Choose date to qualify if worker was recently active\n",
    "\n",
    "data.last_active = threshold < data.last_active\n",
    "data.last_active = data.last_active*1"
   ]
  },
  {
   "cell_type": "markdown",
   "id": "incident-occurrence",
   "metadata": {},
   "source": [
    "# Countries of work"
   ]
  },
  {
   "cell_type": "code",
   "execution_count": 338,
   "id": "dense-desert",
   "metadata": {},
   "outputs": [
    {
     "name": "stdout",
     "output_type": "stream",
     "text": [
      "[('UnitedKingdom', 3178), ('India', 511), ('Pakistan', 397), ('Kenya', 185), ('France', 150), ('Germany', 136), ('Spain', 136), ('Bangladesh', 132), ('Italy', 126), ('Nigeria', 118)]\n"
     ]
    }
   ],
   "source": [
    "location = data['country']\n",
    "\n",
    "country = [ l.split(',')[-1].replace(\" \", \"\") for l in location ]\n",
    "count = Counter(country).most_common(10)\n",
    "\n",
    "print(count)"
   ]
  },
  {
   "cell_type": "code",
   "execution_count": 339,
   "id": "boolean-cradle",
   "metadata": {},
   "outputs": [],
   "source": [
    "values = data['country']\n",
    "counts = pd.value_counts(values)\n",
    "mask = values.isin(counts.index)\n",
    "coun = pd.get_dummies(values[mask])\n",
    "del data['country']\n",
    "data['country_UnitedKingdom'] = coun[' United Kingdom']\n",
    "data['country_India'] = coun[' India']\n",
    "data['country_Pakistan'] = coun[' Pakistan']\n",
    "data['country_Kenya'] = coun[' Kenya']"
   ]
  },
  {
   "cell_type": "markdown",
   "id": "equal-rugby",
   "metadata": {},
   "source": [
    "# Skills"
   ]
  },
  {
   "cell_type": "code",
   "execution_count": 340,
   "id": "driven-legislation",
   "metadata": {},
   "outputs": [],
   "source": [
    "available_skill = {}\n",
    "skills = np.array(data.skills)\n",
    "for profile_skill in skills:\n",
    "    profile_skill = ast.literal_eval(profile_skill)\n",
    "    if len(profile_skill)>0:\n",
    "        for skill in profile_skill:\n",
    "            if skill not in available_skill:\n",
    "                available_skill[skill] = 1\n",
    "            else:\n",
    "                available_skill[skill] += 1"
   ]
  },
  {
   "cell_type": "code",
   "execution_count": 341,
   "id": "quantitative-production",
   "metadata": {},
   "outputs": [
    {
     "data": {
      "text/plain": [
       "2148"
      ]
     },
     "execution_count": 341,
     "metadata": {},
     "output_type": "execute_result"
    }
   ],
   "source": [
    "len(available_skill)"
   ]
  },
  {
   "cell_type": "code",
   "execution_count": 342,
   "id": "chemical-honolulu",
   "metadata": {},
   "outputs": [],
   "source": [
    "sk = np.array(list(available_skill.keys()))\n",
    "count_sk = list(available_skill.values())\n",
    "sorted_count_sk = np.argsort(count_sk)[-10:]\n",
    "most_imp_sk = sk[sorted_count_sk]"
   ]
  },
  {
   "cell_type": "code",
   "execution_count": 343,
   "id": "periodic-willow",
   "metadata": {},
   "outputs": [
    {
     "data": {
      "text/plain": [
       "array(['web writing', 'social media marketing', 'article',\n",
       "       'search engine optimization', 'editing', 'creative writing',\n",
       "       'copywriting', 'proofreading', 'blog writing', 'content writing'],\n",
       "      dtype='<U51')"
      ]
     },
     "execution_count": 343,
     "metadata": {},
     "output_type": "execute_result"
    }
   ],
   "source": [
    "most_imp_sk"
   ]
  },
  {
   "cell_type": "code",
   "execution_count": 344,
   "id": "absent-static",
   "metadata": {},
   "outputs": [],
   "source": [
    "n = len(data)\n",
    "creative_writing, copywriting, proofreading, blog_writing, content_writing = np.zeros(n), np.zeros(n), np.zeros(n), np.zeros(n), np.zeros(n)\n",
    "\n",
    "for i, sk in enumerate(skills):\n",
    "    sk=ast.literal_eval(sk)\n",
    "    if 'creative writing' in sk:\n",
    "        creative_writing[i]=1\n",
    "    if 'copywriting' in sk:\n",
    "        copywriting[i]=1\n",
    "    if 'proofreading' in sk:\n",
    "        proofreading[i]=1\n",
    "    if 'blog writing' in sk:\n",
    "        blog_writing[i]=1\n",
    "    if 'content writing' in sk:\n",
    "        content_writing[i]=1"
   ]
  },
  {
   "cell_type": "code",
   "execution_count": 345,
   "id": "green-fantasy",
   "metadata": {},
   "outputs": [],
   "source": [
    "del data['skills']\n",
    "\n",
    "data['skill_creative_writing'] = creative_writing\n",
    "data['skill_Copywriting'] = copywriting\n",
    "data['skill_proofreading'] = proofreading\n",
    "data['skill_blog_writing'] = blog_writing\n",
    "data['skill_content_writing'] = content_writing"
   ]
  },
  {
   "cell_type": "markdown",
   "id": "measured-world",
   "metadata": {},
   "source": [
    "# Gender"
   ]
  },
  {
   "cell_type": "code",
   "execution_count": 346,
   "id": "occupied-animal",
   "metadata": {},
   "outputs": [],
   "source": [
    "values = data['gender']\n",
    "counts = pd.value_counts(values)\n",
    "mask = values.isin(counts[0:3].index)\n",
    "gen = pd.get_dummies(values[mask])\n",
    "\n",
    "del data['gender']\n",
    "data = pd.concat([data, gen], axis=1)"
   ]
  },
  {
   "cell_type": "markdown",
   "id": "crucial-submission",
   "metadata": {},
   "source": [
    "# Final data"
   ]
  },
  {
   "cell_type": "code",
   "execution_count": 347,
   "id": "married-anaheim",
   "metadata": {},
   "outputs": [
    {
     "data": {
      "text/html": [
       "<div>\n",
       "<style scoped>\n",
       "    .dataframe tbody tr th:only-of-type {\n",
       "        vertical-align: middle;\n",
       "    }\n",
       "\n",
       "    .dataframe tbody tr th {\n",
       "        vertical-align: top;\n",
       "    }\n",
       "\n",
       "    .dataframe thead th {\n",
       "        text-align: right;\n",
       "    }\n",
       "</style>\n",
       "<table border=\"1\" class=\"dataframe\">\n",
       "  <thead>\n",
       "    <tr style=\"text-align: right;\">\n",
       "      <th></th>\n",
       "      <th>rating</th>\n",
       "      <th>nb_reviews</th>\n",
       "      <th>Price/hour in USD</th>\n",
       "      <th>nb_projects</th>\n",
       "      <th>nb_buyers</th>\n",
       "      <th>last_active</th>\n",
       "      <th>score</th>\n",
       "      <th>lang_english</th>\n",
       "      <th>lang_french</th>\n",
       "      <th>lang_spanish</th>\n",
       "      <th>...</th>\n",
       "      <th>country_Pakistan</th>\n",
       "      <th>country_Kenya</th>\n",
       "      <th>skill_creative_writing</th>\n",
       "      <th>skill_Copywriting</th>\n",
       "      <th>skill_proofreading</th>\n",
       "      <th>skill_blog_writing</th>\n",
       "      <th>skill_content_writing</th>\n",
       "      <th>female</th>\n",
       "      <th>male</th>\n",
       "      <th>unknown</th>\n",
       "    </tr>\n",
       "  </thead>\n",
       "  <tbody>\n",
       "    <tr>\n",
       "      <th>0</th>\n",
       "      <td>4.9</td>\n",
       "      <td>4694</td>\n",
       "      <td>34.74</td>\n",
       "      <td>7672</td>\n",
       "      <td>4168</td>\n",
       "      <td>1</td>\n",
       "      <td>10.043</td>\n",
       "      <td>1.0</td>\n",
       "      <td>0.0</td>\n",
       "      <td>0.0</td>\n",
       "      <td>...</td>\n",
       "      <td>0</td>\n",
       "      <td>0</td>\n",
       "      <td>0.0</td>\n",
       "      <td>0.0</td>\n",
       "      <td>0.0</td>\n",
       "      <td>0.0</td>\n",
       "      <td>1.0</td>\n",
       "      <td>1</td>\n",
       "      <td>0</td>\n",
       "      <td>0</td>\n",
       "    </tr>\n",
       "    <tr>\n",
       "      <th>1</th>\n",
       "      <td>5.0</td>\n",
       "      <td>1190</td>\n",
       "      <td>138.95</td>\n",
       "      <td>1085</td>\n",
       "      <td>533</td>\n",
       "      <td>1</td>\n",
       "      <td>8.691</td>\n",
       "      <td>1.0</td>\n",
       "      <td>0.0</td>\n",
       "      <td>0.0</td>\n",
       "      <td>...</td>\n",
       "      <td>0</td>\n",
       "      <td>0</td>\n",
       "      <td>0.0</td>\n",
       "      <td>0.0</td>\n",
       "      <td>0.0</td>\n",
       "      <td>1.0</td>\n",
       "      <td>0.0</td>\n",
       "      <td>0</td>\n",
       "      <td>0</td>\n",
       "      <td>1</td>\n",
       "    </tr>\n",
       "    <tr>\n",
       "      <th>3</th>\n",
       "      <td>4.9</td>\n",
       "      <td>598</td>\n",
       "      <td>20.00</td>\n",
       "      <td>721</td>\n",
       "      <td>376</td>\n",
       "      <td>1</td>\n",
       "      <td>7.983</td>\n",
       "      <td>0.0</td>\n",
       "      <td>0.0</td>\n",
       "      <td>0.0</td>\n",
       "      <td>...</td>\n",
       "      <td>0</td>\n",
       "      <td>0</td>\n",
       "      <td>0.0</td>\n",
       "      <td>0.0</td>\n",
       "      <td>0.0</td>\n",
       "      <td>0.0</td>\n",
       "      <td>0.0</td>\n",
       "      <td>0</td>\n",
       "      <td>0</td>\n",
       "      <td>1</td>\n",
       "    </tr>\n",
       "    <tr>\n",
       "      <th>4</th>\n",
       "      <td>4.9</td>\n",
       "      <td>135</td>\n",
       "      <td>27.79</td>\n",
       "      <td>140</td>\n",
       "      <td>100</td>\n",
       "      <td>1</td>\n",
       "      <td>6.496</td>\n",
       "      <td>1.0</td>\n",
       "      <td>1.0</td>\n",
       "      <td>1.0</td>\n",
       "      <td>...</td>\n",
       "      <td>0</td>\n",
       "      <td>0</td>\n",
       "      <td>0.0</td>\n",
       "      <td>0.0</td>\n",
       "      <td>1.0</td>\n",
       "      <td>0.0</td>\n",
       "      <td>0.0</td>\n",
       "      <td>0</td>\n",
       "      <td>0</td>\n",
       "      <td>1</td>\n",
       "    </tr>\n",
       "    <tr>\n",
       "      <th>5</th>\n",
       "      <td>4.9</td>\n",
       "      <td>554</td>\n",
       "      <td>22.23</td>\n",
       "      <td>404</td>\n",
       "      <td>293</td>\n",
       "      <td>1</td>\n",
       "      <td>7.907</td>\n",
       "      <td>1.0</td>\n",
       "      <td>1.0</td>\n",
       "      <td>1.0</td>\n",
       "      <td>...</td>\n",
       "      <td>0</td>\n",
       "      <td>0</td>\n",
       "      <td>0.0</td>\n",
       "      <td>0.0</td>\n",
       "      <td>0.0</td>\n",
       "      <td>0.0</td>\n",
       "      <td>0.0</td>\n",
       "      <td>0</td>\n",
       "      <td>1</td>\n",
       "      <td>0</td>\n",
       "    </tr>\n",
       "  </tbody>\n",
       "</table>\n",
       "<p>5 rows × 25 columns</p>\n",
       "</div>"
      ],
      "text/plain": [
       "   rating  nb_reviews  Price/hour in USD  nb_projects  nb_buyers  last_active  \\\n",
       "0     4.9        4694              34.74         7672       4168            1   \n",
       "1     5.0        1190             138.95         1085        533            1   \n",
       "3     4.9         598              20.00          721        376            1   \n",
       "4     4.9         135              27.79          140        100            1   \n",
       "5     4.9         554              22.23          404        293            1   \n",
       "\n",
       "    score  lang_english  lang_french  lang_spanish  ...  country_Pakistan  \\\n",
       "0  10.043           1.0          0.0           0.0  ...                 0   \n",
       "1   8.691           1.0          0.0           0.0  ...                 0   \n",
       "3   7.983           0.0          0.0           0.0  ...                 0   \n",
       "4   6.496           1.0          1.0           1.0  ...                 0   \n",
       "5   7.907           1.0          1.0           1.0  ...                 0   \n",
       "\n",
       "   country_Kenya  skill_creative_writing  skill_Copywriting  \\\n",
       "0              0                     0.0                0.0   \n",
       "1              0                     0.0                0.0   \n",
       "3              0                     0.0                0.0   \n",
       "4              0                     0.0                0.0   \n",
       "5              0                     0.0                0.0   \n",
       "\n",
       "   skill_proofreading  skill_blog_writing  skill_content_writing  female  \\\n",
       "0                 0.0                 0.0                    1.0       1   \n",
       "1                 0.0                 1.0                    0.0       0   \n",
       "3                 0.0                 0.0                    0.0       0   \n",
       "4                 1.0                 0.0                    0.0       0   \n",
       "5                 0.0                 0.0                    0.0       0   \n",
       "\n",
       "   male  unknown  \n",
       "0     0        0  \n",
       "1     0        1  \n",
       "3     0        1  \n",
       "4     0        1  \n",
       "5     1        0  \n",
       "\n",
       "[5 rows x 25 columns]"
      ]
     },
     "execution_count": 347,
     "metadata": {},
     "output_type": "execute_result"
    }
   ],
   "source": [
    "data.head(5)"
   ]
  },
  {
   "cell_type": "code",
   "execution_count": 348,
   "id": "touched-literacy",
   "metadata": {},
   "outputs": [
    {
     "name": "stdout",
     "output_type": "stream",
     "text": [
      "False\n",
      "0\n",
      "rating                    0\n",
      "nb_reviews                0\n",
      "Price/hour in USD         0\n",
      "nb_projects               0\n",
      "nb_buyers                 0\n",
      "last_active               0\n",
      "score                     0\n",
      "lang_english              0\n",
      "lang_french               0\n",
      "lang_spanish              0\n",
      "exper_education           0\n",
      "exper_advertising         0\n",
      "exper_marketing           0\n",
      "country_UnitedKingdom     0\n",
      "country_India             0\n",
      "country_Pakistan          0\n",
      "country_Kenya             0\n",
      "skill_creative_writing    0\n",
      "skill_Copywriting         0\n",
      "skill_proofreading        0\n",
      "skill_blog_writing        0\n",
      "skill_content_writing     0\n",
      "female                    0\n",
      "male                      0\n",
      "unknown                   0\n",
      "dtype: int64\n"
     ]
    }
   ],
   "source": [
    "print(data.isna().values.any())\n",
    "print(data.isna().sum().sum())\n",
    "print(data.isna().sum())"
   ]
  },
  {
   "cell_type": "code",
   "execution_count": 349,
   "id": "sunrise-effort",
   "metadata": {
    "scrolled": false
   },
   "outputs": [
    {
     "data": {
      "text/html": [
       "<div>\n",
       "<style scoped>\n",
       "    .dataframe tbody tr th:only-of-type {\n",
       "        vertical-align: middle;\n",
       "    }\n",
       "\n",
       "    .dataframe tbody tr th {\n",
       "        vertical-align: top;\n",
       "    }\n",
       "\n",
       "    .dataframe thead th {\n",
       "        text-align: right;\n",
       "    }\n",
       "</style>\n",
       "<table border=\"1\" class=\"dataframe\">\n",
       "  <thead>\n",
       "    <tr style=\"text-align: right;\">\n",
       "      <th></th>\n",
       "      <th>rating</th>\n",
       "      <th>nb_reviews</th>\n",
       "      <th>Price/hour in USD</th>\n",
       "      <th>nb_projects</th>\n",
       "      <th>nb_buyers</th>\n",
       "      <th>last_active</th>\n",
       "      <th>score</th>\n",
       "      <th>lang_english</th>\n",
       "      <th>lang_french</th>\n",
       "      <th>lang_spanish</th>\n",
       "      <th>...</th>\n",
       "      <th>country_Pakistan</th>\n",
       "      <th>country_Kenya</th>\n",
       "      <th>skill_creative_writing</th>\n",
       "      <th>skill_Copywriting</th>\n",
       "      <th>skill_proofreading</th>\n",
       "      <th>skill_blog_writing</th>\n",
       "      <th>skill_content_writing</th>\n",
       "      <th>female</th>\n",
       "      <th>male</th>\n",
       "      <th>unknown</th>\n",
       "    </tr>\n",
       "  </thead>\n",
       "  <tbody>\n",
       "    <tr>\n",
       "      <th>count</th>\n",
       "      <td>7073.000000</td>\n",
       "      <td>7073.000000</td>\n",
       "      <td>7073.000000</td>\n",
       "      <td>7073.000000</td>\n",
       "      <td>7073.000000</td>\n",
       "      <td>7073.000000</td>\n",
       "      <td>7073.000000</td>\n",
       "      <td>7073.000000</td>\n",
       "      <td>7073.000000</td>\n",
       "      <td>7073.000000</td>\n",
       "      <td>...</td>\n",
       "      <td>7073.000000</td>\n",
       "      <td>7073.000000</td>\n",
       "      <td>7073.000000</td>\n",
       "      <td>7073.000000</td>\n",
       "      <td>7073.000000</td>\n",
       "      <td>7073.000000</td>\n",
       "      <td>7073.000000</td>\n",
       "      <td>7073.000000</td>\n",
       "      <td>7073.000000</td>\n",
       "      <td>7073.000000</td>\n",
       "    </tr>\n",
       "    <tr>\n",
       "      <th>mean</th>\n",
       "      <td>4.834398</td>\n",
       "      <td>43.217447</td>\n",
       "      <td>30.884676</td>\n",
       "      <td>46.545879</td>\n",
       "      <td>30.039446</td>\n",
       "      <td>0.640888</td>\n",
       "      <td>3.881086</td>\n",
       "      <td>0.792309</td>\n",
       "      <td>0.103634</td>\n",
       "      <td>0.092464</td>\n",
       "      <td>...</td>\n",
       "      <td>0.056129</td>\n",
       "      <td>0.026156</td>\n",
       "      <td>0.216740</td>\n",
       "      <td>0.287431</td>\n",
       "      <td>0.334653</td>\n",
       "      <td>0.336067</td>\n",
       "      <td>0.438993</td>\n",
       "      <td>0.481832</td>\n",
       "      <td>0.353174</td>\n",
       "      <td>0.164994</td>\n",
       "    </tr>\n",
       "    <tr>\n",
       "      <th>std</th>\n",
       "      <td>0.667073</td>\n",
       "      <td>185.349740</td>\n",
       "      <td>34.608079</td>\n",
       "      <td>274.213685</td>\n",
       "      <td>166.041998</td>\n",
       "      <td>0.479774</td>\n",
       "      <td>1.568235</td>\n",
       "      <td>0.405683</td>\n",
       "      <td>0.304806</td>\n",
       "      <td>0.289701</td>\n",
       "      <td>...</td>\n",
       "      <td>0.230187</td>\n",
       "      <td>0.159610</td>\n",
       "      <td>0.412053</td>\n",
       "      <td>0.452596</td>\n",
       "      <td>0.471902</td>\n",
       "      <td>0.472395</td>\n",
       "      <td>0.496299</td>\n",
       "      <td>0.499705</td>\n",
       "      <td>0.477990</td>\n",
       "      <td>0.371201</td>\n",
       "    </tr>\n",
       "    <tr>\n",
       "      <th>min</th>\n",
       "      <td>0.000000</td>\n",
       "      <td>0.000000</td>\n",
       "      <td>8.340000</td>\n",
       "      <td>1.000000</td>\n",
       "      <td>0.000000</td>\n",
       "      <td>0.000000</td>\n",
       "      <td>0.000000</td>\n",
       "      <td>0.000000</td>\n",
       "      <td>0.000000</td>\n",
       "      <td>0.000000</td>\n",
       "      <td>...</td>\n",
       "      <td>0.000000</td>\n",
       "      <td>0.000000</td>\n",
       "      <td>0.000000</td>\n",
       "      <td>0.000000</td>\n",
       "      <td>0.000000</td>\n",
       "      <td>0.000000</td>\n",
       "      <td>0.000000</td>\n",
       "      <td>0.000000</td>\n",
       "      <td>0.000000</td>\n",
       "      <td>0.000000</td>\n",
       "    </tr>\n",
       "    <tr>\n",
       "      <th>25%</th>\n",
       "      <td>4.900000</td>\n",
       "      <td>3.000000</td>\n",
       "      <td>14.500000</td>\n",
       "      <td>3.000000</td>\n",
       "      <td>2.000000</td>\n",
       "      <td>0.000000</td>\n",
       "      <td>2.773000</td>\n",
       "      <td>1.000000</td>\n",
       "      <td>0.000000</td>\n",
       "      <td>0.000000</td>\n",
       "      <td>...</td>\n",
       "      <td>0.000000</td>\n",
       "      <td>0.000000</td>\n",
       "      <td>0.000000</td>\n",
       "      <td>0.000000</td>\n",
       "      <td>0.000000</td>\n",
       "      <td>0.000000</td>\n",
       "      <td>0.000000</td>\n",
       "      <td>0.000000</td>\n",
       "      <td>0.000000</td>\n",
       "      <td>0.000000</td>\n",
       "    </tr>\n",
       "    <tr>\n",
       "      <th>50%</th>\n",
       "      <td>5.000000</td>\n",
       "      <td>8.000000</td>\n",
       "      <td>24.170000</td>\n",
       "      <td>8.000000</td>\n",
       "      <td>6.000000</td>\n",
       "      <td>1.000000</td>\n",
       "      <td>3.714000</td>\n",
       "      <td>1.000000</td>\n",
       "      <td>0.000000</td>\n",
       "      <td>0.000000</td>\n",
       "      <td>...</td>\n",
       "      <td>0.000000</td>\n",
       "      <td>0.000000</td>\n",
       "      <td>0.000000</td>\n",
       "      <td>0.000000</td>\n",
       "      <td>0.000000</td>\n",
       "      <td>0.000000</td>\n",
       "      <td>0.000000</td>\n",
       "      <td>0.000000</td>\n",
       "      <td>0.000000</td>\n",
       "      <td>0.000000</td>\n",
       "    </tr>\n",
       "    <tr>\n",
       "      <th>75%</th>\n",
       "      <td>5.000000</td>\n",
       "      <td>27.000000</td>\n",
       "      <td>35.000000</td>\n",
       "      <td>26.000000</td>\n",
       "      <td>19.000000</td>\n",
       "      <td>1.000000</td>\n",
       "      <td>4.913000</td>\n",
       "      <td>1.000000</td>\n",
       "      <td>0.000000</td>\n",
       "      <td>0.000000</td>\n",
       "      <td>...</td>\n",
       "      <td>0.000000</td>\n",
       "      <td>0.000000</td>\n",
       "      <td>0.000000</td>\n",
       "      <td>1.000000</td>\n",
       "      <td>1.000000</td>\n",
       "      <td>1.000000</td>\n",
       "      <td>1.000000</td>\n",
       "      <td>1.000000</td>\n",
       "      <td>1.000000</td>\n",
       "      <td>0.000000</td>\n",
       "    </tr>\n",
       "    <tr>\n",
       "      <th>max</th>\n",
       "      <td>5.000000</td>\n",
       "      <td>8647.000000</td>\n",
       "      <td>1354.740000</td>\n",
       "      <td>16306.000000</td>\n",
       "      <td>10343.000000</td>\n",
       "      <td>1.000000</td>\n",
       "      <td>10.634000</td>\n",
       "      <td>1.000000</td>\n",
       "      <td>1.000000</td>\n",
       "      <td>1.000000</td>\n",
       "      <td>...</td>\n",
       "      <td>1.000000</td>\n",
       "      <td>1.000000</td>\n",
       "      <td>1.000000</td>\n",
       "      <td>1.000000</td>\n",
       "      <td>1.000000</td>\n",
       "      <td>1.000000</td>\n",
       "      <td>1.000000</td>\n",
       "      <td>1.000000</td>\n",
       "      <td>1.000000</td>\n",
       "      <td>1.000000</td>\n",
       "    </tr>\n",
       "  </tbody>\n",
       "</table>\n",
       "<p>8 rows × 25 columns</p>\n",
       "</div>"
      ],
      "text/plain": [
       "            rating   nb_reviews  Price/hour in USD   nb_projects  \\\n",
       "count  7073.000000  7073.000000        7073.000000   7073.000000   \n",
       "mean      4.834398    43.217447          30.884676     46.545879   \n",
       "std       0.667073   185.349740          34.608079    274.213685   \n",
       "min       0.000000     0.000000           8.340000      1.000000   \n",
       "25%       4.900000     3.000000          14.500000      3.000000   \n",
       "50%       5.000000     8.000000          24.170000      8.000000   \n",
       "75%       5.000000    27.000000          35.000000     26.000000   \n",
       "max       5.000000  8647.000000        1354.740000  16306.000000   \n",
       "\n",
       "          nb_buyers  last_active        score  lang_english  lang_french  \\\n",
       "count   7073.000000  7073.000000  7073.000000   7073.000000  7073.000000   \n",
       "mean      30.039446     0.640888     3.881086      0.792309     0.103634   \n",
       "std      166.041998     0.479774     1.568235      0.405683     0.304806   \n",
       "min        0.000000     0.000000     0.000000      0.000000     0.000000   \n",
       "25%        2.000000     0.000000     2.773000      1.000000     0.000000   \n",
       "50%        6.000000     1.000000     3.714000      1.000000     0.000000   \n",
       "75%       19.000000     1.000000     4.913000      1.000000     0.000000   \n",
       "max    10343.000000     1.000000    10.634000      1.000000     1.000000   \n",
       "\n",
       "       lang_spanish  ...  country_Pakistan  country_Kenya  \\\n",
       "count   7073.000000  ...       7073.000000    7073.000000   \n",
       "mean       0.092464  ...          0.056129       0.026156   \n",
       "std        0.289701  ...          0.230187       0.159610   \n",
       "min        0.000000  ...          0.000000       0.000000   \n",
       "25%        0.000000  ...          0.000000       0.000000   \n",
       "50%        0.000000  ...          0.000000       0.000000   \n",
       "75%        0.000000  ...          0.000000       0.000000   \n",
       "max        1.000000  ...          1.000000       1.000000   \n",
       "\n",
       "       skill_creative_writing  skill_Copywriting  skill_proofreading  \\\n",
       "count             7073.000000        7073.000000         7073.000000   \n",
       "mean                 0.216740           0.287431            0.334653   \n",
       "std                  0.412053           0.452596            0.471902   \n",
       "min                  0.000000           0.000000            0.000000   \n",
       "25%                  0.000000           0.000000            0.000000   \n",
       "50%                  0.000000           0.000000            0.000000   \n",
       "75%                  0.000000           1.000000            1.000000   \n",
       "max                  1.000000           1.000000            1.000000   \n",
       "\n",
       "       skill_blog_writing  skill_content_writing       female         male  \\\n",
       "count         7073.000000            7073.000000  7073.000000  7073.000000   \n",
       "mean             0.336067               0.438993     0.481832     0.353174   \n",
       "std              0.472395               0.496299     0.499705     0.477990   \n",
       "min              0.000000               0.000000     0.000000     0.000000   \n",
       "25%              0.000000               0.000000     0.000000     0.000000   \n",
       "50%              0.000000               0.000000     0.000000     0.000000   \n",
       "75%              1.000000               1.000000     1.000000     1.000000   \n",
       "max              1.000000               1.000000     1.000000     1.000000   \n",
       "\n",
       "           unknown  \n",
       "count  7073.000000  \n",
       "mean      0.164994  \n",
       "std       0.371201  \n",
       "min       0.000000  \n",
       "25%       0.000000  \n",
       "50%       0.000000  \n",
       "75%       0.000000  \n",
       "max       1.000000  \n",
       "\n",
       "[8 rows x 25 columns]"
      ]
     },
     "execution_count": 349,
     "metadata": {},
     "output_type": "execute_result"
    }
   ],
   "source": [
    "data.describe()"
   ]
  },
  {
   "cell_type": "code",
   "execution_count": 350,
   "id": "accessory-integration",
   "metadata": {
    "scrolled": false
   },
   "outputs": [
    {
     "name": "stdout",
     "output_type": "stream",
     "text": [
      "                            OLS Regression Results                            \n",
      "==============================================================================\n",
      "Dep. Variable:      Price/hour in USD   R-squared:                       0.067\n",
      "Model:                            OLS   Adj. R-squared:                  0.063\n",
      "Method:                 Least Squares   F-statistic:                     16.49\n",
      "Date:                Mon, 17 May 2021   Prob (F-statistic):           1.11e-63\n",
      "Time:                        11:08:56   Log-Likelihood:                -26364.\n",
      "No. Observations:                5304   AIC:                         5.278e+04\n",
      "Df Residuals:                    5280   BIC:                         5.293e+04\n",
      "Df Model:                          23                                         \n",
      "Covariance Type:            nonrobust                                         \n",
      "==========================================================================================\n",
      "                             coef    std err          t      P>|t|      [0.025      0.975]\n",
      "------------------------------------------------------------------------------------------\n",
      "rating                     0.1840      0.788      0.234      0.815      -1.361       1.729\n",
      "nb_reviews                -0.0022      0.009     -0.242      0.809      -0.020       0.015\n",
      "nb_projects               -0.0313      0.014     -2.235      0.025      -0.059      -0.004\n",
      "nb_buyers                  0.0518      0.020      2.579      0.010       0.012       0.091\n",
      "last_active               -0.2136      1.055     -0.202      0.840      -2.282       1.855\n",
      "score                      1.8985      0.406      4.677      0.000       1.103       2.694\n",
      "lang_english               4.2295      1.291      3.277      0.001       1.699       6.760\n",
      "lang_french                1.4047      1.686      0.833      0.405      -1.900       4.710\n",
      "lang_spanish              -1.4255      1.759     -0.810      0.418      -4.873       2.022\n",
      "exper_education            0.5521      1.398      0.395      0.693      -2.189       3.293\n",
      "exper_advertising         -0.8576      1.551     -0.553      0.580      -3.899       2.184\n",
      "exper_marketing           -0.3210      1.261     -0.255      0.799      -2.793       2.151\n",
      "country_UnitedKingdom     12.9630      1.111     11.668      0.000      10.785      15.141\n",
      "country_India             -6.7583      2.011     -3.361      0.001     -10.700      -2.817\n",
      "country_Pakistan          -9.1373      2.210     -4.134      0.000     -13.470      -4.804\n",
      "country_Kenya             -5.4402      3.127     -1.740      0.082     -11.570       0.689\n",
      "skill_creative_writing    -5.2618      1.252     -4.201      0.000      -7.717      -2.807\n",
      "skill_Copywriting          3.2412      1.169      2.772      0.006       0.949       5.534\n",
      "skill_proofreading        -4.9613      1.066     -4.654      0.000      -7.051      -2.871\n",
      "skill_blog_writing        -0.8074      1.203     -0.671      0.502      -3.166       1.551\n",
      "skill_content_writing     -0.4933      1.131     -0.436      0.663      -2.711       1.724\n",
      "female                    16.5464      3.935      4.205      0.000       8.833      24.260\n",
      "male                      18.2627      3.908      4.674      0.000      10.602      25.923\n",
      "unknown                   17.1494      3.918      4.377      0.000       9.468      24.831\n",
      "==============================================================================\n",
      "Omnibus:                    10490.418   Durbin-Watson:                   1.972\n",
      "Prob(Omnibus):                  0.000   Jarque-Bera (JB):         45814611.823\n",
      "Skew:                          15.542   Prob(JB):                         0.00\n",
      "Kurtosis:                     457.246   Cond. No.                     5.66e+03\n",
      "==============================================================================\n",
      "\n",
      "Notes:\n",
      "[1] Standard Errors assume that the covariance matrix of the errors is correctly specified.\n",
      "[2] The condition number is large, 5.66e+03. This might indicate that there are\n",
      "strong multicollinearity or other numerical problems.\n"
     ]
    }
   ],
   "source": [
    "X = data.drop(['Price/hour in USD'], axis=1)\n",
    "y = data['Price/hour in USD']\n",
    "\n",
    "X_train, X_test, y_train, y_test = train_test_split(X, y, test_size=0.25, random_state=0)\n",
    "\n",
    "model = sm.OLS(y_train.astype(float), X_train.astype(float))\n",
    "result = model.fit()\n",
    "print(result.summary())"
   ]
  },
  {
   "cell_type": "code",
   "execution_count": null,
   "id": "european-trigger",
   "metadata": {},
   "outputs": [],
   "source": []
  },
  {
   "cell_type": "code",
   "execution_count": null,
   "id": "postal-guess",
   "metadata": {},
   "outputs": [],
   "source": []
  },
  {
   "cell_type": "code",
   "execution_count": null,
   "id": "artificial-gazette",
   "metadata": {},
   "outputs": [],
   "source": []
  }
 ],
 "metadata": {
  "kernelspec": {
   "display_name": "Python 3",
   "language": "python",
   "name": "python3"
  },
  "language_info": {
   "codemirror_mode": {
    "name": "ipython",
    "version": 3
   },
   "file_extension": ".py",
   "mimetype": "text/x-python",
   "name": "python",
   "nbconvert_exporter": "python",
   "pygments_lexer": "ipython3",
   "version": "3.7.3"
  },
  "toc": {
   "base_numbering": 1,
   "nav_menu": {},
   "number_sections": true,
   "sideBar": true,
   "skip_h1_title": false,
   "title_cell": "Table of Contents",
   "title_sidebar": "Contents",
   "toc_cell": false,
   "toc_position": {},
   "toc_section_display": true,
   "toc_window_display": false
  },
  "varInspector": {
   "cols": {
    "lenName": 16,
    "lenType": 16,
    "lenVar": 40
   },
   "kernels_config": {
    "python": {
     "delete_cmd_postfix": "",
     "delete_cmd_prefix": "del ",
     "library": "var_list.py",
     "varRefreshCmd": "print(var_dic_list())"
    },
    "r": {
     "delete_cmd_postfix": ") ",
     "delete_cmd_prefix": "rm(",
     "library": "var_list.r",
     "varRefreshCmd": "cat(var_dic_list()) "
    }
   },
   "types_to_exclude": [
    "module",
    "function",
    "builtin_function_or_method",
    "instance",
    "_Feature"
   ],
   "window_display": false
  }
 },
 "nbformat": 4,
 "nbformat_minor": 5
}
