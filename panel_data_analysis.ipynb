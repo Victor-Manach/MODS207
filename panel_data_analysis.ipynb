{
 "cells": [
  {
   "cell_type": "code",
   "execution_count": 23,
   "metadata": {},
   "outputs": [],
   "source": [
    "%config InlineBackend.figure_formats = ['retina']"
   ]
  },
  {
   "cell_type": "code",
   "execution_count": 39,
   "metadata": {},
   "outputs": [],
   "source": [
    "import numpy as np\n",
    "import pandas as pd\n",
    "import seaborn as sn\n",
    "import matplotlib.pyplot as plt\n",
    "\n",
    "sn.set()"
   ]
  },
  {
   "cell_type": "code",
   "execution_count": 2,
   "metadata": {},
   "outputs": [],
   "source": [
    "panel_data = pd.read_csv('./data/panel_data_04_05.csv')"
   ]
  },
  {
   "cell_type": "code",
   "execution_count": 32,
   "metadata": {
    "scrolled": false
   },
   "outputs": [],
   "source": [
    "# I have chosen 6 at random, in order to have not too many profiles\n",
    "top_rated = panel_data[(panel_data.score>6)&(panel_data['Price/hour in USD']<200)]"
   ]
  },
  {
   "cell_type": "code",
   "execution_count": 33,
   "metadata": {},
   "outputs": [
    {
     "data": {
      "text/plain": [
       "(6.885419006479482, 10.636, 6.002000000000002)"
      ]
     },
     "execution_count": 33,
     "metadata": {},
     "output_type": "execute_result"
    }
   ],
   "source": [
    "np.mean(top_rated.score), np.max(top_rated.score), np.min(top_rated.score)"
   ]
  },
  {
   "cell_type": "code",
   "execution_count": 34,
   "metadata": {},
   "outputs": [],
   "source": [
    "old_profiles, new_profiles = top_rated[top_rated.scraping_date=='26-04-2021'], top_rated[top_rated.scraping_date=='17-05-2021']"
   ]
  },
  {
   "cell_type": "code",
   "execution_count": 35,
   "metadata": {},
   "outputs": [
    {
     "data": {
      "text/plain": [
       "(36.563531114327176, 36.94108882521478)"
      ]
     },
     "execution_count": 35,
     "metadata": {},
     "output_type": "execute_result"
    }
   ],
   "source": [
    "np.mean(old_profiles['Price/hour in USD']), np.mean(new_profiles['Price/hour in USD'])"
   ]
  },
  {
   "cell_type": "code",
   "execution_count": 36,
   "metadata": {},
   "outputs": [
    {
     "data": {
      "text/html": [
       "<div>\n",
       "<style scoped>\n",
       "    .dataframe tbody tr th:only-of-type {\n",
       "        vertical-align: middle;\n",
       "    }\n",
       "\n",
       "    .dataframe tbody tr th {\n",
       "        vertical-align: top;\n",
       "    }\n",
       "\n",
       "    .dataframe thead th {\n",
       "        text-align: right;\n",
       "    }\n",
       "</style>\n",
       "<table border=\"1\" class=\"dataframe\">\n",
       "  <thead>\n",
       "    <tr style=\"text-align: right;\">\n",
       "      <th></th>\n",
       "      <th>name</th>\n",
       "      <th>languages</th>\n",
       "      <th>description</th>\n",
       "      <th>rating</th>\n",
       "      <th>nb_reviews</th>\n",
       "      <th>Price/hour in USD</th>\n",
       "      <th>skills</th>\n",
       "      <th>industry_expertise</th>\n",
       "      <th>nb_projects</th>\n",
       "      <th>nb_buyers</th>\n",
       "      <th>last_active</th>\n",
       "      <th>gender</th>\n",
       "      <th>city</th>\n",
       "      <th>country</th>\n",
       "      <th>score</th>\n",
       "      <th>scraping_date</th>\n",
       "    </tr>\n",
       "  </thead>\n",
       "  <tbody>\n",
       "    <tr>\n",
       "      <th>0</th>\n",
       "      <td>Maria H.</td>\n",
       "      <td>['English']</td>\n",
       "      <td>We are a small UK based company speciaIising i...</td>\n",
       "      <td>4.9</td>\n",
       "      <td>4694</td>\n",
       "      <td>34.74</td>\n",
       "      <td>['animation', 'graphics design', 'brand design...</td>\n",
       "      <td>['IT', 'Internet', 'Marketing', 'Media', 'Tech...</td>\n",
       "      <td>7672</td>\n",
       "      <td>4168</td>\n",
       "      <td>26-04-2021</td>\n",
       "      <td>female</td>\n",
       "      <td>Sheffield</td>\n",
       "      <td>United Kingdom</td>\n",
       "      <td>10.043</td>\n",
       "      <td>26-04-2021</td>\n",
       "    </tr>\n",
       "    <tr>\n",
       "      <th>1</th>\n",
       "      <td>Maria H.</td>\n",
       "      <td>['English']</td>\n",
       "      <td>We are a small UK based company speciaIising i...</td>\n",
       "      <td>4.9</td>\n",
       "      <td>4745</td>\n",
       "      <td>35.21</td>\n",
       "      <td>['animation', 'graphics design', 'brand design...</td>\n",
       "      <td>['IT', 'Internet', 'Marketing', 'Media', 'Tech...</td>\n",
       "      <td>7727</td>\n",
       "      <td>4204</td>\n",
       "      <td>17-05-2021</td>\n",
       "      <td>female</td>\n",
       "      <td>Sheffield</td>\n",
       "      <td>United Kingdom</td>\n",
       "      <td>10.054</td>\n",
       "      <td>17-05-2021</td>\n",
       "    </tr>\n",
       "    <tr>\n",
       "      <th>2</th>\n",
       "      <td>Jessica O'Neill</td>\n",
       "      <td>['English']</td>\n",
       "      <td>Your blog content and website copy need to be ...</td>\n",
       "      <td>5.0</td>\n",
       "      <td>1215</td>\n",
       "      <td>76.42</td>\n",
       "      <td>['editing', 'proofreading', 'transcription', '...</td>\n",
       "      <td>['PR', 'Sales', 'Travel']</td>\n",
       "      <td>1541</td>\n",
       "      <td>878</td>\n",
       "      <td>26-04-2021</td>\n",
       "      <td>female</td>\n",
       "      <td>City of London</td>\n",
       "      <td>United Kingdom</td>\n",
       "      <td>8.712</td>\n",
       "      <td>26-04-2021</td>\n",
       "    </tr>\n",
       "    <tr>\n",
       "      <th>3</th>\n",
       "      <td>Jessica O'Neill</td>\n",
       "      <td>['English']</td>\n",
       "      <td>Your blog content and website copy need to be ...</td>\n",
       "      <td>5.0</td>\n",
       "      <td>1220</td>\n",
       "      <td>77.47</td>\n",
       "      <td>['editing', 'proofreading', 'transcription', '...</td>\n",
       "      <td>['PR', 'Sales', 'Travel']</td>\n",
       "      <td>1546</td>\n",
       "      <td>880</td>\n",
       "      <td>17-05-2021</td>\n",
       "      <td>female</td>\n",
       "      <td>City of London</td>\n",
       "      <td>United Kingdom</td>\n",
       "      <td>8.716</td>\n",
       "      <td>17-05-2021</td>\n",
       "    </tr>\n",
       "    <tr>\n",
       "      <th>4</th>\n",
       "      <td>Scott Anfield</td>\n",
       "      <td>['English']</td>\n",
       "      <td>An experienced and professional writer based i...</td>\n",
       "      <td>4.9</td>\n",
       "      <td>1719</td>\n",
       "      <td>20.84</td>\n",
       "      <td>['article', 'product description', 'content wr...</td>\n",
       "      <td>['Advertising', 'Education', 'Marketing', 'Sal...</td>\n",
       "      <td>1750</td>\n",
       "      <td>1071</td>\n",
       "      <td>25-04-2021</td>\n",
       "      <td>male</td>\n",
       "      <td>Doncaster</td>\n",
       "      <td>United Kingdom</td>\n",
       "      <td>9.039</td>\n",
       "      <td>26-04-2021</td>\n",
       "    </tr>\n",
       "    <tr>\n",
       "      <th>...</th>\n",
       "      <td>...</td>\n",
       "      <td>...</td>\n",
       "      <td>...</td>\n",
       "      <td>...</td>\n",
       "      <td>...</td>\n",
       "      <td>...</td>\n",
       "      <td>...</td>\n",
       "      <td>...</td>\n",
       "      <td>...</td>\n",
       "      <td>...</td>\n",
       "      <td>...</td>\n",
       "      <td>...</td>\n",
       "      <td>...</td>\n",
       "      <td>...</td>\n",
       "      <td>...</td>\n",
       "      <td>...</td>\n",
       "    </tr>\n",
       "    <tr>\n",
       "      <th>18796</th>\n",
       "      <td>Morteza Rezvani</td>\n",
       "      <td>['English', 'Persian']</td>\n",
       "      <td>NaN</td>\n",
       "      <td>0.0</td>\n",
       "      <td>0</td>\n",
       "      <td>10.00</td>\n",
       "      <td>['video editing', 'content writing', 'online a...</td>\n",
       "      <td>['Advertising', 'Marketing']</td>\n",
       "      <td>0</td>\n",
       "      <td>0</td>\n",
       "      <td>25-04-2021</td>\n",
       "      <td>unknown</td>\n",
       "      <td>Manila</td>\n",
       "      <td>Philippines</td>\n",
       "      <td>0.000</td>\n",
       "      <td>26-04-2021</td>\n",
       "    </tr>\n",
       "    <tr>\n",
       "      <th>18797</th>\n",
       "      <td>Morteza Rezvani</td>\n",
       "      <td>['English', 'Persian']</td>\n",
       "      <td>NaN</td>\n",
       "      <td>0.0</td>\n",
       "      <td>0</td>\n",
       "      <td>10.00</td>\n",
       "      <td>['video editing', 'content writing', 'online a...</td>\n",
       "      <td>['Advertising', 'Marketing']</td>\n",
       "      <td>0</td>\n",
       "      <td>0</td>\n",
       "      <td>25-04-2021</td>\n",
       "      <td>unknown</td>\n",
       "      <td>Scarborough</td>\n",
       "      <td>United Kingdom</td>\n",
       "      <td>0.000</td>\n",
       "      <td>17-05-2021</td>\n",
       "    </tr>\n",
       "    <tr>\n",
       "      <th>18798</th>\n",
       "      <td>Paul Waters</td>\n",
       "      <td>[]</td>\n",
       "      <td>Sony award winning creative writer, radio, TV ...</td>\n",
       "      <td>5.0</td>\n",
       "      <td>6</td>\n",
       "      <td>41.68</td>\n",
       "      <td>['editing', 'proofreading', 'copywriting', 'jo...</td>\n",
       "      <td>[]</td>\n",
       "      <td>5</td>\n",
       "      <td>5</td>\n",
       "      <td>28-09-2020</td>\n",
       "      <td>male</td>\n",
       "      <td>London</td>\n",
       "      <td>United Kingdom</td>\n",
       "      <td>3.434</td>\n",
       "      <td>26-04-2021</td>\n",
       "    </tr>\n",
       "    <tr>\n",
       "      <th>18799</th>\n",
       "      <td>Paul Waters</td>\n",
       "      <td>[]</td>\n",
       "      <td>Sony award winning creative writer, radio, TV ...</td>\n",
       "      <td>5.0</td>\n",
       "      <td>6</td>\n",
       "      <td>42.25</td>\n",
       "      <td>['editing', 'proofreading', 'copywriting', 'jo...</td>\n",
       "      <td>[]</td>\n",
       "      <td>5</td>\n",
       "      <td>5</td>\n",
       "      <td>28-09-2020</td>\n",
       "      <td>male</td>\n",
       "      <td>London</td>\n",
       "      <td>United Kingdom</td>\n",
       "      <td>3.434</td>\n",
       "      <td>17-05-2021</td>\n",
       "    </tr>\n",
       "    <tr>\n",
       "      <th>18800</th>\n",
       "      <td>Paul Waters</td>\n",
       "      <td>['English']</td>\n",
       "      <td>I'm an experienced health, fitness, and wellbe...</td>\n",
       "      <td>0.0</td>\n",
       "      <td>0</td>\n",
       "      <td>45.07</td>\n",
       "      <td>['content writing', 'technical writing', 'blog...</td>\n",
       "      <td>['Education', 'Healthcare', 'Leisure', 'Sport'...</td>\n",
       "      <td>0</td>\n",
       "      <td>0</td>\n",
       "      <td>18-02-2021</td>\n",
       "      <td>male</td>\n",
       "      <td>Radstock</td>\n",
       "      <td>United Kingdom</td>\n",
       "      <td>0.000</td>\n",
       "      <td>17-05-2021</td>\n",
       "    </tr>\n",
       "  </tbody>\n",
       "</table>\n",
       "<p>18801 rows × 16 columns</p>\n",
       "</div>"
      ],
      "text/plain": [
       "                  name               languages  \\\n",
       "0             Maria H.             ['English']   \n",
       "1             Maria H.             ['English']   \n",
       "2      Jessica O'Neill             ['English']   \n",
       "3      Jessica O'Neill             ['English']   \n",
       "4        Scott Anfield             ['English']   \n",
       "...                ...                     ...   \n",
       "18796  Morteza Rezvani  ['English', 'Persian']   \n",
       "18797  Morteza Rezvani  ['English', 'Persian']   \n",
       "18798      Paul Waters                      []   \n",
       "18799      Paul Waters                      []   \n",
       "18800      Paul Waters             ['English']   \n",
       "\n",
       "                                             description  rating  nb_reviews  \\\n",
       "0      We are a small UK based company speciaIising i...     4.9        4694   \n",
       "1      We are a small UK based company speciaIising i...     4.9        4745   \n",
       "2      Your blog content and website copy need to be ...     5.0        1215   \n",
       "3      Your blog content and website copy need to be ...     5.0        1220   \n",
       "4      An experienced and professional writer based i...     4.9        1719   \n",
       "...                                                  ...     ...         ...   \n",
       "18796                                                NaN     0.0           0   \n",
       "18797                                                NaN     0.0           0   \n",
       "18798  Sony award winning creative writer, radio, TV ...     5.0           6   \n",
       "18799  Sony award winning creative writer, radio, TV ...     5.0           6   \n",
       "18800  I'm an experienced health, fitness, and wellbe...     0.0           0   \n",
       "\n",
       "       Price/hour in USD                                             skills  \\\n",
       "0                  34.74  ['animation', 'graphics design', 'brand design...   \n",
       "1                  35.21  ['animation', 'graphics design', 'brand design...   \n",
       "2                  76.42  ['editing', 'proofreading', 'transcription', '...   \n",
       "3                  77.47  ['editing', 'proofreading', 'transcription', '...   \n",
       "4                  20.84  ['article', 'product description', 'content wr...   \n",
       "...                  ...                                                ...   \n",
       "18796              10.00  ['video editing', 'content writing', 'online a...   \n",
       "18797              10.00  ['video editing', 'content writing', 'online a...   \n",
       "18798              41.68  ['editing', 'proofreading', 'copywriting', 'jo...   \n",
       "18799              42.25  ['editing', 'proofreading', 'copywriting', 'jo...   \n",
       "18800              45.07  ['content writing', 'technical writing', 'blog...   \n",
       "\n",
       "                                      industry_expertise  nb_projects  \\\n",
       "0      ['IT', 'Internet', 'Marketing', 'Media', 'Tech...         7672   \n",
       "1      ['IT', 'Internet', 'Marketing', 'Media', 'Tech...         7727   \n",
       "2                              ['PR', 'Sales', 'Travel']         1541   \n",
       "3                              ['PR', 'Sales', 'Travel']         1546   \n",
       "4      ['Advertising', 'Education', 'Marketing', 'Sal...         1750   \n",
       "...                                                  ...          ...   \n",
       "18796                       ['Advertising', 'Marketing']            0   \n",
       "18797                       ['Advertising', 'Marketing']            0   \n",
       "18798                                                 []            5   \n",
       "18799                                                 []            5   \n",
       "18800  ['Education', 'Healthcare', 'Leisure', 'Sport'...            0   \n",
       "\n",
       "       nb_buyers last_active   gender            city          country  \\\n",
       "0           4168  26-04-2021   female       Sheffield   United Kingdom   \n",
       "1           4204  17-05-2021   female       Sheffield   United Kingdom   \n",
       "2            878  26-04-2021   female  City of London   United Kingdom   \n",
       "3            880  17-05-2021   female  City of London   United Kingdom   \n",
       "4           1071  25-04-2021     male       Doncaster   United Kingdom   \n",
       "...          ...         ...      ...             ...              ...   \n",
       "18796          0  25-04-2021  unknown          Manila      Philippines   \n",
       "18797          0  25-04-2021  unknown     Scarborough   United Kingdom   \n",
       "18798          5  28-09-2020     male          London   United Kingdom   \n",
       "18799          5  28-09-2020     male          London   United Kingdom   \n",
       "18800          0  18-02-2021     male        Radstock   United Kingdom   \n",
       "\n",
       "        score scraping_date  \n",
       "0      10.043    26-04-2021  \n",
       "1      10.054    17-05-2021  \n",
       "2       8.712    26-04-2021  \n",
       "3       8.716    17-05-2021  \n",
       "4       9.039    26-04-2021  \n",
       "...       ...           ...  \n",
       "18796   0.000    26-04-2021  \n",
       "18797   0.000    17-05-2021  \n",
       "18798   3.434    26-04-2021  \n",
       "18799   3.434    17-05-2021  \n",
       "18800   0.000    17-05-2021  \n",
       "\n",
       "[18801 rows x 16 columns]"
      ]
     },
     "execution_count": 36,
     "metadata": {},
     "output_type": "execute_result"
    }
   ],
   "source": [
    "panel_data"
   ]
  },
  {
   "cell_type": "code",
   "execution_count": 40,
   "metadata": {},
   "outputs": [
    {
     "data": {
      "text/plain": [
       "<AxesSubplot:xlabel='Price/hour in USD', ylabel='Count'>"
      ]
     },
     "execution_count": 40,
     "metadata": {},
     "output_type": "execute_result"
    },
    {
     "data": {
      "image/png": "[encoded data removed]",
      "text/plain": [
       "<Figure size 1440x720 with 1 Axes>"
      ]
     },
     "metadata": {
      "image/png": {
       "height": 593,
       "width": 1173
      }
     },
     "output_type": "display_data"
    }
   ],
   "source": [
    "plt.figure(figsize=(20,10))\n",
    "sn.histplot(x='Price/hour in USD', data=old_profiles)"
   ]
  },
  {
   "cell_type": "code",
   "execution_count": 41,
   "metadata": {},
   "outputs": [
    {
     "data": {
      "text/plain": [
       "<AxesSubplot:xlabel='Price/hour in USD', ylabel='Count'>"
      ]
     },
     "execution_count": 41,
     "metadata": {},
     "output_type": "execute_result"
    },
    {
     "data": {
      "image/png": "[encoded data removed]",
      "text/plain": [
       "<Figure size 1440x720 with 1 Axes>"
      ]
     },
     "metadata": {
      "image/png": {
       "height": 593,
       "width": 1173
      }
     },
     "output_type": "display_data"
    }
   ],
   "source": [
    "plt.figure(figsize=(20,10))\n",
    "sn.histplot(x='Price/hour in USD', data=new_profiles)"
   ]
  },
  {
   "cell_type": "code",
   "execution_count": 97,
   "metadata": {},
   "outputs": [],
   "source": [
    "def feature_evolution(feature: str, df: pd.DataFrame=panel_data) -> np.ndarray:\n",
    "    u_names = np.unique(df.name)\n",
    "    evol = np.zeros(len(u_names))\n",
    "    for i,name in enumerate(u_names):\n",
    "        tmp = df[df.name==name]\n",
    "        if len(tmp)==2:\n",
    "            feature_val = tmp[feature].values\n",
    "            if feature_val[0]!=0:\n",
    "                feature_evol = feature_val[1]/feature_val[0]-1\n",
    "                evol[i] = feature_evol\n",
    "    return evol"
   ]
  },
  {
   "cell_type": "code",
   "execution_count": 103,
   "metadata": {},
   "outputs": [],
   "source": [
    "def display_info(feature_evol: np.ndarray):\n",
    "    print('Average evolution: {}%'.format(round(np.mean(feature_evol)*100,2)))\n",
    "    print('Maximum evolution: {}%'.format(round(np.max(feature_evol)*100,2)))\n",
    "    print('Minimum evolution: {}%'.format(round(np.min(feature_evol)*100,2)))"
   ]
  },
  {
   "cell_type": "code",
   "execution_count": 115,
   "metadata": {},
   "outputs": [],
   "source": [
    "prices_evol = feature_evolution('Price/hour in USD')\n",
    "score_evol = feature_evolution('score')\n",
    "projects_evol = feature_evolution('nb_projects')\n",
    "rating_evol = feature_evolution('rating')\n",
    "review_evol = feature_evolution('nb_reviews')"
   ]
  },
  {
   "cell_type": "code",
   "execution_count": 116,
   "metadata": {},
   "outputs": [
    {
     "name": "stdout",
     "output_type": "stream",
     "text": [
      "Average evolution: 1.11%\n",
      "Maximum evolution: 261.87%\n",
      "Minimum evolution: -66.67%\n"
     ]
    }
   ],
   "source": [
    "display_info(prices_evol)"
   ]
  },
  {
   "cell_type": "code",
   "execution_count": 117,
   "metadata": {},
   "outputs": [
    {
     "name": "stdout",
     "output_type": "stream",
     "text": [
      "Average evolution: 0.31%\n",
      "Maximum evolution: 68.74%\n",
      "Minimum evolution: -0.68%\n"
     ]
    }
   ],
   "source": [
    "display_info(score_evol)"
   ]
  },
  {
   "cell_type": "code",
   "execution_count": 118,
   "metadata": {},
   "outputs": [
    {
     "name": "stdout",
     "output_type": "stream",
     "text": [
      "Average evolution: 1.07%\n",
      "Maximum evolution: 300.0%\n",
      "Minimum evolution: 0.0%\n"
     ]
    }
   ],
   "source": [
    "display_info(projects_evol)"
   ]
  },
  {
   "cell_type": "code",
   "execution_count": 119,
   "metadata": {},
   "outputs": [
    {
     "name": "stdout",
     "output_type": "stream",
     "text": [
      "Average evolution: 0.0%\n",
      "Maximum evolution: 17.5%\n",
      "Minimum evolution: -20.0%\n"
     ]
    }
   ],
   "source": [
    "display_info(rating_evol)"
   ]
  },
  {
   "cell_type": "code",
   "execution_count": 120,
   "metadata": {},
   "outputs": [
    {
     "name": "stdout",
     "output_type": "stream",
     "text": [
      "Average evolution: 1.21%\n",
      "Maximum evolution: 200.0%\n",
      "Minimum evolution: -2.13%\n"
     ]
    }
   ],
   "source": [
    "display_info(review_evol)"
   ]
  },
  {
   "cell_type": "code",
   "execution_count": null,
   "metadata": {},
   "outputs": [],
   "source": []
  }
 ],
 "metadata": {
  "kernelspec": {
   "display_name": "Python 3",
   "language": "python",
   "name": "python3"
  },
  "language_info": {
   "codemirror_mode": {
    "name": "ipython",
    "version": 3
   },
   "file_extension": ".py",
   "mimetype": "text/x-python",
   "name": "python",
   "nbconvert_exporter": "python",
   "pygments_lexer": "ipython3",
   "version": "3.7.2"
  },
  "toc": {
   "base_numbering": 1,
   "nav_menu": {},
   "number_sections": true,
   "sideBar": true,
   "skip_h1_title": false,
   "title_cell": "Table of Contents",
   "title_sidebar": "Contents",
   "toc_cell": false,
   "toc_position": {},
   "toc_section_display": true,
   "toc_window_display": false
  },
  "varInspector": {
   "cols": {
    "lenName": 16,
    "lenType": 16,
    "lenVar": 40
   },
   "kernels_config": {
    "python": {
     "delete_cmd_postfix": "",
     "delete_cmd_prefix": "del ",
     "library": "var_list.py",
     "varRefreshCmd": "print(var_dic_list())"
    },
    "r": {
     "delete_cmd_postfix": ") ",
     "delete_cmd_prefix": "rm(",
     "library": "var_list.r",
     "varRefreshCmd": "cat(var_dic_list()) "
    }
   },
   "types_to_exclude": [
    "module",
    "function",
    "builtin_function_or_method",
    "instance",
    "_Feature"
   ],
   "window_display": false
  }
 },
 "nbformat": 4,
 "nbformat_minor": 2
}
