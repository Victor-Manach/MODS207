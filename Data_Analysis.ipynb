{
 "cells": [
  {
   "cell_type": "code",
<<<<<<< HEAD
   "execution_count": 66,
   "id": "mobile-mirror",
=======
   "execution_count": 2,
>>>>>>> b0df35bd53a8e09c4ffd6f6c244d53ca21ffe5b7
   "metadata": {},
   "outputs": [],
   "source": [
    "import numpy as np\n",
    "import json\n",
    "import pandas as pd\n",
    "import matplotlib.pyplot as plt\n",
    "import seaborn as sns\n",
    "from collections import Counter"
   ]
  },
  {
   "cell_type": "code",
<<<<<<< HEAD
   "execution_count": 67,
   "id": "still-swing",
=======
   "execution_count": 72,
>>>>>>> b0df35bd53a8e09c4ffd6f6c244d53ca21ffe5b7
   "metadata": {},
   "outputs": [],
   "source": [
    "data = pd.read_csv('./data/panel_data_04_05.csv')"
   ]
  },
  {
   "cell_type": "code",
<<<<<<< HEAD
   "execution_count": 68,
   "id": "protective-syndication",
=======
   "execution_count": 74,
>>>>>>> b0df35bd53a8e09c4ffd6f6c244d53ca21ffe5b7
   "metadata": {},
   "outputs": [],
   "source": [
    "data = data[data['scraping_date'] == '26-04-2021']"
   ]
  },
  {
   "cell_type": "code",
<<<<<<< HEAD
   "execution_count": 74,
   "id": "sublime-margin",
=======
   "execution_count": 75,
>>>>>>> b0df35bd53a8e09c4ffd6f6c244d53ca21ffe5b7
   "metadata": {},
   "outputs": [
    {
     "data": {
      "text/html": [
       "<div>\n",
       "<style scoped>\n",
       "    .dataframe tbody tr th:only-of-type {\n",
       "        vertical-align: middle;\n",
       "    }\n",
       "\n",
       "    .dataframe tbody tr th {\n",
       "        vertical-align: top;\n",
       "    }\n",
       "\n",
       "    .dataframe thead th {\n",
       "        text-align: right;\n",
       "    }\n",
       "</style>\n",
       "<table border=\"1\" class=\"dataframe\">\n",
       "  <thead>\n",
       "    <tr style=\"text-align: right;\">\n",
       "      <th></th>\n",
       "      <th>name</th>\n",
       "      <th>languages</th>\n",
       "      <th>description</th>\n",
       "      <th>rating</th>\n",
       "      <th>nb_reviews</th>\n",
       "      <th>Price/hour in USD</th>\n",
       "      <th>skills</th>\n",
       "      <th>industry_expertise</th>\n",
       "      <th>nb_projects</th>\n",
       "      <th>nb_buyers</th>\n",
       "      <th>last_active</th>\n",
       "      <th>gender</th>\n",
       "      <th>city</th>\n",
       "      <th>country</th>\n",
       "      <th>score</th>\n",
       "      <th>scraping_date</th>\n",
       "    </tr>\n",
       "  </thead>\n",
       "  <tbody>\n",
       "    <tr>\n",
       "      <th>0</th>\n",
       "      <td>Maria H.</td>\n",
       "      <td>['English']</td>\n",
       "      <td>We are a small UK based company speciaIising i...</td>\n",
       "      <td>4.9</td>\n",
       "      <td>4694</td>\n",
       "      <td>34.74</td>\n",
       "      <td>['animation', 'graphics design', 'brand design...</td>\n",
       "      <td>['IT', 'Internet', 'Marketing', 'Media', 'Tech...</td>\n",
       "      <td>7672</td>\n",
       "      <td>4168</td>\n",
       "      <td>26-04-2021</td>\n",
       "      <td>female</td>\n",
       "      <td>Sheffield</td>\n",
       "      <td>United Kingdom</td>\n",
       "      <td>10.043</td>\n",
       "      <td>26-04-2021</td>\n",
       "    </tr>\n",
       "    <tr>\n",
       "      <th>2</th>\n",
       "      <td>Jessica O'Neill</td>\n",
       "      <td>['English']</td>\n",
       "      <td>Your blog content and website copy need to be ...</td>\n",
       "      <td>5.0</td>\n",
       "      <td>1215</td>\n",
       "      <td>76.42</td>\n",
       "      <td>['editing', 'proofreading', 'transcription', '...</td>\n",
       "      <td>['PR', 'Sales', 'Travel']</td>\n",
       "      <td>1541</td>\n",
       "      <td>878</td>\n",
       "      <td>26-04-2021</td>\n",
       "      <td>female</td>\n",
       "      <td>City of London</td>\n",
       "      <td>United Kingdom</td>\n",
       "      <td>8.712</td>\n",
       "      <td>26-04-2021</td>\n",
       "    </tr>\n",
       "    <tr>\n",
       "      <th>4</th>\n",
       "      <td>Scott Anfield</td>\n",
       "      <td>['English']</td>\n",
       "      <td>An experienced and professional writer based i...</td>\n",
       "      <td>4.9</td>\n",
       "      <td>1719</td>\n",
       "      <td>20.84</td>\n",
       "      <td>['article', 'product description', 'content wr...</td>\n",
       "      <td>['Advertising', 'Education', 'Marketing', 'Sal...</td>\n",
       "      <td>1750</td>\n",
       "      <td>1071</td>\n",
       "      <td>25-04-2021</td>\n",
       "      <td>male</td>\n",
       "      <td>Doncaster</td>\n",
       "      <td>United Kingdom</td>\n",
       "      <td>9.039</td>\n",
       "      <td>26-04-2021</td>\n",
       "    </tr>\n",
       "  </tbody>\n",
       "</table>\n",
       "</div>"
      ],
      "text/plain": [
       "              name    languages  \\\n",
       "0         Maria H.  ['English']   \n",
       "2  Jessica O'Neill  ['English']   \n",
       "4    Scott Anfield  ['English']   \n",
       "\n",
       "                                         description  rating  nb_reviews  \\\n",
       "0  We are a small UK based company speciaIising i...     4.9        4694   \n",
       "2  Your blog content and website copy need to be ...     5.0        1215   \n",
       "4  An experienced and professional writer based i...     4.9        1719   \n",
       "\n",
       "   Price/hour in USD                                             skills  \\\n",
       "0              34.74  ['animation', 'graphics design', 'brand design...   \n",
       "2              76.42  ['editing', 'proofreading', 'transcription', '...   \n",
       "4              20.84  ['article', 'product description', 'content wr...   \n",
       "\n",
       "                                  industry_expertise  nb_projects  nb_buyers  \\\n",
       "0  ['IT', 'Internet', 'Marketing', 'Media', 'Tech...         7672       4168   \n",
       "2                          ['PR', 'Sales', 'Travel']         1541        878   \n",
       "4  ['Advertising', 'Education', 'Marketing', 'Sal...         1750       1071   \n",
       "\n",
       "  last_active  gender            city          country   score scraping_date  \n",
       "0  26-04-2021  female       Sheffield   United Kingdom  10.043    26-04-2021  \n",
       "2  26-04-2021  female  City of London   United Kingdom   8.712    26-04-2021  \n",
       "4  25-04-2021    male       Doncaster   United Kingdom   9.039    26-04-2021  "
      ]
     },
     "execution_count": 74,
     "metadata": {},
     "output_type": "execute_result"
    }
   ],
   "source": [
    "data.head(3)"
   ]
  },
  {
   "cell_type": "code",
<<<<<<< HEAD
   "execution_count": 70,
   "id": "adequate-coast",
=======
   "execution_count": 5,
>>>>>>> b0df35bd53a8e09c4ffd6f6c244d53ca21ffe5b7
   "metadata": {},
   "outputs": [
    {
     "name": "stdout",
     "output_type": "stream",
     "text": [
      "number of countries : 155\n"
     ]
    },
    {
     "data": {
      "image/png": "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\n",
      "text/plain": [
       "<Figure size 1080x576 with 1 Axes>"
      ]
     },
     "metadata": {
      "needs_background": "light"
     },
     "output_type": "display_data"
    }
   ],
   "source": [
    "location = data['country']\n",
    "\n",
    "country = [ l.split(',')[-1].replace(\" \", \"\") for l in location ]\n",
    "count = Counter(country).most_common(10)\n",
    "\n",
    "print('number of countries :', len(Counter(country)))\n",
    "\n",
    "figure = plt.figure(figsize=(15,8))\n",
    "keys = [count[i][0] for i in range(len(count))]\n",
    "values = [count[i][1] for i in range(len(count))]\n",
    "plt.bar(keys, values)\n",
    "plt.title(\"Country distribution : 10 most represented countries\", fontsize = 20)\n",
    "plt.show()"
   ]
  },
  {
   "cell_type": "code",
<<<<<<< HEAD
   "execution_count": 79,
   "id": "yellow-johnson",
   "metadata": {},
   "outputs": [
    {
     "data": {
      "text/html": [
       "<div>\n",
       "<style scoped>\n",
       "    .dataframe tbody tr th:only-of-type {\n",
       "        vertical-align: middle;\n",
       "    }\n",
       "\n",
       "    .dataframe tbody tr th {\n",
       "        vertical-align: top;\n",
       "    }\n",
       "\n",
       "    .dataframe thead th {\n",
       "        text-align: right;\n",
       "    }\n",
       "</style>\n",
       "<table border=\"1\" class=\"dataframe\">\n",
       "  <thead>\n",
       "    <tr style=\"text-align: right;\">\n",
       "      <th></th>\n",
       "      <th>name</th>\n",
       "      <th>languages</th>\n",
       "      <th>description</th>\n",
       "      <th>rating</th>\n",
       "      <th>nb_reviews</th>\n",
       "      <th>Price/hour in USD</th>\n",
       "      <th>skills</th>\n",
       "      <th>industry_expertise</th>\n",
       "      <th>nb_projects</th>\n",
       "      <th>nb_buyers</th>\n",
       "      <th>last_active</th>\n",
       "      <th>gender</th>\n",
       "      <th>city</th>\n",
       "      <th>country</th>\n",
       "      <th>score</th>\n",
       "      <th>scraping_date</th>\n",
       "    </tr>\n",
       "  </thead>\n",
       "  <tbody>\n",
       "  </tbody>\n",
       "</table>\n",
       "</div>"
      ],
      "text/plain": [
       "Empty DataFrame\n",
       "Columns: [name, languages, description, rating, nb_reviews, Price/hour in USD, skills, industry_expertise, nb_projects, nb_buyers, last_active, gender, city, country, score, scraping_date]\n",
       "Index: []"
      ]
     },
     "execution_count": 79,
     "metadata": {},
     "output_type": "execute_result"
    }
   ],
   "source": [
    "c = ['United Kingdom', 'India', 'Pakistan', 'Kenya', 'Egypt', 'France', 'Germany', 'Italy', 'South Africa', 'Spain']\n",
    "\n",
    "\n",
    "data[data['country'] == 'Pakistan']"
   ]
  },
  {
   "cell_type": "code",
   "execution_count": 21,
   "id": "driving-morrison",
=======
   "execution_count": 6,
>>>>>>> b0df35bd53a8e09c4ffd6f6c244d53ca21ffe5b7
   "metadata": {},
   "outputs": [
    {
     "data": {
      "image/png": "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\n",
      "text/plain": [
       "<Figure size 1080x576 with 1 Axes>"
      ]
     },
     "metadata": {
      "needs_background": "light"
     },
     "output_type": "display_data"
    }
   ],
   "source": [
    "speaking = data['languages']\n",
    "language = []\n",
    "\n",
    "for s in speaking :\n",
    "    zeub = str(s).replace(\"speaking\", \"\").replace(\"and\", \"\").replace(\"nan\", \"\").replace(\"'\",\"\")\n",
    "    zanzi = re.findall(r\"[\\w']+\", zeub)\n",
    "    for l in zanzi :\n",
    "        language.append(l)\n",
    "    \n",
    "count = Counter(language).most_common(10)\n",
    "\n",
    "figure = plt.figure(figsize=(15,8))\n",
    "keys = [count[i][0] for i in range(len(count))]\n",
    "values = [count[i][1] for i in range(len(count))]\n",
    "plt.bar(keys, values)\n",
    "plt.title(\"Language spoken : 10 most represented languages\", fontsize = 20)\n",
    "plt.show()"
   ]
  },
  {
   "cell_type": "code",
<<<<<<< HEAD
   "execution_count": 24,
   "id": "native-production",
=======
   "execution_count": 114,
>>>>>>> b0df35bd53a8e09c4ffd6f6c244d53ca21ffe5b7
   "metadata": {},
   "outputs": [
    {
     "data": {
      "image/png": "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\n",
      "text/plain": [
       "<Figure size 1080x360 with 2 Axes>"
      ]
     },
     "metadata": {
      "needs_background": "light"
     },
     "output_type": "display_data"
    },
    {
     "name": "stdout",
     "output_type": "stream",
     "text": [
      "Number of workers with null rating : 5051\n",
      "Number of workers with inactive profiles (no projects and null rating) : 4875\n",
      "mean of female ratings :  4.22\n",
      "mean of male ratings :  3.89\n",
      "mean of undefined ratings :  2.22\n"
     ]
    }
   ],
   "source": [
    "fig, axes = plt.subplots(nrows=1, ncols=2)\n",
    "\n",
    "plt_rating = data.groupby('rating')['rating'].count()\n",
    "plt_rating.plot(kind='bar', figsize=(15,5), ax=axes[0], title = \"rating distribution\")\n",
    "\n",
    "plt_rating_gender = data.groupby(['gender', 'rating'])['rating'].count().unstack('gender').fillna(0)\n",
    "plt_rating_gender.plot(kind='bar', stacked=True, figsize=(15,5), ax=axes[1], title = \"rating distribution\")\n",
    "\n",
    "plt.show()\n",
    "\n",
    "print('Number of workers with null rating :', len(data.loc[(data['rating'] == 0)]))\n",
    "print('Number of workers with inactive profiles (no projects and null rating) :',  len(data.loc[(data['rating'] == 0) & (data['nb_projects'] == 0)]))\n",
    "print('mean of female ratings : ', round(data[data['gender'] == 'female']['rating'].mean(),2))\n",
    "print('mean of male ratings : ', round(data[data['gender'] == 'male']['rating'].mean(),2))\n",
    "print('mean of undefined ratings : ', round(data[data['gender'] == 'unknown']['rating'].mean(),2))"
   ]
  },
  {
   "cell_type": "markdown",
   "metadata": {},
   "source": [
    "All the workers have good grades. Only a minority of them has a rating lower than 4.9 as the null rating are only inactive profiles"
   ]
  },
  {
   "cell_type": "code",
<<<<<<< HEAD
   "execution_count": 44,
   "id": "arctic-healthcare",
=======
   "execution_count": 157,
>>>>>>> b0df35bd53a8e09c4ffd6f6c244d53ca21ffe5b7
   "metadata": {},
   "outputs": [
    {
     "data": {
      "text/plain": [
       "<AxesSubplot:>"
      ]
     },
     "execution_count": 44,
     "metadata": {},
     "output_type": "execute_result"
    },
    {
     "data": {
      "image/png": "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\n",
      "text/plain": [
       "<Figure size 432x288 with 1 Axes>"
      ]
     },
     "metadata": {
      "needs_background": "light"
     },
     "output_type": "display_data"
    }
   ],
   "source": [
    "data[data['score'] != 0]['score'].hist(bins = 50)"
   ]
  },
  {
   "cell_type": "code",
   "execution_count": 81,
   "id": "assumed-surprise",
   "metadata": {},
   "outputs": [
    {
     "name": "stdout",
     "output_type": "stream",
     "text": [
      "Proportion of active profiles with more than 1000 reviews :  0.41000000000000003 %\n"
     ]
    },
    {
     "data": {
      "image/png": "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\n",
      "text/plain": [
       "<Figure size 1080x576 with 1 Axes>"
      ]
     },
     "metadata": {
      "needs_background": "light"
     },
     "output_type": "display_data"
    }
   ],
   "source": [
    "figure = plt.figure(figsize=(15,8))\n",
    "\n",
    "plt_reviews = data.loc[(0<data['nb_reviews'])].groupby('nb_reviews')['nb_reviews'].count()\n",
    "plt_reviews.plot(kind='hist', range = [0,75], bins = 30, title = \"number of reviews distribution\")\n",
    "\n",
    "print(\"Proportion of active profiles with more than 1000 reviews : \", 100 * \n",
    "      round(len(data.loc[(0<data['nb_reviews']) & (data['nb_reviews']>1000)]['nb_reviews'])/\n",
    "            len(data.loc[(0<data['nb_reviews'])]['nb_reviews']),4), \"%\")\n"
   ]
  },
  {
   "cell_type": "markdown",
   "metadata": {},
   "source": [
    "Of all the active profiles, we can see that the mast majority has only few feedbacks. There are several profiles with a lot of reviews"
   ]
  },
  {
   "cell_type": "code",
<<<<<<< HEAD
   "execution_count": 86,
   "id": "endless-window",
=======
   "execution_count": 159,
>>>>>>> b0df35bd53a8e09c4ffd6f6c244d53ca21ffe5b7
   "metadata": {},
   "outputs": [
    {
     "data": {
      "text/plain": [
       "<AxesSubplot:>"
      ]
     },
     "execution_count": 86,
     "metadata": {},
     "output_type": "execute_result"
    },
    {
     "data": {
      "image/png": "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\n",
      "text/plain": [
       "<Figure size 432x288 with 1 Axes>"
      ]
     },
     "metadata": {
      "needs_background": "light"
     },
     "output_type": "display_data"
    }
   ],
   "source": [
    "data['Price/hour in USD'].hist(bins = 100, range = [0,100])"
   ]
  },
  {
   "cell_type": "code",
   "execution_count": 87,
   "id": "pressed-greek",
   "metadata": {},
   "outputs": [
    {
     "name": "stdout",
     "output_type": "stream",
     "text": [
      "mean of female salary :  30.38 $\n",
      "mean of male salary :  29.6 $\n",
      "mean of undefined salary :  21.05 $\n"
     ]
    },
    {
     "data": {
      "image/png": "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\n",
      "text/plain": [
       "<Figure size 1080x360 with 1 Axes>"
      ]
     },
     "metadata": {
      "needs_background": "light"
     },
     "output_type": "display_data"
    }
   ],
   "source": [
    "plt_salary_gender = data.groupby(['gender', 'Price/hour in USD'])['Price/hour in USD'].count().unstack('gender').fillna(0)\n",
    "plt_salary_gender.plot(kind='hist', bins = 150, range = [0,100], stacked = True, figsize=(15,5), title = \"salary distribution in $/hr\")\n",
    "\n",
    "\n",
    "print('mean of female salary : ', round(data[data['gender'] == 'female']['Price/hour in USD'].mean(),2), '$')\n",
    "print('mean of male salary : ', round(data[data['gender'] == 'male']['Price/hour in USD'].mean(),2), '$')\n",
    "print('mean of undefined salary : ', round(data[data['gender'] == 'unknown']['Price/hour in USD'].mean(),2), '$')\n",
    "\n",
    "plt.show()"
   ]
  },
  {
   "cell_type": "code",
<<<<<<< HEAD
   "execution_count": 29,
   "id": "lonely-delta",
=======
   "execution_count": 35,
>>>>>>> b0df35bd53a8e09c4ffd6f6c244d53ca21ffe5b7
   "metadata": {},
   "outputs": [
    {
     "data": {
      "text/plain": [
       "(-11.04441979895007,\n",
       " 11.002115228521433,\n",
       " -11.063840291577913,\n",
       " 11.232490265106021)"
      ]
     },
     "execution_count": 29,
     "metadata": {},
     "output_type": "execute_result"
    },
    {
     "data": {
      "image/png": "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\n",
      "text/plain": [
       "<Figure size 1080x432 with 2 Axes>"
      ]
     },
     "metadata": {
      "needs_background": "light"
     },
     "output_type": "display_data"
    }
   ],
   "source": [
    "figure = plt.figure(figsize=(15,6))\n",
    "\n",
    "axes = figure.add_subplot(121)\n",
    "sns.countplot(x='gender', data=data)\n",
    "plt.title(\"Gender distribution\", color=\"black\", fontsize = 20)\n",
    "\n",
    "\n",
    "axes = figure.add_subplot(122)\n",
    "axes.pie(data[\"gender\"].value_counts(),radius = 10, autopct='%1.1f%%', textprops=dict(color=\"black\"))\n",
    "plt.title(\"Gender\", color=\"black\", fontsize = 20)\n",
    "axes.axis('equal')"
   ]
  },
  {
   "cell_type": "code",
<<<<<<< HEAD
   "execution_count": 30,
   "id": "considerable-reply",
=======
   "execution_count": 82,
>>>>>>> b0df35bd53a8e09c4ffd6f6c244d53ca21ffe5b7
   "metadata": {},
   "outputs": [
    {
     "name": "stdout",
     "output_type": "stream",
     "text": [
      "There are 2825 different skills listed by the workers \n",
      "\n",
      "The most common are : \n",
      " [('content writing', 7208), ('blog writing', 5636), ('copywriting', 4560), ('creative writing', 3889), ('proofreading', 3428), ('research writing', 2683), ('search engine optimization', 2532), ('roofreading', 2431), ('diting', 2413), ('web writing', 2187)]\n"
     ]
    }
   ],
   "source": [
    "skills_list = []\n",
    "for d in data['skills']:\n",
    "    norm = d.replace(\"[\", \"\").replace(\"]\", \"\").replace(\"'\", \"\").split(',')\n",
    "    for s in norm :\n",
    "        skills_list.append(s[1:])\n",
    "        \n",
    "print('There are', len(Counter(skills_list)), 'different skills listed by the workers \\n')\n",
    "print('The most common are : \\n', Counter(skills_list).most_common(10))"
   ]
  },
  {
   "cell_type": "code",
<<<<<<< HEAD
   "execution_count": 34,
   "id": "fresh-organization",
=======
   "execution_count": 83,
>>>>>>> b0df35bd53a8e09c4ffd6f6c244d53ca21ffe5b7
   "metadata": {},
   "outputs": [
    {
     "name": "stdout",
     "output_type": "stream",
     "text": [
      "There are 125 different expertises listed by the workers \n",
      "\n",
      "The most common are : \n",
      " [(']', 6090), (\"'Marketing'\", 3413), (\"'Education'\", 2979), (\"'Advertising'\", 2551), (\"'IT'\", 1738), (\"'Internet'\", 1691), (\"'Media'\", 1688), (\"'Travel']\", 1642), (\"'Entertainment'\", 1579), (\"'Technology']\", 1500)]\n"
     ]
    }
   ],
   "source": [
    "expert_list = []\n",
    "for d in data['industry_expertise']:\n",
    "    norm = d.replace(\"Industry expertise:\", \"\").split(',')\n",
    "    for e in norm :\n",
    "        expert_list.append(e[1:])\n",
    "    \n",
    "print('There are', len(Counter(expert_list)), 'different expertises listed by the workers \\n')\n",
    "print('The most common are : \\n', Counter(expert_list).most_common(10))"
   ]
  }
 ],
 "metadata": {
  "kernelspec": {
   "display_name": "Python 3",
   "language": "python",
   "name": "python3"
  },
  "language_info": {
   "codemirror_mode": {
    "name": "ipython",
    "version": 3
   },
   "file_extension": ".py",
   "mimetype": "text/x-python",
   "name": "python",
   "nbconvert_exporter": "python",
   "pygments_lexer": "ipython3",
   "version": "3.7.2"
  },
  "toc": {
   "base_numbering": 1,
   "nav_menu": {},
   "number_sections": true,
   "sideBar": true,
   "skip_h1_title": false,
   "title_cell": "Table of Contents",
   "title_sidebar": "Contents",
   "toc_cell": false,
   "toc_position": {},
   "toc_section_display": true,
   "toc_window_display": true
  },
  "varInspector": {
   "cols": {
    "lenName": 16,
    "lenType": 16,
    "lenVar": 40
   },
   "kernels_config": {
    "python": {
     "delete_cmd_postfix": "",
     "delete_cmd_prefix": "del ",
     "library": "var_list.py",
     "varRefreshCmd": "print(var_dic_list())"
    },
    "r": {
     "delete_cmd_postfix": ") ",
     "delete_cmd_prefix": "rm(",
     "library": "var_list.r",
     "varRefreshCmd": "cat(var_dic_list()) "
    }
   },
   "types_to_exclude": [
    "module",
    "function",
    "builtin_function_or_method",
    "instance",
    "_Feature"
   ],
   "window_display": false
  }
 },
 "nbformat": 4,
 "nbformat_minor": 5
}
