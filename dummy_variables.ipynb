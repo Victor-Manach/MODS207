{
 "cells": [
  {
   "cell_type": "code",
   "execution_count": 1,
   "metadata": {},
   "outputs": [],
   "source": [
    "import numpy as np\n",
    "import pandas as pd\n",
    "import ast\n",
    "import datetime"
   ]
  },
  {
   "cell_type": "code",
   "execution_count": 2,
   "metadata": {},
   "outputs": [],
   "source": [
    "scraping_date = '_26_04_2021'\n",
    "#df = pd.read_csv('data/full_profiles'+scraping_date+'.csv')"
   ]
  },
  {
   "cell_type": "code",
   "execution_count": 3,
   "metadata": {},
   "outputs": [],
   "source": [
    "df = pd.read_csv('data/panel_data_04_05.csv')"
   ]
  },
  {
   "cell_type": "markdown",
   "metadata": {},
   "source": [
    "# Prepare variables for the analysis"
   ]
  },
  {
   "cell_type": "markdown",
   "metadata": {},
   "source": [
    "## Format the last active date"
   ]
  },
  {
   "cell_type": "code",
   "execution_count": 4,
   "metadata": {},
   "outputs": [],
   "source": [
    "df['last_active'] = pd.to_datetime(df.last_active, dayfirst=True)"
   ]
  },
  {
   "cell_type": "markdown",
   "metadata": {},
   "source": [
    "## Remove useless features"
   ]
  },
  {
   "cell_type": "code",
   "execution_count": 5,
   "metadata": {},
   "outputs": [],
   "source": [
    "df = df.drop(['description', 'city'], axis=1)"
   ]
  },
  {
   "cell_type": "markdown",
   "metadata": {},
   "source": [
    "## Format the gender"
   ]
  },
  {
   "cell_type": "code",
   "execution_count": 6,
   "metadata": {},
   "outputs": [],
   "source": [
    "df = df.replace({'gender':{'male':0, 'female':1, 'unknown':2}})"
   ]
  },
  {
   "cell_type": "markdown",
   "metadata": {},
   "source": [
    "## Create dummy variables for the country\n",
    "\n",
    "Start by removing the space at the beginning of the country string, then creating the dummy variables"
   ]
  },
  {
   "cell_type": "code",
   "execution_count": 7,
   "metadata": {},
   "outputs": [],
   "source": [
    "df['country'] = df['country'].apply(lambda x: x.strip())"
   ]
  },
  {
   "cell_type": "code",
   "execution_count": 8,
   "metadata": {},
   "outputs": [],
   "source": [
    "country_dummies = pd.get_dummies(df.country)"
   ]
  },
  {
   "cell_type": "code",
   "execution_count": 9,
   "metadata": {},
   "outputs": [],
   "source": [
    "old_cols = list(country_dummies.columns)\n",
    "country_dummies.columns = [country+'_country' for country in old_cols]"
   ]
  },
  {
   "cell_type": "markdown",
   "metadata": {},
   "source": [
    "## Create dummy variables for the skills"
   ]
  },
  {
   "cell_type": "code",
   "execution_count": 10,
   "metadata": {},
   "outputs": [],
   "source": [
    "available_skill = {}\n",
    "skills = np.array(df.skills)\n",
    "for profile_skill in skills:\n",
    "    profile_skill = ast.literal_eval(profile_skill)\n",
    "    if len(profile_skill)>0:\n",
    "        for skill in profile_skill:\n",
    "            if skill not in available_skill:\n",
    "                available_skill[skill]=1\n",
    "            else:\n",
    "                available_skill[skill]+=1"
   ]
  },
  {
   "cell_type": "code",
   "execution_count": 11,
   "metadata": {},
   "outputs": [],
   "source": [
    "sk = np.array(list(available_skill.keys()))\n",
    "count_sk = np.array(list(available_skill.values()))\n",
    "sorted_count_sk = np.argsort(-count_sk)\n",
    "most_imp_sk = sk[sorted_count_sk]\n",
    "top_100_sk = most_imp_sk[:100]"
   ]
  },
  {
   "cell_type": "code",
   "execution_count": 12,
   "metadata": {},
   "outputs": [],
   "source": [
    "skills_dummies = pd.DataFrame()\n",
    "for top_skill in top_100_sk:\n",
    "    skills_dummies[top_skill+'_skill'] = df['skills'].apply(lambda x: top_skill in x).astype(int)"
   ]
  },
  {
   "cell_type": "markdown",
   "metadata": {},
   "source": [
    "## Create dummy variables for the industry expertise"
   ]
  },
  {
   "cell_type": "code",
   "execution_count": 13,
   "metadata": {},
   "outputs": [],
   "source": [
    "available_expertise = {}\n",
    "industry_expertise = np.array(df.industry_expertise)\n",
    "for profile_expertise in industry_expertise:\n",
    "    profile_expertise = ast.literal_eval(profile_expertise)\n",
    "    if len(profile_expertise)>0:\n",
    "        for expertise in profile_expertise:\n",
    "            if expertise not in available_expertise:\n",
    "                available_expertise[expertise] = 1\n",
    "            else:\n",
    "                available_expertise[expertise] += 1"
   ]
  },
  {
   "cell_type": "code",
   "execution_count": 14,
   "metadata": {},
   "outputs": [],
   "source": [
    "expertises = np.array(list(available_expertise.keys()))"
   ]
  },
  {
   "cell_type": "code",
   "execution_count": 15,
   "metadata": {},
   "outputs": [],
   "source": [
    "exper_dummies = pd.DataFrame()\n",
    "for exper in expertises:\n",
    "    exper_dummies[exper+'_exper'] = df['industry_expertise'].apply(lambda x: exper in x).astype(int)"
   ]
  },
  {
   "cell_type": "markdown",
   "metadata": {},
   "source": [
    "## Create dummy variables for the languages spoken"
   ]
  },
  {
   "cell_type": "code",
   "execution_count": 16,
   "metadata": {},
   "outputs": [],
   "source": [
    "available_languages = {}\n",
    "languages = np.array(df.languages)\n",
    "for profile_languages in languages:\n",
    "    profile_languages = ast.literal_eval(profile_languages)\n",
    "    if len(profile_languages)>0:\n",
    "        for language in profile_languages:\n",
    "            if language not in available_languages:\n",
    "                available_languages[language] = 1\n",
    "            else:\n",
    "                available_languages[language] += 1"
   ]
  },
  {
   "cell_type": "code",
   "execution_count": 17,
   "metadata": {},
   "outputs": [],
   "source": [
    "languages = np.array(list(available_languages.keys()))"
   ]
  },
  {
   "cell_type": "code",
   "execution_count": 18,
   "metadata": {},
   "outputs": [],
   "source": [
    "languages_dummies = pd.DataFrame()\n",
    "for lang in languages:\n",
    "    languages_dummies[lang+'_lang'] = df['languages'].apply(lambda x: lang in x).astype(int)"
   ]
  },
  {
   "cell_type": "markdown",
   "metadata": {},
   "source": [
    "# Merge all the dummy variables in one dataframe"
   ]
  },
  {
   "cell_type": "code",
   "execution_count": 19,
   "metadata": {},
   "outputs": [],
   "source": [
    "data = pd.concat([df, country_dummies, skills_dummies, exper_dummies, languages_dummies], axis=1)"
   ]
  },
  {
   "cell_type": "markdown",
   "metadata": {},
   "source": [
    "# Prepare the data for the regression"
   ]
  },
  {
   "cell_type": "markdown",
   "metadata": {},
   "source": [
    "## Remove the 'unknown' gender"
   ]
  },
  {
   "cell_type": "code",
   "execution_count": 20,
   "metadata": {},
   "outputs": [],
   "source": [
    "data = data[data.gender<2]"
   ]
  },
  {
   "cell_type": "markdown",
   "metadata": {},
   "source": [
    "## Keep only the active profiles"
   ]
  },
  {
   "cell_type": "markdown",
   "metadata": {},
   "source": [
    "### Remove profiles with no projects"
   ]
  },
  {
   "cell_type": "code",
   "execution_count": 21,
   "metadata": {},
   "outputs": [],
   "source": [
    "data = data.drop(data.loc[data['nb_projects']==0].index)"
   ]
  },
  {
   "cell_type": "markdown",
   "metadata": {},
   "source": [
    "### Keep recently active profiles"
   ]
  },
  {
   "cell_type": "code",
   "execution_count": 22,
   "metadata": {
    "scrolled": true
   },
   "outputs": [],
   "source": [
    "threshold = datetime.datetime.strptime('2021-03-26', '%Y-%m-%d')\n",
    "data['last_active'] = (data.last_active>threshold).astype(int)"
   ]
  },
  {
   "cell_type": "code",
   "execution_count": 23,
   "metadata": {},
   "outputs": [],
   "source": [
    "data = data.reset_index(drop=True)"
   ]
  },
  {
   "cell_type": "markdown",
   "metadata": {},
   "source": [
    "## Remove string features"
   ]
  },
  {
   "cell_type": "markdown",
   "metadata": {},
   "source": [
    "We have to keep the name for the panel data but not for the simple data set"
   ]
  },
  {
   "cell_type": "code",
   "execution_count": 24,
   "metadata": {},
   "outputs": [],
   "source": [
    "data = data.drop(['languages', 'skills', 'industry_expertise', 'country'], axis=1)"
   ]
  },
  {
   "cell_type": "markdown",
   "metadata": {},
   "source": [
    "## Remove columns with only 0s"
   ]
  },
  {
   "cell_type": "code",
   "execution_count": 25,
   "metadata": {},
   "outputs": [],
   "source": [
    "unwanted = [cols for cols in data.columns if data[cols].sum()==0]"
   ]
  },
  {
   "cell_type": "code",
   "execution_count": 26,
   "metadata": {},
   "outputs": [
    {
     "data": {
      "text/plain": [
       "60"
      ]
     },
     "execution_count": 26,
     "metadata": {},
     "output_type": "execute_result"
    }
   ],
   "source": [
    "len(unwanted)"
   ]
  },
  {
   "cell_type": "code",
   "execution_count": 27,
   "metadata": {},
   "outputs": [],
   "source": [
    "data = data.drop(unwanted, axis=1)"
   ]
  },
  {
   "cell_type": "code",
   "execution_count": 28,
   "metadata": {
    "scrolled": false
   },
   "outputs": [
    {
     "data": {
      "text/html": [
       "<div>\n",
       "<style scoped>\n",
       "    .dataframe tbody tr th:only-of-type {\n",
       "        vertical-align: middle;\n",
       "    }\n",
       "\n",
       "    .dataframe tbody tr th {\n",
       "        vertical-align: top;\n",
       "    }\n",
       "\n",
       "    .dataframe thead th {\n",
       "        text-align: right;\n",
       "    }\n",
       "</style>\n",
       "<table border=\"1\" class=\"dataframe\">\n",
       "  <thead>\n",
       "    <tr style=\"text-align: right;\">\n",
       "      <th></th>\n",
       "      <th>name</th>\n",
       "      <th>rating</th>\n",
       "      <th>nb_reviews</th>\n",
       "      <th>Price/hour in USD</th>\n",
       "      <th>nb_projects</th>\n",
       "      <th>nb_buyers</th>\n",
       "      <th>last_active</th>\n",
       "      <th>gender</th>\n",
       "      <th>score</th>\n",
       "      <th>scraping_date</th>\n",
       "      <th>...</th>\n",
       "      <th>Somali_lang</th>\n",
       "      <th>Assamese_lang</th>\n",
       "      <th>Southern_lang</th>\n",
       "      <th>Sotho_lang</th>\n",
       "      <th>Zulu_lang</th>\n",
       "      <th>Nynorsk_lang</th>\n",
       "      <th>Twi_lang</th>\n",
       "      <th>Nyanja_lang</th>\n",
       "      <th>Akan_lang</th>\n",
       "      <th>Khmer_lang</th>\n",
       "    </tr>\n",
       "  </thead>\n",
       "  <tbody>\n",
       "    <tr>\n",
       "      <th>0</th>\n",
       "      <td>Maria H.</td>\n",
       "      <td>4.9</td>\n",
       "      <td>4694</td>\n",
       "      <td>34.74</td>\n",
       "      <td>7672</td>\n",
       "      <td>4168</td>\n",
       "      <td>1</td>\n",
       "      <td>1</td>\n",
       "      <td>10.043</td>\n",
       "      <td>26-04-2021</td>\n",
       "      <td>...</td>\n",
       "      <td>0</td>\n",
       "      <td>0</td>\n",
       "      <td>0</td>\n",
       "      <td>0</td>\n",
       "      <td>0</td>\n",
       "      <td>0</td>\n",
       "      <td>0</td>\n",
       "      <td>0</td>\n",
       "      <td>0</td>\n",
       "      <td>0</td>\n",
       "    </tr>\n",
       "    <tr>\n",
       "      <th>1</th>\n",
       "      <td>Maria H.</td>\n",
       "      <td>4.9</td>\n",
       "      <td>4745</td>\n",
       "      <td>35.21</td>\n",
       "      <td>7727</td>\n",
       "      <td>4204</td>\n",
       "      <td>1</td>\n",
       "      <td>1</td>\n",
       "      <td>10.054</td>\n",
       "      <td>17-05-2021</td>\n",
       "      <td>...</td>\n",
       "      <td>0</td>\n",
       "      <td>0</td>\n",
       "      <td>0</td>\n",
       "      <td>0</td>\n",
       "      <td>0</td>\n",
       "      <td>0</td>\n",
       "      <td>0</td>\n",
       "      <td>0</td>\n",
       "      <td>0</td>\n",
       "      <td>0</td>\n",
       "    </tr>\n",
       "    <tr>\n",
       "      <th>2</th>\n",
       "      <td>Jessica O'Neill</td>\n",
       "      <td>5.0</td>\n",
       "      <td>1215</td>\n",
       "      <td>76.42</td>\n",
       "      <td>1541</td>\n",
       "      <td>878</td>\n",
       "      <td>1</td>\n",
       "      <td>1</td>\n",
       "      <td>8.712</td>\n",
       "      <td>26-04-2021</td>\n",
       "      <td>...</td>\n",
       "      <td>0</td>\n",
       "      <td>0</td>\n",
       "      <td>0</td>\n",
       "      <td>0</td>\n",
       "      <td>0</td>\n",
       "      <td>0</td>\n",
       "      <td>0</td>\n",
       "      <td>0</td>\n",
       "      <td>0</td>\n",
       "      <td>0</td>\n",
       "    </tr>\n",
       "    <tr>\n",
       "      <th>3</th>\n",
       "      <td>Jessica O'Neill</td>\n",
       "      <td>5.0</td>\n",
       "      <td>1220</td>\n",
       "      <td>77.47</td>\n",
       "      <td>1546</td>\n",
       "      <td>880</td>\n",
       "      <td>1</td>\n",
       "      <td>1</td>\n",
       "      <td>8.716</td>\n",
       "      <td>17-05-2021</td>\n",
       "      <td>...</td>\n",
       "      <td>0</td>\n",
       "      <td>0</td>\n",
       "      <td>0</td>\n",
       "      <td>0</td>\n",
       "      <td>0</td>\n",
       "      <td>0</td>\n",
       "      <td>0</td>\n",
       "      <td>0</td>\n",
       "      <td>0</td>\n",
       "      <td>0</td>\n",
       "    </tr>\n",
       "    <tr>\n",
       "      <th>4</th>\n",
       "      <td>Scott Anfield</td>\n",
       "      <td>4.9</td>\n",
       "      <td>1719</td>\n",
       "      <td>20.84</td>\n",
       "      <td>1750</td>\n",
       "      <td>1071</td>\n",
       "      <td>1</td>\n",
       "      <td>0</td>\n",
       "      <td>9.039</td>\n",
       "      <td>26-04-2021</td>\n",
       "      <td>...</td>\n",
       "      <td>0</td>\n",
       "      <td>0</td>\n",
       "      <td>0</td>\n",
       "      <td>0</td>\n",
       "      <td>0</td>\n",
       "      <td>0</td>\n",
       "      <td>0</td>\n",
       "      <td>0</td>\n",
       "      <td>0</td>\n",
       "      <td>0</td>\n",
       "    </tr>\n",
       "    <tr>\n",
       "      <th>...</th>\n",
       "      <td>...</td>\n",
       "      <td>...</td>\n",
       "      <td>...</td>\n",
       "      <td>...</td>\n",
       "      <td>...</td>\n",
       "      <td>...</td>\n",
       "      <td>...</td>\n",
       "      <td>...</td>\n",
       "      <td>...</td>\n",
       "      <td>...</td>\n",
       "      <td>...</td>\n",
       "      <td>...</td>\n",
       "      <td>...</td>\n",
       "      <td>...</td>\n",
       "      <td>...</td>\n",
       "      <td>...</td>\n",
       "      <td>...</td>\n",
       "      <td>...</td>\n",
       "      <td>...</td>\n",
       "      <td>...</td>\n",
       "      <td>...</td>\n",
       "    </tr>\n",
       "    <tr>\n",
       "      <th>11655</th>\n",
       "      <td>Goggle Software Ltd</td>\n",
       "      <td>5.0</td>\n",
       "      <td>31</td>\n",
       "      <td>70.42</td>\n",
       "      <td>26</td>\n",
       "      <td>22</td>\n",
       "      <td>1</td>\n",
       "      <td>0</td>\n",
       "      <td>5.050</td>\n",
       "      <td>17-05-2021</td>\n",
       "      <td>...</td>\n",
       "      <td>0</td>\n",
       "      <td>0</td>\n",
       "      <td>0</td>\n",
       "      <td>0</td>\n",
       "      <td>0</td>\n",
       "      <td>0</td>\n",
       "      <td>0</td>\n",
       "      <td>0</td>\n",
       "      <td>0</td>\n",
       "      <td>0</td>\n",
       "    </tr>\n",
       "    <tr>\n",
       "      <th>11656</th>\n",
       "      <td>Ahmad Raza</td>\n",
       "      <td>4.7</td>\n",
       "      <td>18</td>\n",
       "      <td>41.68</td>\n",
       "      <td>25</td>\n",
       "      <td>18</td>\n",
       "      <td>0</td>\n",
       "      <td>0</td>\n",
       "      <td>4.450</td>\n",
       "      <td>26-04-2021</td>\n",
       "      <td>...</td>\n",
       "      <td>0</td>\n",
       "      <td>0</td>\n",
       "      <td>0</td>\n",
       "      <td>0</td>\n",
       "      <td>0</td>\n",
       "      <td>0</td>\n",
       "      <td>0</td>\n",
       "      <td>0</td>\n",
       "      <td>0</td>\n",
       "      <td>0</td>\n",
       "    </tr>\n",
       "    <tr>\n",
       "      <th>11657</th>\n",
       "      <td>Ahmad Raza</td>\n",
       "      <td>4.7</td>\n",
       "      <td>18</td>\n",
       "      <td>42.25</td>\n",
       "      <td>25</td>\n",
       "      <td>18</td>\n",
       "      <td>1</td>\n",
       "      <td>0</td>\n",
       "      <td>4.450</td>\n",
       "      <td>17-05-2021</td>\n",
       "      <td>...</td>\n",
       "      <td>0</td>\n",
       "      <td>0</td>\n",
       "      <td>0</td>\n",
       "      <td>0</td>\n",
       "      <td>0</td>\n",
       "      <td>0</td>\n",
       "      <td>0</td>\n",
       "      <td>0</td>\n",
       "      <td>0</td>\n",
       "      <td>0</td>\n",
       "    </tr>\n",
       "    <tr>\n",
       "      <th>11658</th>\n",
       "      <td>Paul Waters</td>\n",
       "      <td>5.0</td>\n",
       "      <td>6</td>\n",
       "      <td>41.68</td>\n",
       "      <td>5</td>\n",
       "      <td>5</td>\n",
       "      <td>0</td>\n",
       "      <td>0</td>\n",
       "      <td>3.434</td>\n",
       "      <td>26-04-2021</td>\n",
       "      <td>...</td>\n",
       "      <td>0</td>\n",
       "      <td>0</td>\n",
       "      <td>0</td>\n",
       "      <td>0</td>\n",
       "      <td>0</td>\n",
       "      <td>0</td>\n",
       "      <td>0</td>\n",
       "      <td>0</td>\n",
       "      <td>0</td>\n",
       "      <td>0</td>\n",
       "    </tr>\n",
       "    <tr>\n",
       "      <th>11659</th>\n",
       "      <td>Paul Waters</td>\n",
       "      <td>5.0</td>\n",
       "      <td>6</td>\n",
       "      <td>42.25</td>\n",
       "      <td>5</td>\n",
       "      <td>5</td>\n",
       "      <td>0</td>\n",
       "      <td>0</td>\n",
       "      <td>3.434</td>\n",
       "      <td>17-05-2021</td>\n",
       "      <td>...</td>\n",
       "      <td>0</td>\n",
       "      <td>0</td>\n",
       "      <td>0</td>\n",
       "      <td>0</td>\n",
       "      <td>0</td>\n",
       "      <td>0</td>\n",
       "      <td>0</td>\n",
       "      <td>0</td>\n",
       "      <td>0</td>\n",
       "      <td>0</td>\n",
       "    </tr>\n",
       "  </tbody>\n",
       "</table>\n",
       "<p>11660 rows × 392 columns</p>\n",
       "</div>"
      ],
      "text/plain": [
       "                      name  rating  nb_reviews  Price/hour in USD  \\\n",
       "0                 Maria H.     4.9        4694              34.74   \n",
       "1                 Maria H.     4.9        4745              35.21   \n",
       "2          Jessica O'Neill     5.0        1215              76.42   \n",
       "3          Jessica O'Neill     5.0        1220              77.47   \n",
       "4            Scott Anfield     4.9        1719              20.84   \n",
       "...                    ...     ...         ...                ...   \n",
       "11655  Goggle Software Ltd     5.0          31              70.42   \n",
       "11656           Ahmad Raza     4.7          18              41.68   \n",
       "11657           Ahmad Raza     4.7          18              42.25   \n",
       "11658          Paul Waters     5.0           6              41.68   \n",
       "11659          Paul Waters     5.0           6              42.25   \n",
       "\n",
       "       nb_projects  nb_buyers  last_active  gender   score scraping_date  ...  \\\n",
       "0             7672       4168            1       1  10.043    26-04-2021  ...   \n",
       "1             7727       4204            1       1  10.054    17-05-2021  ...   \n",
       "2             1541        878            1       1   8.712    26-04-2021  ...   \n",
       "3             1546        880            1       1   8.716    17-05-2021  ...   \n",
       "4             1750       1071            1       0   9.039    26-04-2021  ...   \n",
       "...            ...        ...          ...     ...     ...           ...  ...   \n",
       "11655           26         22            1       0   5.050    17-05-2021  ...   \n",
       "11656           25         18            0       0   4.450    26-04-2021  ...   \n",
       "11657           25         18            1       0   4.450    17-05-2021  ...   \n",
       "11658            5          5            0       0   3.434    26-04-2021  ...   \n",
       "11659            5          5            0       0   3.434    17-05-2021  ...   \n",
       "\n",
       "       Somali_lang  Assamese_lang  Southern_lang  Sotho_lang  Zulu_lang  \\\n",
       "0                0              0              0           0          0   \n",
       "1                0              0              0           0          0   \n",
       "2                0              0              0           0          0   \n",
       "3                0              0              0           0          0   \n",
       "4                0              0              0           0          0   \n",
       "...            ...            ...            ...         ...        ...   \n",
       "11655            0              0              0           0          0   \n",
       "11656            0              0              0           0          0   \n",
       "11657            0              0              0           0          0   \n",
       "11658            0              0              0           0          0   \n",
       "11659            0              0              0           0          0   \n",
       "\n",
       "       Nynorsk_lang  Twi_lang  Nyanja_lang  Akan_lang  Khmer_lang  \n",
       "0                 0         0            0          0           0  \n",
       "1                 0         0            0          0           0  \n",
       "2                 0         0            0          0           0  \n",
       "3                 0         0            0          0           0  \n",
       "4                 0         0            0          0           0  \n",
       "...             ...       ...          ...        ...         ...  \n",
       "11655             0         0            0          0           0  \n",
       "11656             0         0            0          0           0  \n",
       "11657             0         0            0          0           0  \n",
       "11658             0         0            0          0           0  \n",
       "11659             0         0            0          0           0  \n",
       "\n",
       "[11660 rows x 392 columns]"
      ]
     },
     "execution_count": 28,
     "metadata": {},
     "output_type": "execute_result"
    }
   ],
   "source": [
    "data"
   ]
  },
  {
   "cell_type": "code",
   "execution_count": 29,
   "metadata": {},
   "outputs": [],
   "source": [
    "data.to_csv('data/dummies_panel.csv', index=False)"
   ]
  },
  {
   "cell_type": "code",
   "execution_count": null,
   "metadata": {},
   "outputs": [],
   "source": []
  }
 ],
 "metadata": {
  "kernelspec": {
   "display_name": "Python 3",
   "language": "python",
   "name": "python3"
  },
  "language_info": {
   "codemirror_mode": {
    "name": "ipython",
    "version": 3
   },
   "file_extension": ".py",
   "mimetype": "text/x-python",
   "name": "python",
   "nbconvert_exporter": "python",
   "pygments_lexer": "ipython3",
   "version": "3.7.2"
  },
  "toc": {
   "base_numbering": 1,
   "nav_menu": {},
   "number_sections": true,
   "sideBar": true,
   "skip_h1_title": false,
   "title_cell": "Table of Contents",
   "title_sidebar": "Contents",
   "toc_cell": false,
   "toc_position": {},
   "toc_section_display": true,
   "toc_window_display": true
  },
  "varInspector": {
   "cols": {
    "lenName": 16,
    "lenType": 16,
    "lenVar": 40
   },
   "kernels_config": {
    "python": {
     "delete_cmd_postfix": "",
     "delete_cmd_prefix": "del ",
     "library": "var_list.py",
     "varRefreshCmd": "print(var_dic_list())"
    },
    "r": {
     "delete_cmd_postfix": ") ",
     "delete_cmd_prefix": "rm(",
     "library": "var_list.r",
     "varRefreshCmd": "cat(var_dic_list()) "
    }
   },
   "types_to_exclude": [
    "module",
    "function",
    "builtin_function_or_method",
    "instance",
    "_Feature"
   ],
   "window_display": false
  }
 },
 "nbformat": 4,
 "nbformat_minor": 2
}
